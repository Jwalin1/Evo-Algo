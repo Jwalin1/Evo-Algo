{
  "nbformat": 4,
  "nbformat_minor": 0,
  "metadata": {
    "colab": {
      "name": "ColorSort.ipynb",
      "provenance": [],
      "collapsed_sections": []
    },
    "kernelspec": {
      "name": "python3",
      "display_name": "Python 3"
    },
    "language_info": {
      "name": "python"
    }
  },
  "cells": [
    {
      "cell_type": "code",
      "metadata": {
        "id": "0N7CJRVf7Flm"
      },
      "source": [
        "import matplotlib.pyplot as plt"
      ],
      "execution_count": 1,
      "outputs": []
    },
    {
      "cell_type": "code",
      "metadata": {
        "id": "684wA4rF7CFh"
      },
      "source": [
        "# exmaple 1\n",
        "original_tubes = [\n",
        "          ['p','b','r','p'],\n",
        "          ['y','g','g','r'],\n",
        "          ['0']*4,  ['0']*4,\n",
        "          ['p','y','y','r'],\n",
        "          ['b','g','r','p'],\n",
        "          ['b','b','y','g'],\n",
        "]"
      ],
      "execution_count": 2,
      "outputs": []
    },
    {
      "cell_type": "code",
      "metadata": {
        "id": "ZdtVR1NNJWe6"
      },
      "source": [
        "def copytubes(tubes):\n",
        "  new_tubes = [list(tube) for tube in tubes]\n",
        "  return new_tubes"
      ],
      "execution_count": 3,
      "outputs": []
    },
    {
      "cell_type": "code",
      "metadata": {
        "id": "RvFC9JfcB1x9"
      },
      "source": [
        "def replaceColors(tubes, colrs):\n",
        "  for tube in tubes:\n",
        "    for i,colr in enumerate(tube):\n",
        "      if colr != '0':\n",
        "        tube[i] = colrs[colr]\n",
        "  return tubes"
      ],
      "execution_count": 6,
      "outputs": []
    },
    {
      "cell_type": "code",
      "metadata": {
        "id": "JTArcD_p-XPQ"
      },
      "source": [
        "colrs = {'p':\"pink\", 'b':\"blue\", 'r':\"red\", 'y':\"yellow\", 'g':\"green\"}\n",
        "original_tubes = replaceColors(original_tubes, colrs)"
      ],
      "execution_count": 19,
      "outputs": []
    },
    {
      "cell_type": "code",
      "metadata": {
        "id": "h7MdIhsY94I_"
      },
      "source": [
        "def plot_tubes(tubes):\n",
        "  n_plots = len(tubes)//5 + 1\n",
        "  fig, axs = plt.subplots(1,n_plots, figsize=(10,3))\n",
        "\n",
        "  for ax in axs:\n",
        "    ax.set_xlim([-0.5,4.5])\n",
        "\n",
        "  for i,tube in enumerate(tubes):\n",
        "    for j,colr in enumerate(reversed(tube)):\n",
        "      if colr != '0':\n",
        "        axs[i//5].bar(str(i+1), 1, bottom=j, color=colr, width=0.5, edgecolor='k')\n",
        "      else:\n",
        "        axs[i//5].bar(str(i+1), 1, bottom=j, fc=[1,1,1,0], width=0.5, edgecolor='k')\n",
        "  plt.show()      "
      ],
      "execution_count": 8,
      "outputs": []
    },
    {
      "cell_type": "code",
      "metadata": {
        "colab": {
          "base_uri": "https://localhost:8080/",
          "height": 211
        },
        "id": "B0aphicwF8CL",
        "outputId": "49cffe70-b89a-4976-caf2-fc062bb8a4e7"
      },
      "source": [
        "plot_tubes(original_tubes)"
      ],
      "execution_count": 9,
      "outputs": [
        {
          "output_type": "display_data",
          "data": {
            "image/png": "[encoded data removed]",
            "text/plain": [
              "<Figure size 720x216 with 2 Axes>"
            ]
          },
          "metadata": {
            "tags": [],
            "needs_background": "light"
          }
        }
      ]
    },
    {
      "cell_type": "code",
      "metadata": {
        "id": "dlU3UkcCNnLJ"
      },
      "source": [
        "def nonEmptyIndex(tube):\n",
        "  i=0\n",
        "  while i in range(len(tube)):\n",
        "    if tube[i] != '0':\n",
        "      break\n",
        "    i+=1  \n",
        "  return i"
      ],
      "execution_count": 15,
      "outputs": []
    },
    {
      "cell_type": "code",
      "metadata": {
        "id": "BZspP4lmC19k"
      },
      "source": [
        "def check_transfer(tube1,tube2):\n",
        "\n",
        "  # check if colr matches\n",
        "  t1_indx = nonEmptyIndex(tube1)\n",
        "  t2_indx = nonEmptyIndex(tube2)\n",
        "\n",
        "  if t1_indx == len(tube1):  # tube1 should not be empty\n",
        "    return False\n",
        "  elif t2_indx == 0:  # tube2 should not be full\n",
        "    return False\n",
        "\n",
        "  t1_colr = tube1[t1_indx]\n",
        "  if t2_indx < len(tube2):  # if tube not empty\n",
        "    t2_colr = tube2[t2_indx]\n",
        "    if t1_colr != t2_colr:  # check if color matches\n",
        "      return False\n",
        "  else:   # if tube empty\n",
        "    if allSame([tube1]):  # if all same\n",
        "      return False\n",
        "\n",
        "  return True"
      ],
      "execution_count": 10,
      "outputs": []
    },
    {
      "cell_type": "code",
      "metadata": {
        "id": "Gs6nCahuhylh"
      },
      "source": [
        "def transfer(tube1,tube2):\n",
        "\n",
        "  # check if colr matches\n",
        "  t1_indx = nonEmptyIndex(tube1)\n",
        "  t2_indx = nonEmptyIndex(tube2)\n",
        "  t1_colr = tube1[t1_indx]\n",
        "\n",
        "\n",
        "  if t2_indx < len(tube2):  # if tube not empty\n",
        "    t2_colr = tube2[t2_indx]\n",
        "    # calc chunk size\n",
        "    chunk_size = 1\n",
        "    i = t2_indx + 1\n",
        "    while i < len(tube2) and tube2[i] == t2_colr:\n",
        "      chunk_size += 1\n",
        "      i += 1\n",
        "  else:\n",
        "    chunk_size = 0\n",
        "\n",
        "  i = t1_indx\n",
        "  while i in range(len(tube1)):\n",
        "    j = (t2_indx-1) - (i-t1_indx)\n",
        "    if (tube1[i] != t1_colr) or (j == -1):\n",
        "      break\n",
        "    tube2[j] = tube1[i]\n",
        "    tube1[i] = '0'\n",
        "    i+=1\n",
        "    chunk_size += 1\n",
        "\n",
        "  return tube1,tube2, chunk_size"
      ],
      "execution_count": 21,
      "outputs": []
    },
    {
      "cell_type": "code",
      "metadata": {
        "id": "c35wpgFPueGa"
      },
      "source": [
        "def allSame(tubes):\n",
        "  same = True\n",
        "  colrs = []\n",
        "  for tube in tubes:\n",
        "    t_indx = nonEmptyIndex(tube)\n",
        "    if t_indx == len(tube):  # all same if tube empty\n",
        "      continue\n",
        "\n",
        "    colr1 = tube[t_indx]\n",
        "    colrs.append(colr1)\n",
        "    t_indx += 1\n",
        "    while t_indx in range(len(tube)):\n",
        "      if tube[t_indx] != colr1:\n",
        "        return False\n",
        "      t_indx += 1\n",
        "\n",
        "  if len(colrs) > len(set(colrs)):\n",
        "    return False\n",
        "  return same"
      ],
      "execution_count": 22,
      "outputs": []
    },
    {
      "cell_type": "code",
      "metadata": {
        "id": "Ohv_vSJBGXyG"
      },
      "source": [
        "def playGame(original_tubes, moves=None):\n",
        "  tubes = copytubes(original_tubes)\n",
        "\n",
        "  move_indx = 0\n",
        "  while True:\n",
        "    plot_tubes(tubes)\n",
        "    if allSame(tubes):\n",
        "      break\n",
        "\n",
        "    if moves is None:\n",
        "      i = int(input(\"enter tube to transfer from: \")) - 1\n",
        "      j = int(input(\"enter tube to transfer to: \")) - 1\n",
        "    else:\n",
        "      i = moves[move_indx][0]\n",
        "      j = moves[move_indx][1]\n",
        "      print(\"move:%d -> transfer tube%d to tube%d\"%(move_indx+1,i+1,j+1))\n",
        "    tube1, tube2 = tubes[i], tubes[j]\n",
        "\n",
        "    if check_transfer(tube1,tube2):\n",
        "      transfer(tube1,tube2)\n",
        "      move_indx += 1\n",
        "    else:\n",
        "      print(\"invalid move\")"
      ],
      "execution_count": 23,
      "outputs": []
    },
    {
      "cell_type": "code",
      "metadata": {
        "id": "MOWJTpErw_he"
      },
      "source": [
        "playGame(original_tubes)"
      ],
      "execution_count": null,
      "outputs": []
    }
  ]
}
