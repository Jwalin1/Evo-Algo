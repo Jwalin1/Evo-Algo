{
  "nbformat": 4,
  "nbformat_minor": 0,
  "metadata": {
    "colab": {
      "name": "ColorSort_img.ipynb",
      "provenance": [],
      "collapsed_sections": []
    },
    "kernelspec": {
      "name": "python3",
      "display_name": "Python 3"
    },
    "language_info": {
      "name": "python"
    }
  },
  "cells": [
    {
      "cell_type": "code",
      "metadata": {
        "id": "lpoFTSYs3u8l"
      },
      "source": [
        "import numpy as np\n",
        "import matplotlib.pyplot as plt\n",
        "from PIL import Image"
      ],
      "execution_count": null,
      "outputs": []
    },
    {
      "cell_type": "markdown",
      "metadata": {
        "id": "5M0mJFZvDCI9"
      },
      "source": [
        "### read image as np array"
      ]
    },
    {
      "cell_type": "code",
      "metadata": {
        "id": "jMG7Sc8g4DxO"
      },
      "source": [
        "def read_img(img_name):\n",
        "  tubes_img = plt.imread(img_name)\n",
        "  # resize image to the fixed size\n",
        "  tubes_img = tubes_img.resize((720, 1280), Image.ANTIALIAS)\n",
        "  # original image is write protected so need to make a copy\n",
        "  tubes_img = np.array(tubes_img).copy()\n",
        "  # crop the top part of the image\n",
        "  tubes_img = tubes_img[200:1200]\n",
        "  tubes_img = tubes_img.astype(\"float\") / 255\n",
        "  return tubes_img"
      ],
      "execution_count": null,
      "outputs": []
    },
    {
      "cell_type": "markdown",
      "metadata": {
        "id": "qwRt8LQBDJyl"
      },
      "source": [
        "### get colors between the tubes"
      ]
    },
    {
      "cell_type": "code",
      "metadata": {
        "id": "PeOLfK4r-11n"
      },
      "source": [
        "def get_tubes(tubes_img):\n",
        "  height, width, channels = tubes_img.shape\n",
        "  tubes = []\n",
        "  tube_indx = 0\n",
        "  n_tubes = 0\n",
        "\n",
        "  for i in range(height):\n",
        "    tube_start=False; tube_end=False\n",
        "    tube_seq=\"outside\"\n",
        "    found = False\n",
        "    for j in range(width):\n",
        "      if (tube_seq==\"outside\") and (np.mean(tubes_img[i,j]) > .785):\n",
        "        tube_seq=\"start\"\n",
        "      elif (tube_seq==\"start\") and (np.mean(tubes_img[i,j]) <= .785):\n",
        "        tube_start = j\n",
        "        tube_seq=\"inside\"\n",
        "      elif (tube_seq==\"inside\") and (np.mean(tubes_img[i,j]) > .785):\n",
        "          tube_end = j-1\n",
        "          tube_seq=\"end\"\n",
        "      elif (tube_seq==\"end\") and (np.mean(tubes_img[i,j]) <= .785):\n",
        "          tube_seq=\"outside\"\n",
        "\n",
        "      if (tube_seq==\"outside\") and tube_end:\n",
        "        tube_width = tube_end - tube_start\n",
        "        if (tube_width < 100) and (tube_width > 50):\n",
        "          mid = (tube_start + tube_end)//2\n",
        "          mid_colr = tubes_img[i,mid]\n",
        "          found = True\n",
        "          colr = list(mid_colr) if np.mean(mid_colr)>0.2 else [1,1,1]\n",
        "          if tube_indx < len(tubes):\n",
        "            tubes[tube_indx].append(colr)\n",
        "          else:\n",
        "            tubes.append([colr])\n",
        "          tube_indx += 1\n",
        "\n",
        "        tube_start=False; tube_end=False\n",
        "    # end width loop      \n",
        "    if found:\n",
        "      tube_indx = n_tubes\n",
        "    else:\n",
        "      n_tubes = len(tubes)\n",
        "      tube_indx = n_tubes\n",
        "\n",
        "  return tubes    "
      ],
      "execution_count": null,
      "outputs": []
    },
    {
      "cell_type": "markdown",
      "metadata": {
        "id": "KPk5BvHtDN4g"
      },
      "source": [
        "### only keep the colors with most frequency"
      ]
    },
    {
      "cell_type": "code",
      "metadata": {
        "id": "TY9Kxk0i4Ijc"
      },
      "source": [
        "def rem_extraColrs(tubes):\n",
        "  for i,tube in enumerate(tubes):\n",
        "    colrs, count = np.unique(tube, axis=0, return_counts=True)\n",
        "    # only keep colrs whose count is greater than threshold (30)\n",
        "    colrs = colrs[np.where(count>30)]\n",
        "    colrs = [list(colr) for colr in colrs]\n",
        "    new_tube = []\n",
        "    for colr in tube:\n",
        "      if colr in colrs:\n",
        "        new_tube.append(colr)\n",
        "\n",
        "    tubes[i] = new_tube"
      ],
      "execution_count": null,
      "outputs": []
    },
    {
      "cell_type": "code",
      "metadata": {
        "id": "QDS-bObBDbwU"
      },
      "source": [
        "def get_patchColrs(tubes):\n",
        "  for i,tube in enumerate(tubes):\n",
        "    center_pts = np.linspace(0,len(tube),6)[1:-1].astype(int)\n",
        "    new_tube = []\n",
        "    for pt in center_pts:\n",
        "      new_tube.append(tube[pt])\n",
        "    tubes[i] = new_tube"
      ],
      "execution_count": null,
      "outputs": []
    },
    {
      "cell_type": "code",
      "metadata": {
        "id": "JDlSTBnAIBqO"
      },
      "source": [
        "def process_img(img_name):\n",
        "  tubes_img = read_img(img_name)\n",
        "  tubes = get_tubes(tubes_img)\n",
        "  # inplace methods\n",
        "  rem_extraColrs(tubes)\n",
        "  get_patchColrs(tubes)\n",
        "  return tubes"
      ],
      "execution_count": null,
      "outputs": []
    },
    {
      "cell_type": "code",
      "metadata": {
        "id": "ReXkGV6UIyGj"
      },
      "source": [
        "# tubes_img = read_img(\"tubes.jpeg\")\n",
        "# plt.imshow(tubes_img)\n",
        "# tubes = process_img(\"tubes.jpeg\")"
      ],
      "execution_count": null,
      "outputs": []
    }
  ]
}
