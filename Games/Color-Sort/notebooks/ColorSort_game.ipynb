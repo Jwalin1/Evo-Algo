{
  "nbformat": 4,
  "nbformat_minor": 0,
  "metadata": {
    "colab": {
      "name": "ColorSort_game.ipynb",
      "provenance": [],
      "collapsed_sections": []
    },
    "kernelspec": {
      "name": "python3",
      "display_name": "Python 3"
    },
    "language_info": {
      "name": "python"
    }
  },
  "cells": [
    {
      "cell_type": "code",
      "metadata": {
        "id": "0N7CJRVf7Flm"
      },
      "source": [
        "import matplotlib.pyplot as plt"
      ],
      "execution_count": 1,
      "outputs": []
    },
    {
      "cell_type": "code",
      "metadata": {
        "id": "684wA4rF7CFh"
      },
      "source": [
        "# exmaple 1\n",
        "original_tubes = [\n",
        "          ['p','b','r','p'],\n",
        "          ['y','g','g','r'],\n",
        "          [[1,1,1]]*4,  [[1,1,1]]*4,\n",
        "          ['p','y','y','r'],\n",
        "          ['b','g','r','p'],\n",
        "          ['b','b','y','g'],\n",
        "]"
      ],
      "execution_count": 2,
      "outputs": []
    },
    {
      "cell_type": "code",
      "metadata": {
        "id": "ZdtVR1NNJWe6"
      },
      "source": [
        "def copytubes(tubes):\n",
        "  new_tubes = [list(tube) for tube in tubes]\n",
        "  return new_tubes"
      ],
      "execution_count": 3,
      "outputs": []
    },
    {
      "cell_type": "code",
      "metadata": {
        "id": "RvFC9JfcB1x9"
      },
      "source": [
        "def replaceColors(tubes, colrs):\n",
        "  for tube in tubes:\n",
        "    for i,colr in enumerate(tube):\n",
        "      if colr != [1,1,1]:\n",
        "        tube[i] = colrs[colr]\n",
        "  return tubes"
      ],
      "execution_count": 4,
      "outputs": []
    },
    {
      "cell_type": "code",
      "metadata": {
        "id": "JTArcD_p-XPQ"
      },
      "source": [
        "colrs = {'p':\"pink\", 'b':\"blue\", 'r':\"red\", 'y':\"yellow\", 'g':\"green\"}\n",
        "original_tubes = replaceColors(original_tubes, colrs)"
      ],
      "execution_count": 5,
      "outputs": []
    },
    {
      "cell_type": "code",
      "metadata": {
        "id": "h7MdIhsY94I_"
      },
      "source": [
        "def plot_tubes(tubes):\n",
        "  fig, axs = plt.subplots(1,2, figsize=(10,3))\n",
        "  n_tubes2 = len(tubes)//2\n",
        "  n_tubes1 = len(tubes) - n_tubes2\n",
        "\n",
        "  axs[0].set_xlim([-0.5,n_tubes1-0.5])\n",
        "  axs[1].set_xlim([-0.5,n_tubes1-0.5])\n",
        "\n",
        "  for i,tube in enumerate(tubes):\n",
        "    for j,colr in enumerate(reversed(tube)):\n",
        "      if colr != '0':\n",
        "        axs[i//n_tubes1].bar(str(i+1), 1, bottom=j, color=colr, width=0.5, edgecolor='k')\n",
        "      else:\n",
        "        axs[i//n_tubes1].bar(str(i+1), 1, bottom=j, fc=[1,1,1,0], width=0.5, edgecolor='k')\n",
        "  plt.show()"
      ],
      "execution_count": 6,
      "outputs": []
    },
    {
      "cell_type": "code",
      "metadata": {
        "colab": {
          "base_uri": "https://localhost:8080/",
          "height": 211
        },
        "id": "B0aphicwF8CL",
        "outputId": "6fad31fd-3c85-423e-d0b5-bd8380a284ea"
      },
      "source": [
        "plot_tubes(original_tubes)"
      ],
      "execution_count": null,
      "outputs": [
        {
          "output_type": "display_data",
          "data": {
            "image/png": "[encoded data removed]",
            "text/plain": [
              "<Figure size 720x216 with 2 Axes>"
            ]
          },
          "metadata": {
            "tags": [],
            "needs_background": "light"
          }
        }
      ]
    },
    {
      "cell_type": "code",
      "metadata": {
        "id": "dlU3UkcCNnLJ"
      },
      "source": [
        "def nonEmptyIndex(tube):\n",
        "  i=0\n",
        "  while i in range(len(tube)):\n",
        "    if tube[i] != [1,1,1]:\n",
        "      break\n",
        "      i+=1\n",
        "  return i"
      ],
      "execution_count": 7,
      "outputs": []
    },
    {
      "cell_type": "code",
      "metadata": {
        "id": "BZspP4lmC19k"
      },
      "source": [
        "def check_transfer(tube1,tube2):\n",
        "\n",
        "  # check if colr matches\n",
        "  t1_indx = nonEmptyIndex(tube1)\n",
        "  t2_indx = nonEmptyIndex(tube2)\n",
        "\n",
        "  if t1_indx == len(tube1):  # tube1 should not be empty\n",
        "    return False\n",
        "  elif t2_indx == 0:  # tube2 should not be full\n",
        "    return False\n",
        "\n",
        "  t1_colr = tube1[t1_indx]\n",
        "  if t2_indx < len(tube2):  # if tube not empty\n",
        "    t2_colr = tube2[t2_indx]\n",
        "    if t1_colr != t2_colr:  # check if color matches\n",
        "      return False\n",
        "  else:   # if tube empty\n",
        "    if allSame([tube1]):  # if all same\n",
        "      return False\n",
        "\n",
        "  return True"
      ],
      "execution_count": 8,
      "outputs": []
    },
    {
      "cell_type": "code",
      "metadata": {
        "id": "Gs6nCahuhylh"
      },
      "source": [
        "def transfer(tube1,tube2):\n",
        "\n",
        "  # check if colr matches\n",
        "  t1_indx = nonEmptyIndex(tube1)\n",
        "  t2_indx = nonEmptyIndex(tube2)\n",
        "  t1_colr = tube1[t1_indx]\n",
        "\n",
        "  i = t1_indx\n",
        "  while i in range(len(tube1)):\n",
        "    j = (t2_indx-1) - (i-t1_indx)\n",
        "    if (tube1[i] != t1_colr) or (j == -1):\n",
        "      break\n",
        "    tube2[j] = tube1[i]\n",
        "    tube1[i] = [1,1,1]\n",
        "    i+=1\n",
        "\n",
        "  return tube1,tube2"
      ],
      "execution_count": 10,
      "outputs": []
    },
    {
      "cell_type": "code",
      "metadata": {
        "id": "c35wpgFPueGa"
      },
      "source": [
        "def allSame(tubes):\n",
        "  colrs = []\n",
        "  for tube in tubes:\n",
        "    t_indx = nonEmptyIndex(tube)\n",
        "    if t_indx != len(tube):  # all same if tube empty    \n",
        "      colr = tube[t_indx]\n",
        "      for i in range(t_indx+1,len(tube)):\n",
        "        if tube[i] != colr:\n",
        "          return False\n",
        "      if colr not in colrs:\n",
        "        colrs.append(colr)\n",
        "      else:\n",
        "        return False  \n",
        "  return True"
      ],
      "execution_count": 12,
      "outputs": []
    },
    {
      "cell_type": "code",
      "metadata": {
        "id": "Cnc1PsntltC7"
      },
      "source": [
        "def tubes_score(tubes):\n",
        "  total_score = 0\n",
        "  for tube in tubes:\n",
        "    t_indx = nonEmptyIndex(tube)\n",
        "    if t_indx != len(tube):\n",
        "      score=1; colr=tube[t_indx]\n",
        "      for i in range(t_indx+1, len(tube)):\n",
        "        # for n consecutive colors in a tube\n",
        "        # score is given as 4^n\n",
        "        if tube[i] == colr:\n",
        "          score *= 4\n",
        "        else:\n",
        "          if score > 1:\n",
        "            total_score += score\n",
        "          colr = tube[i]\n",
        "          score = 1\n",
        "      if score > 1:\n",
        "        total_score += score\n",
        "    # subtract 1 for every empty tube\n",
        "    # so that initial moves would have higher score than tubes being empty\n",
        "    else:\n",
        "      total_score -= 1    \n",
        "  return total_score"
      ],
      "execution_count": 13,
      "outputs": []
    },
    {
      "cell_type": "code",
      "metadata": {
        "id": "Ohv_vSJBGXyG"
      },
      "source": [
        "def playGame(original_tubes, moves=None):\n",
        "  tubes = copytubes(original_tubes)\n",
        "\n",
        "  move_indx = 0\n",
        "  while True:\n",
        "    plot_tubes(tubes)\n",
        "    print(\"score : %d\"%(tubes_score(tubes)))\n",
        "    if allSame(tubes):\n",
        "      break\n",
        "\n",
        "    if moves is None:\n",
        "      i = int(input(\"enter tube to transfer from: \")) - 1\n",
        "      j = int(input(\"enter tube to transfer to: \")) - 1\n",
        "    else:\n",
        "      i = moves[move_indx][0]\n",
        "      j = moves[move_indx][1]\n",
        "      print(\"move:%d -> transfer tube%d to tube%d\"%(move_indx+1,i+1,j+1))\n",
        "    tube1, tube2 = tubes[i], tubes[j]\n",
        "\n",
        "    if check_transfer(tube1,tube2):\n",
        "      transfer(tube1,tube2)\n",
        "      move_indx += 1\n",
        "    else:\n",
        "      print(\"invalid move\")"
      ],
      "execution_count": 14,
      "outputs": []
    },
    {
      "cell_type": "code",
      "metadata": {
        "id": "MOWJTpErw_he",
        "colab": {
          "base_uri": "https://localhost:8080/",
          "height": 1000
        },
        "outputId": "29771c0a-8c48-4300-ae2e-898eba3d5c89"
      },
      "source": [
        "playGame(original_tubes)"
      ],
      "execution_count": 16,
      "outputs": [
        {
          "output_type": "display_data",
          "data": {
            "image/png": "[encoded data removed]",
            "text/plain": [
              "<Figure size 720x216 with 2 Axes>"
            ]
          },
          "metadata": {
            "tags": [],
            "needs_background": "light"
          }
        },
        {
          "output_type": "stream",
          "text": [
            "score : 10\n",
            "enter tube to transfer from: 7\n",
            "enter tube to transfer to: 3\n"
          ],
          "name": "stdout"
        },
        {
          "output_type": "display_data",
          "data": {
            "image/png": "[encoded data removed]",
            "text/plain": [
              "<Figure size 720x216 with 2 Axes>"
            ]
          },
          "metadata": {
            "tags": [],
            "needs_background": "light"
          }
        },
        {
          "output_type": "stream",
          "text": [
            "score : 11\n",
            "enter tube to transfer from: 6\n",
            "enter tube to transfer to: 3\n"
          ],
          "name": "stdout"
        },
        {
          "output_type": "display_data",
          "data": {
            "image/png": "[encoded data removed]",
            "text/plain": [
              "<Figure size 720x216 with 2 Axes>"
            ]
          },
          "metadata": {
            "tags": [],
            "needs_background": "light"
          }
        },
        {
          "output_type": "stream",
          "text": [
            "score : 23\n",
            "enter tube to transfer from: 1\n",
            "enter tube to transfer to: 4\n"
          ],
          "name": "stdout"
        },
        {
          "output_type": "display_data",
          "data": {
            "image/png": "[encoded data removed]",
            "text/plain": [
              "<Figure size 720x216 with 2 Axes>"
            ]
          },
          "metadata": {
            "tags": [],
            "needs_background": "light"
          }
        },
        {
          "output_type": "stream",
          "text": [
            "score : 24\n",
            "enter tube to transfer from: 5\n",
            "enter tube to transfer to: 4\n"
          ],
          "name": "stdout"
        },
        {
          "output_type": "display_data",
          "data": {
            "image/png": "[encoded data removed]",
            "text/plain": [
              "<Figure size 720x216 with 2 Axes>"
            ]
          },
          "metadata": {
            "tags": [],
            "needs_background": "light"
          }
        },
        {
          "output_type": "stream",
          "text": [
            "score : 28\n",
            "enter tube to transfer from: 1\n",
            "enter tube to transfer to: 3\n"
          ],
          "name": "stdout"
        },
        {
          "output_type": "display_data",
          "data": {
            "image/png": "[encoded data removed]",
            "text/plain": [
              "<Figure size 720x216 with 2 Axes>"
            ]
          },
          "metadata": {
            "tags": [],
            "needs_background": "light"
          }
        },
        {
          "output_type": "stream",
          "text": [
            "score : 76\n",
            "enter tube to transfer from: 5\n",
            "enter tube to transfer to: 7\n"
          ],
          "name": "stdout"
        },
        {
          "output_type": "display_data",
          "data": {
            "image/png": "[encoded data removed]",
            "text/plain": [
              "<Figure size 720x216 with 2 Axes>"
            ]
          },
          "metadata": {
            "tags": [],
            "needs_background": "light"
          }
        },
        {
          "output_type": "stream",
          "text": [
            "score : 88\n",
            "enter tube to transfer from: 1\n",
            "enter tube to transfer to: 5\n"
          ],
          "name": "stdout"
        },
        {
          "output_type": "display_data",
          "data": {
            "image/png": "[encoded data removed]",
            "text/plain": [
              "<Figure size 720x216 with 2 Axes>"
            ]
          },
          "metadata": {
            "tags": [],
            "needs_background": "light"
          }
        },
        {
          "output_type": "stream",
          "text": [
            "score : 92\n",
            "enter tube to transfer from: 1\n",
            "enter tube to transfer to: 4\n"
          ],
          "name": "stdout"
        },
        {
          "output_type": "display_data",
          "data": {
            "image/png": "[encoded data removed]",
            "text/plain": [
              "<Figure size 720x216 with 2 Axes>"
            ]
          },
          "metadata": {
            "tags": [],
            "needs_background": "light"
          }
        },
        {
          "output_type": "stream",
          "text": [
            "score : 103\n",
            "enter tube to transfer from: 7\n",
            "enter tube to transfer to: 1\n"
          ],
          "name": "stdout"
        },
        {
          "output_type": "display_data",
          "data": {
            "image/png": "[encoded data removed]",
            "text/plain": [
              "<Figure size 720x216 with 2 Axes>"
            ]
          },
          "metadata": {
            "tags": [],
            "needs_background": "light"
          }
        },
        {
          "output_type": "stream",
          "text": [
            "score : 104\n",
            "enter tube to transfer from: 2\n",
            "enter tube to transfer to: 1\n"
          ],
          "name": "stdout"
        },
        {
          "output_type": "display_data",
          "data": {
            "image/png": "[encoded data removed]",
            "text/plain": [
              "<Figure size 720x216 with 2 Axes>"
            ]
          },
          "metadata": {
            "tags": [],
            "needs_background": "light"
          }
        },
        {
          "output_type": "stream",
          "text": [
            "score : 152\n",
            "enter tube to transfer from: 2\n",
            "enter tube to transfer to: 7\n"
          ],
          "name": "stdout"
        },
        {
          "output_type": "display_data",
          "data": {
            "image/png": "[encoded data removed]",
            "text/plain": [
              "<Figure size 720x216 with 2 Axes>"
            ]
          },
          "metadata": {
            "tags": [],
            "needs_background": "light"
          }
        },
        {
          "output_type": "stream",
          "text": [
            "score : 164\n",
            "enter tube to transfer from: 6\n",
            "enter tube to transfer to: 7\n"
          ],
          "name": "stdout"
        },
        {
          "output_type": "display_data",
          "data": {
            "image/png": "[encoded data removed]",
            "text/plain": [
              "<Figure size 720x216 with 2 Axes>"
            ]
          },
          "metadata": {
            "tags": [],
            "needs_background": "light"
          }
        },
        {
          "output_type": "stream",
          "text": [
            "score : 212\n",
            "enter tube to transfer from: 2\n",
            "enter tube to transfer to: 5\n"
          ],
          "name": "stdout"
        },
        {
          "output_type": "display_data",
          "data": {
            "image/png": "[encoded data removed]",
            "text/plain": [
              "<Figure size 720x216 with 2 Axes>"
            ]
          },
          "metadata": {
            "tags": [],
            "needs_background": "light"
          }
        },
        {
          "output_type": "stream",
          "text": [
            "score : 223\n",
            "enter tube to transfer from: 6\n",
            "enter tube to transfer to: 5\n"
          ],
          "name": "stdout"
        },
        {
          "output_type": "display_data",
          "data": {
            "image/png": "[encoded data removed]",
            "text/plain": [
              "<Figure size 720x216 with 2 Axes>"
            ]
          },
          "metadata": {
            "tags": [],
            "needs_background": "light"
          }
        },
        {
          "output_type": "stream",
          "text": [
            "score : 271\n",
            "enter tube to transfer from: 6\n",
            "enter tube to transfer to: 4\n"
          ],
          "name": "stdout"
        },
        {
          "output_type": "display_data",
          "data": {
            "image/png": "[encoded data removed]",
            "text/plain": [
              "<Figure size 720x216 with 2 Axes>"
            ]
          },
          "metadata": {
            "tags": [],
            "needs_background": "light"
          }
        },
        {
          "output_type": "stream",
          "text": [
            "score : 318\n"
          ],
          "name": "stdout"
        }
      ]
    }
  ]
}
