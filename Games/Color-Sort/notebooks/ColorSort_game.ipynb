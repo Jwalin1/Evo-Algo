{
  "nbformat": 4,
  "nbformat_minor": 0,
  "metadata": {
    "colab": {
      "name": "ColorSort_game.ipynb",
      "provenance": [],
      "collapsed_sections": []
    },
    "kernelspec": {
      "name": "python3",
      "display_name": "Python 3"
    },
    "language_info": {
      "name": "python"
    }
  },
  "cells": [
    {
      "cell_type": "code",
      "metadata": {
        "id": "0N7CJRVf7Flm"
      },
      "source": [
        "import matplotlib.pyplot as plt"
      ],
      "execution_count": 1,
      "outputs": []
    },
    {
      "cell_type": "code",
      "metadata": {
        "id": "684wA4rF7CFh"
      },
      "source": [
        "# exmaple 1\n",
        "original_tubes = [\n",
        "          ['p','b','r','p'],\n",
        "          ['y','g','g','r'],\n",
        "          [[1,1,1]]*4,  [[1,1,1]]*4,\n",
        "          ['p','y','y','r'],\n",
        "          ['b','g','r','p'],\n",
        "          ['b','b','y','g'],\n",
        "]"
      ],
      "execution_count": 10,
      "outputs": []
    },
    {
      "cell_type": "code",
      "metadata": {
        "id": "ZdtVR1NNJWe6"
      },
      "source": [
        "def copytubes(tubes):\n",
        "  new_tubes = [list(tube) for tube in tubes]\n",
        "  return new_tubes"
      ],
      "execution_count": 11,
      "outputs": []
    },
    {
      "cell_type": "code",
      "metadata": {
        "id": "RvFC9JfcB1x9"
      },
      "source": [
        "def replaceColors(tubes, colrs):\n",
        "  for tube in tubes:\n",
        "    for i,colr in enumerate(tube):\n",
        "      if colr != [1,1,1]:\n",
        "        tube[i] = colrs[colr]\n",
        "  return tubes"
      ],
      "execution_count": 12,
      "outputs": []
    },
    {
      "cell_type": "code",
      "metadata": {
        "id": "JTArcD_p-XPQ"
      },
      "source": [
        "colrs = {'p':\"pink\", 'b':\"blue\", 'r':\"red\", 'y':\"yellow\", 'g':\"green\"}\n",
        "original_tubes = replaceColors(original_tubes, colrs)"
      ],
      "execution_count": 13,
      "outputs": []
    },
    {
      "cell_type": "code",
      "metadata": {
        "id": "h7MdIhsY94I_"
      },
      "source": [
        "def plot_tubes(tubes):\n",
        "  fig, axs = plt.subplots(1,2, figsize=(10,3))\n",
        "  n_tubes2 = len(tubes)//2\n",
        "  n_tubes1 = len(tubes) - n_tubes2\n",
        "\n",
        "  axs[0].set_xlim([-0.5,n_tubes1-0.5])\n",
        "  axs[1].set_xlim([-0.5,n_tubes1-0.5])\n",
        "\n",
        "  for i,tube in enumerate(tubes):\n",
        "    for j,colr in enumerate(reversed(tube)):\n",
        "      if colr != '0':\n",
        "        axs[i//n_tubes1].bar(str(i+1), 1, bottom=j, color=colr, width=0.5, edgecolor='k')\n",
        "      else:\n",
        "        axs[i//n_tubes1].bar(str(i+1), 1, bottom=j, fc=[1,1,1,0], width=0.5, edgecolor='k')\n",
        "  plt.show()"
      ],
      "execution_count": null,
      "outputs": []
    },
    {
      "cell_type": "code",
      "metadata": {
        "colab": {
          "base_uri": "https://localhost:8080/",
          "height": 211
        },
        "id": "B0aphicwF8CL",
        "outputId": "6fad31fd-3c85-423e-d0b5-bd8380a284ea"
      },
      "source": [
        "plot_tubes(original_tubes)"
      ],
      "execution_count": null,
      "outputs": [
        {
          "output_type": "display_data",
          "data": {
            "image/png": "[encoded data removed]",
            "text/plain": [
              "<Figure size 720x216 with 2 Axes>"
            ]
          },
          "metadata": {
            "tags": [],
            "needs_background": "light"
          }
        }
      ]
    },
    {
      "cell_type": "code",
      "metadata": {
        "id": "dlU3UkcCNnLJ"
      },
      "source": [
        "def nonEmptyIndex(tube):\n",
        "  i=0\n",
        "  while i in range(len(tube)):\n",
        "    if tube[i] != [1,1,1]:\n",
        "      break\n",
        "    i+=1\n",
        "  return i"
      ],
      "execution_count": null,
      "outputs": []
    },
    {
      "cell_type": "code",
      "metadata": {
        "id": "BZspP4lmC19k"
      },
      "source": [
        "def check_transfer(tube1,tube2):\n",
        "\n",
        "  # check if colr matches\n",
        "  t1_indx = nonEmptyIndex(tube1)\n",
        "  t2_indx = nonEmptyIndex(tube2)\n",
        "\n",
        "  if t1_indx == len(tube1):  # tube1 should not be empty\n",
        "    return False\n",
        "  elif t2_indx == 0:  # tube2 should not be full\n",
        "    return False\n",
        "\n",
        "  t1_colr = tube1[t1_indx]\n",
        "  if t2_indx < len(tube2):  # if tube not empty\n",
        "    t2_colr = tube2[t2_indx]\n",
        "    if t1_colr != t2_colr:  # check if color matches\n",
        "      return False\n",
        "  else:   # if tube empty\n",
        "    if allSame([tube1]):  # if all same\n",
        "      return False\n",
        "\n",
        "  return True"
      ],
      "execution_count": null,
      "outputs": []
    },
    {
      "cell_type": "code",
      "metadata": {
        "id": "Gs6nCahuhylh"
      },
      "source": [
        "def transfer(tube1,tube2):\n",
        "\n",
        "  # check if colr matches\n",
        "  t1_indx = nonEmptyIndex(tube1)\n",
        "  t2_indx = nonEmptyIndex(tube2)\n",
        "  t1_colr = tube1[t1_indx]\n",
        "\n",
        "\n",
        "  if t2_indx < len(tube2):  # if tube not empty\n",
        "    t2_colr = tube2[t2_indx]\n",
        "    # calc chunk size\n",
        "    chunk_size = 1\n",
        "    i = t2_indx + 1\n",
        "    while i < len(tube2) and tube2[i] == t2_colr:\n",
        "      chunk_size += 1\n",
        "      i += 1\n",
        "  else:\n",
        "    chunk_size = 0\n",
        "\n",
        "  i = t1_indx\n",
        "  while i in range(len(tube1)):\n",
        "    j = (t2_indx-1) - (i-t1_indx)\n",
        "    if (tube1[i] != t1_colr) or (j == -1):\n",
        "      break\n",
        "    tube2[j] = tube1[i]\n",
        "    tube1[i] = [1,1,1]\n",
        "    i+=1\n",
        "    chunk_size += 1\n",
        "\n",
        "  return tube1,tube2, chunk_size"
      ],
      "execution_count": null,
      "outputs": []
    },
    {
      "cell_type": "code",
      "metadata": {
        "id": "c35wpgFPueGa"
      },
      "source": [
        "def allSame(tubes):\n",
        "  same = True\n",
        "  colrs = []\n",
        "  for tube in tubes:\n",
        "    t_indx = nonEmptyIndex(tube)\n",
        "    if t_indx == len(tube):  # all same if tube empty\n",
        "      continue\n",
        "\n",
        "    colr = tube[t_indx]\n",
        "    colrs.append(colr)\n",
        "    t_indx += 1\n",
        "    while t_indx in range(len(tube)):\n",
        "      if tube[t_indx] != colr:\n",
        "        return False\n",
        "      t_indx += 1\n",
        "\n",
        "  seen = []\n",
        "  unique_list = [x for x in colrs if x not in seen and not seen.append(x)]\n",
        "  if len(colrs) != len(unique_list):\n",
        "    return False\n",
        "\n",
        "  return same"
      ],
      "execution_count": null,
      "outputs": []
    },
    {
      "cell_type": "code",
      "metadata": {
        "id": "Ohv_vSJBGXyG"
      },
      "source": [
        "def playGame(original_tubes, moves=None):\n",
        "  tubes = copytubes(original_tubes)\n",
        "\n",
        "  move_indx = 0\n",
        "  while True:\n",
        "    plot_tubes(tubes)\n",
        "    if allSame(tubes):\n",
        "      break\n",
        "\n",
        "    if moves is None:\n",
        "      i = int(input(\"enter tube to transfer from: \")) - 1\n",
        "      j = int(input(\"enter tube to transfer to: \")) - 1\n",
        "    else:\n",
        "      i = moves[move_indx][0]\n",
        "      j = moves[move_indx][1]\n",
        "      print(\"move:%d -> transfer tube%d to tube%d\"%(move_indx+1,i+1,j+1))\n",
        "    tube1, tube2 = tubes[i], tubes[j]\n",
        "\n",
        "    if check_transfer(tube1,tube2):\n",
        "      transfer(tube1,tube2)\n",
        "      move_indx += 1\n",
        "    else:\n",
        "      print(\"invalid move\")"
      ],
      "execution_count": null,
      "outputs": []
    },
    {
      "cell_type": "code",
      "metadata": {
        "id": "MOWJTpErw_he"
      },
      "source": [
        "playGame(original_tubes)"
      ],
      "execution_count": null,
      "outputs": []
    }
  ]
}