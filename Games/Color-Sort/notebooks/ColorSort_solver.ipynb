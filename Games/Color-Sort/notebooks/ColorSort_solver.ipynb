{
  "nbformat": 4,
  "nbformat_minor": 0,
  "metadata": {
    "colab": {
      "name": "ColorSort_solver.ipynb",
      "provenance": [],
      "collapsed_sections": []
    },
    "kernelspec": {
      "name": "python3",
      "display_name": "Python 3"
    },
    "language_info": {
      "name": "python"
    }
  },
  "cells": [
    {
      "cell_type": "code",
      "metadata": {
        "id": "McoHp9roMIoY"
      },
      "source": [
        "# exmaple 1\n",
        "original_tubes = [\n",
        "          ['p','b','r','p'],\n",
        "          ['y','g','g','r'],\n",
        "          ['p','y','y','r'],\n",
        "          ['b','g','r','p'],\n",
        "          ['b','b','y','g'],\n",
        "          [[1,1,1]]*4,  [[1,1,1]]*4\n",
        "]"
      ],
      "execution_count": 16,
      "outputs": []
    },
    {
      "cell_type": "code",
      "metadata": {
        "id": "7vELtWJQPxlj"
      },
      "source": [
        "# exmaple 2\n",
        "original_tubes = [\n",
        "          ['y','g','g','r'],\n",
        "          ['p','b','r','p'],\n",
        "          [[1,1,1]]*4,  [[1,1,1]]*4,\n",
        "          ['p','y','y','r'],\n",
        "          ['b','g','r','p'],\n",
        "          ['b','b','y','g'],\n",
        "]"
      ],
      "execution_count": 37,
      "outputs": []
    },
    {
      "cell_type": "code",
      "metadata": {
        "id": "JwCjT_5lRmfE"
      },
      "source": [
        "# exmaple 3\n",
        "original_tubes = [\n",
        "          ['lb','y','o','lg'],\n",
        "          ['lb','g','y','dg'],\n",
        "          ['p','lg','r','db'],\n",
        "          ['y','lb','r','dp'],\n",
        "          ['dg','lp','db','y'],\n",
        "          ['b','dg','b','g'],\n",
        "          ['b','db','p','r'], # one row\n",
        "          ['p','lp','db','b'],\n",
        "          ['dp','lp','lg','dp'],\n",
        "          ['dg','dp','p','r'],\n",
        "          ['o','lg','g','lb'],\n",
        "          ['lp','o','g','o'],\n",
        "          [[1,1,1]]*4, [[1,1,1]]*4\n",
        "]"
      ],
      "execution_count": null,
      "outputs": []
    },
    {
      "cell_type": "code",
      "metadata": {
        "id": "ZdtVR1NNJWe6"
      },
      "source": [
        "def copytubes(tubes):\n",
        "  new_tubes = [list(tube) for tube in tubes]\n",
        "  return new_tubes"
      ],
      "execution_count": 18,
      "outputs": []
    },
    {
      "cell_type": "code",
      "metadata": {
        "id": "dlU3UkcCNnLJ"
      },
      "source": [
        "def nonEmptyIndex(tube):\n",
        "  i=0\n",
        "  while i in range(len(tube)):\n",
        "    if tube[i] != [1,1,1]:\n",
        "      break\n",
        "    i+=1\n",
        "  return i"
      ],
      "execution_count": 19,
      "outputs": []
    },
    {
      "cell_type": "code",
      "metadata": {
        "id": "BZspP4lmC19k"
      },
      "source": [
        "def check_transfer(tube1,tube2):\n",
        "\n",
        "  # check if colr matches\n",
        "  t1_indx = nonEmptyIndex(tube1)\n",
        "  t2_indx = nonEmptyIndex(tube2)\n",
        "\n",
        "  if t1_indx == len(tube1):  # tube1 should not be empty\n",
        "    return False\n",
        "  elif t2_indx == 0:  # tube2 should not be full\n",
        "    return False\n",
        "\n",
        "  t1_colr = tube1[t1_indx]\n",
        "  if t2_indx < len(tube2):  # if tube not empty\n",
        "    t2_colr = tube2[t2_indx]\n",
        "    if t1_colr != t2_colr:  # check if color matches\n",
        "      return False\n",
        "  else:   # if tube empty\n",
        "    if allSame([tube1]):  # if all same\n",
        "      return False\n",
        "\n",
        "  return True"
      ],
      "execution_count": 20,
      "outputs": []
    },
    {
      "cell_type": "code",
      "metadata": {
        "id": "swqgPOpOYDGZ"
      },
      "source": [
        "def transfer(tube1,tube2):\n",
        "\n",
        "  # check if colr matches\n",
        "  t1_indx = nonEmptyIndex(tube1)\n",
        "  t2_indx = nonEmptyIndex(tube2)\n",
        "  t1_colr = tube1[t1_indx]\n",
        "\n",
        "\n",
        "  if t2_indx < len(tube2):  # if tube not empty\n",
        "    t2_colr = tube2[t2_indx]\n",
        "    # calc chunk size\n",
        "    chunk_size = 1\n",
        "    i = t2_indx + 1\n",
        "    while i < len(tube2) and tube2[i] == t2_colr:\n",
        "      chunk_size += 1\n",
        "      i += 1\n",
        "  else:\n",
        "    chunk_size = 0\n",
        "\n",
        "  i = t1_indx\n",
        "  while i in range(len(tube1)):\n",
        "    j = (t2_indx-1) - (i-t1_indx)\n",
        "    if (tube1[i] != t1_colr) or (j == -1):\n",
        "      break\n",
        "    tube2[j] = tube1[i]\n",
        "    tube1[i] = [1,1,1]\n",
        "    i+=1\n",
        "    chunk_size += 1\n",
        "\n",
        "  return tube1,tube2, chunk_size"
      ],
      "execution_count": 21,
      "outputs": []
    },
    {
      "cell_type": "code",
      "metadata": {
        "id": "c35wpgFPueGa"
      },
      "source": [
        "def allSame(tubes):\n",
        "  same = True\n",
        "  colrs = []\n",
        "  for tube in tubes:\n",
        "    t_indx = nonEmptyIndex(tube)\n",
        "    if t_indx == len(tube):  # all same if tube empty\n",
        "      continue\n",
        "\n",
        "    colr = tube[t_indx]\n",
        "    colrs.append(colr)\n",
        "    t_indx += 1\n",
        "    while t_indx in range(len(tube)):\n",
        "      if tube[t_indx] != colr:\n",
        "        return False\n",
        "      t_indx += 1\n",
        "\n",
        "  seen = []\n",
        "  unique_list = [x for x in colrs if x not in seen and not seen.append(x)]\n",
        "  if len(colrs) != len(unique_list):\n",
        "    return False\n",
        "\n",
        "  return same"
      ],
      "execution_count": 34,
      "outputs": []
    },
    {
      "cell_type": "code",
      "metadata": {
        "id": "DIDpIbIcaWI8"
      },
      "source": [
        "def printMoves(moves):\n",
        "  if moves is not None:\n",
        "    for k,(i,j) in enumerate(moves):\n",
        "      print(\"move:%d -> transfer tube%d to tube%d\"%(k+1,i+1,j+1))\n",
        "  else:\n",
        "    print(\"failed\")"
      ],
      "execution_count": 23,
      "outputs": []
    },
    {
      "cell_type": "markdown",
      "metadata": {
        "id": "gDcu0WqktO-S"
      },
      "source": [
        "### sequential incremental"
      ]
    },
    {
      "cell_type": "code",
      "metadata": {
        "id": "vn6rIgtdNNTZ"
      },
      "source": [
        "def seq_increment(original_tubes):  \n",
        "  tubes = copytubes(original_tubes)\n",
        "  solved = False\n",
        "  move_indx = 0\n",
        "  moves = []\n",
        "\n",
        "  for k in range(1000):\n",
        "    if allSame(tubes):\n",
        "      solved = True\n",
        "      break\n",
        "    transferred = False\n",
        "\n",
        "    # transfer from tube1 to tube2\n",
        "    for i in range(len(tubes)):\n",
        "      for j in range(i+1,len(tubes)):\n",
        "        tube1, tube2 = tubes[i], tubes[j]\n",
        "        if check_transfer(tube1, tube2):\n",
        "            transfer(tube1,tube2)\n",
        "            moves.append((i,j))\n",
        "            transferred = True\n",
        "            break\n",
        "        elif check_transfer(tube2, tube1):\n",
        "            transfer(tube2,tube1)\n",
        "            moves.append((j,i))\n",
        "            transferred = True\n",
        "            break\n",
        "      if transferred:\n",
        "        break\n",
        "    if not transferred:\n",
        "      break\n",
        "      \n",
        "  if solved:\n",
        "    return moves\n",
        "  else:\n",
        "    return None"
      ],
      "execution_count": 24,
      "outputs": []
    },
    {
      "cell_type": "markdown",
      "metadata": {
        "id": "EJQ6jCGPHvmd"
      },
      "source": [
        "### sequential backtracking"
      ]
    },
    {
      "cell_type": "code",
      "metadata": {
        "id": "mpUQnHb0Ub8c"
      },
      "source": [
        "def seq_backtrack(original_tubes):\n",
        "  tubes = copytubes(original_tubes)\n",
        "  solved = False\n",
        "  tubes_state = []\n",
        "\n",
        "  run=0; max_moves=0\n",
        "  while True:\n",
        "    if allSame(tubes):\n",
        "      solved = True\n",
        "      break\n",
        "    possible_moves = []\n",
        "\n",
        "    visited_tubes = [tube_state[0] for tube_state in tubes_state]\n",
        "    # transfer from tube1 to tube2\n",
        "    for i in range(len(tubes)):\n",
        "      for j in range(i+1,len(tubes)):\n",
        "        tube1, tube2 = tubes[i], tubes[j]\n",
        "        if check_transfer(tube1, tube2):\n",
        "          new_tubes = copytubes(tubes)\n",
        "          # pass a copy of the list so that the original is not changed after the transfer\n",
        "          _, _, chunk_size = transfer(new_tubes[i], new_tubes[j])\n",
        "          if new_tubes not in visited_tubes:\n",
        "            #print(\"move:%d -> transfer tube%d to tube%d\"%(move_indx,i+1,j+1))\n",
        "            move = (i,j)\n",
        "            possible_moves.append((move, chunk_size))\n",
        "        # check transfer in reverse order\n",
        "        if check_transfer(tube2, tube1):\n",
        "          new_tubes = copytubes(tubes)\n",
        "          _, _, chunk_size = transfer(new_tubes[j], new_tubes[i])\n",
        "          if new_tubes not in visited_tubes:\n",
        "            #print(\"move:%d -> transfer tube%d to tube%d\"%(move_indx,j+1,i+1))\n",
        "            move = (j,i)\n",
        "            possible_moves.append((move, chunk_size))\n",
        "      # end loop for tube to be transferred to\n",
        "    # end loop for tube to be transferred from\n",
        "\n",
        "    if len(possible_moves) == 0:   # stuck having checked all possibilities\n",
        "      while True:\n",
        "        tubes, possible_moves, move_choice = tubes_state[-1]    # get the last state and its moves\n",
        "        tubes = copytubes(tubes)    # so that tubes_states doesnt get modified\n",
        "        move_choice += 1\n",
        "        if move_choice == len(possible_moves):  # exhausted all possible moves\n",
        "          del tubes_state[-1]\n",
        "          if len(tubes_state) == 0: break   # checked all\n",
        "        else:\n",
        "          move, _ = possible_moves[move_choice]\n",
        "          tubes_state[-1][2] = move_choice   # update the move choice\n",
        "          i, j = move\n",
        "          tube1, tube2 = tubes[i], tubes[j]\n",
        "          transfer(tube1,tube2)\n",
        "          break\n",
        "    else:\n",
        "      # pick the move which results in the biggest chunk\n",
        "      possible_moves.sort(key=lambda x:x[1], reverse=True)\n",
        "      move, _ = possible_moves[0]\n",
        "      tubes_state.append([copytubes(tubes), possible_moves, 0])\n",
        "      # sending original tubes instead of copy to transfer function\n",
        "      i, j = move\n",
        "      tube1, tube2 = tubes[i], tubes[j]\n",
        "      transfer(tube1,tube2)\n",
        "\n",
        "    if len(tubes_state) == 0: break\n",
        "\n",
        "    if len(tubes_state) > max_moves:\n",
        "      max_moves = len(tubes_state)\n",
        "    if run%1000==0:\n",
        "      print(\"run %d, max_moves = %d\"%(run,max_moves))\n",
        "    run += 1\n",
        "      \n",
        "  if solved:\n",
        "    moves = []\n",
        "    for _, possible_moves, move_choice in tubes_state:\n",
        "        moves.append(possible_moves[move_choice][0])\n",
        "    return moves\n",
        "  else:\n",
        "    return None"
      ],
      "execution_count": 25,
      "outputs": []
    },
    {
      "cell_type": "code",
      "metadata": {
        "id": "hufXO9uI6bCm"
      },
      "source": [
        "import numpy as np\n",
        "from tqdm.notebook import tqdm"
      ],
      "execution_count": 26,
      "outputs": []
    },
    {
      "cell_type": "markdown",
      "metadata": {
        "id": "a4uhlYeFtJMR"
      },
      "source": [
        "### random search"
      ]
    },
    {
      "cell_type": "code",
      "metadata": {
        "id": "E8xYzi8M6Jwc"
      },
      "source": [
        "def random_search(original_tubes, n_runs=1000, check_all=False):\n",
        "  run_moves = []\n",
        "\n",
        "  for run in tqdm(range(n_runs)):\n",
        "    tubes = copytubes(original_tubes)\n",
        "    moves_tested = []\n",
        "    moves = []\n",
        "    visited_states = [tubes]\n",
        "    solved = False\n",
        "    \n",
        "    move_indx = 1\n",
        "    \n",
        "    while True:\n",
        "      if allSame(tubes):\n",
        "        #print(\"run %d : done\"%(run))\n",
        "        solved = True\n",
        "        break\n",
        "        \n",
        "      # transfer from tube1 to tube2\n",
        "      if len(moves_tested) == np.math.factorial(len(tubes))/(2*np.math.factorial(len(tubes)-2)):\n",
        "        break\n",
        "      while True:\n",
        "        i,j = np.random.choice(range(len(tubes)),2,replace=False)\n",
        "        if (i,j) not in moves_tested and (j,i) not in moves_tested:\n",
        "          moves_tested.append((i,j))\n",
        "          break\n",
        "\n",
        "      transferred = False\n",
        "      tube1, tube2 = tubes[i], tubes[j]\n",
        "      if check_transfer(tube1,tube2):\n",
        "        new_tubes = copytubes(tubes)\n",
        "        transfer(new_tubes[i], new_tubes[j])\n",
        "        if new_tubes not in visited_states:\n",
        "          moves.append((i,j))\n",
        "          transferred = True\n",
        "      if (not transferred) and (check_transfer(tube2,tube1)):\n",
        "        new_tubes = copytubes(tubes)\n",
        "        transfer(new_tubes[j], new_tubes[i])\n",
        "        if new_tubes not in visited_states:\n",
        "          moves.append((j,i))\n",
        "          transferred = True\n",
        "      if transferred:\n",
        "        move_indx += 1\n",
        "        moves_tested = []\n",
        "        tubes = new_tubes\n",
        "        visited_states.append(tubes)\n",
        "    if not solved:\n",
        "      #print(\"run %d : failed\"%(run))\n",
        "      continue\n",
        "    run_moves.append(moves)\n",
        "    if not check_all:\n",
        "      print(\"found a solution in run %d\"%(run));\n",
        "      break\n",
        "  if check_all:\n",
        "    print(\"all runs completed\\n\")  \n",
        "\n",
        "  if len(run_moves) > 0:\n",
        "    move_lens = [len(moves) for moves in run_moves]\n",
        "    min_run = move_lens.index(min(move_lens))\n",
        "    best_moves = run_moves[min_run]\n",
        "    return best_moves\n",
        "  else:\n",
        "    return None"
      ],
      "execution_count": 27,
      "outputs": []
    },
    {
      "cell_type": "code",
      "metadata": {
        "id": "1fHuJcK66d4X",
        "colab": {
          "base_uri": "https://localhost:8080/"
        },
        "outputId": "173d8085-eeb9-4dfe-a0b9-45d4c2926f29"
      },
      "source": [
        "# moves = seq_backtrack(original_tubes)\n",
        "# printMoves(moves)"
      ],
      "execution_count": 38,
      "outputs": [
        {
          "output_type": "stream",
          "text": [
            "run 0, max_moves = 1\n",
            "move:1 -> transfer tube7 to tube3\n",
            "move:2 -> transfer tube6 to tube3\n",
            "move:3 -> transfer tube1 to tube7\n",
            "move:4 -> transfer tube6 to tube1\n",
            "move:5 -> transfer tube1 to tube4\n",
            "move:6 -> transfer tube1 to tube6\n",
            "move:7 -> transfer tube6 to tube1\n",
            "move:8 -> transfer tube2 to tube6\n",
            "move:9 -> transfer tube2 to tube3\n",
            "move:10 -> transfer tube1 to tube2\n",
            "move:11 -> transfer tube2 to tube1\n",
            "move:12 -> transfer tube2 to tube6\n",
            "move:13 -> transfer tube5 to tube6\n",
            "move:14 -> transfer tube5 to tube7\n",
            "move:15 -> transfer tube7 to tube2\n",
            "move:16 -> transfer tube5 to tube2\n",
            "move:17 -> transfer tube1 to tube5\n",
            "move:18 -> transfer tube4 to tube7\n"
          ],
          "name": "stdout"
        }
      ]
    },
    {
      "cell_type": "code",
      "metadata": {
        "colab": {
          "base_uri": "https://localhost:8080/",
          "height": 1000
        },
        "id": "HOLmA3GX6_k-",
        "outputId": "2a331d45-c4cf-4fe9-d2d8-5a74d8131340"
      },
      "source": [
        "# from ColorSort import playGame, replaceColors\n",
        "\n",
        "# colrs = {'p':\"pink\", 'b':\"blue\", 'r':\"red\", 'y':\"yellow\", 'g':\"green\"}\n",
        "# tubes = replaceColors(original_tubes, colrs)\n",
        "# playGame(tubes, moves)"
      ],
      "execution_count": null,
      "outputs": [
        {
          "output_type": "display_data",
          "data": {
            "image/png": "[encoded data removed]",
            "text/plain": [
              "<Figure size 720x216 with 2 Axes>"
            ]
          },
          "metadata": {
            "tags": [],
            "needs_background": "light"
          }
        },
        {
          "output_type": "stream",
          "text": [
            "move:1 -> transfer tube7 to tube3\n"
          ],
          "name": "stdout"
        },
        {
          "output_type": "display_data",
          "data": {
            "image/png": "[encoded data removed]",
            "text/plain": [
              "<Figure size 720x216 with 2 Axes>"
            ]
          },
          "metadata": {
            "tags": [],
            "needs_background": "light"
          }
        },
        {
          "output_type": "stream",
          "text": [
            "move:2 -> transfer tube6 to tube3\n"
          ],
          "name": "stdout"
        },
        {
          "output_type": "display_data",
          "data": {
            "image/png": "[encoded data removed]",
            "text/plain": [
              "<Figure size 720x216 with 2 Axes>"
            ]
          },
          "metadata": {
            "tags": [],
            "needs_background": "light"
          }
        },
        {
          "output_type": "stream",
          "text": [
            "move:3 -> transfer tube1 to tube7\n"
          ],
          "name": "stdout"
        },
        {
          "output_type": "display_data",
          "data": {
            "image/png": "[encoded data removed]",
            "text/plain": [
              "<Figure size 720x216 with 2 Axes>"
            ]
          },
          "metadata": {
            "tags": [],
            "needs_background": "light"
          }
        },
        {
          "output_type": "stream",
          "text": [
            "move:4 -> transfer tube6 to tube1\n"
          ],
          "name": "stdout"
        },
        {
          "output_type": "display_data",
          "data": {
            "image/png": "[encoded data removed]",
            "text/plain": [
              "<Figure size 720x216 with 2 Axes>"
            ]
          },
          "metadata": {
            "tags": [],
            "needs_background": "light"
          }
        },
        {
          "output_type": "stream",
          "text": [
            "move:5 -> transfer tube1 to tube4\n"
          ],
          "name": "stdout"
        },
        {
          "output_type": "display_data",
          "data": {
            "image/png": "[encoded data removed]",
            "text/plain": [
              "<Figure size 720x216 with 2 Axes>"
            ]
          },
          "metadata": {
            "tags": [],
            "needs_background": "light"
          }
        },
        {
          "output_type": "stream",
          "text": [
            "move:6 -> transfer tube1 to tube6\n"
          ],
          "name": "stdout"
        },
        {
          "output_type": "display_data",
          "data": {
            "image/png": "[encoded data removed]",
            "text/plain": [
              "<Figure size 720x216 with 2 Axes>"
            ]
          },
          "metadata": {
            "tags": [],
            "needs_background": "light"
          }
        },
        {
          "output_type": "stream",
          "text": [
            "move:7 -> transfer tube6 to tube1\n"
          ],
          "name": "stdout"
        },
        {
          "output_type": "display_data",
          "data": {
            "image/png": "[encoded data removed]",
            "text/plain": [
              "<Figure size 720x216 with 2 Axes>"
            ]
          },
          "metadata": {
            "tags": [],
            "needs_background": "light"
          }
        },
        {
          "output_type": "stream",
          "text": [
            "move:8 -> transfer tube2 to tube6\n"
          ],
          "name": "stdout"
        },
        {
          "output_type": "display_data",
          "data": {
            "image/png": "[encoded data removed]",
            "text/plain": [
              "<Figure size 720x216 with 2 Axes>"
            ]
          },
          "metadata": {
            "tags": [],
            "needs_background": "light"
          }
        },
        {
          "output_type": "stream",
          "text": [
            "move:9 -> transfer tube2 to tube3\n"
          ],
          "name": "stdout"
        },
        {
          "output_type": "display_data",
          "data": {
            "image/png": "[encoded data removed]",
            "text/plain": [
              "<Figure size 720x216 with 2 Axes>"
            ]
          },
          "metadata": {
            "tags": [],
            "needs_background": "light"
          }
        },
        {
          "output_type": "stream",
          "text": [
            "move:10 -> transfer tube1 to tube2\n"
          ],
          "name": "stdout"
        },
        {
          "output_type": "display_data",
          "data": {
            "image/png": "[encoded data removed]",
            "text/plain": [
              "<Figure size 720x216 with 2 Axes>"
            ]
          },
          "metadata": {
            "tags": [],
            "needs_background": "light"
          }
        },
        {
          "output_type": "stream",
          "text": [
            "move:11 -> transfer tube2 to tube1\n"
          ],
          "name": "stdout"
        },
        {
          "output_type": "display_data",
          "data": {
            "image/png": "[encoded data removed]",
            "text/plain": [
              "<Figure size 720x216 with 2 Axes>"
            ]
          },
          "metadata": {
            "tags": [],
            "needs_background": "light"
          }
        },
        {
          "output_type": "stream",
          "text": [
            "move:12 -> transfer tube2 to tube6\n"
          ],
          "name": "stdout"
        },
        {
          "output_type": "display_data",
          "data": {
            "image/png": "[encoded data removed]",
            "text/plain": [
              "<Figure size 720x216 with 2 Axes>"
            ]
          },
          "metadata": {
            "tags": [],
            "needs_background": "light"
          }
        },
        {
          "output_type": "stream",
          "text": [
            "move:13 -> transfer tube5 to tube6\n"
          ],
          "name": "stdout"
        },
        {
          "output_type": "display_data",
          "data": {
            "image/png": "[encoded data removed]",
            "text/plain": [
              "<Figure size 720x216 with 2 Axes>"
            ]
          },
          "metadata": {
            "tags": [],
            "needs_background": "light"
          }
        },
        {
          "output_type": "stream",
          "text": [
            "move:14 -> transfer tube5 to tube7\n"
          ],
          "name": "stdout"
        },
        {
          "output_type": "display_data",
          "data": {
            "image/png": "[encoded data removed]",
            "text/plain": [
              "<Figure size 720x216 with 2 Axes>"
            ]
          },
          "metadata": {
            "tags": [],
            "needs_background": "light"
          }
        },
        {
          "output_type": "stream",
          "text": [
            "move:15 -> transfer tube7 to tube2\n"
          ],
          "name": "stdout"
        },
        {
          "output_type": "display_data",
          "data": {
            "image/png": "[encoded data removed]",
            "text/plain": [
              "<Figure size 720x216 with 2 Axes>"
            ]
          },
          "metadata": {
            "tags": [],
            "needs_background": "light"
          }
        },
        {
          "output_type": "stream",
          "text": [
            "move:16 -> transfer tube5 to tube2\n"
          ],
          "name": "stdout"
        },
        {
          "output_type": "display_data",
          "data": {
            "image/png": "[encoded data removed]",
            "text/plain": [
              "<Figure size 720x216 with 2 Axes>"
            ]
          },
          "metadata": {
            "tags": [],
            "needs_background": "light"
          }
        },
        {
          "output_type": "stream",
          "text": [
            "move:17 -> transfer tube1 to tube5\n"
          ],
          "name": "stdout"
        },
        {
          "output_type": "display_data",
          "data": {
            "image/png": "[encoded data removed]",
            "text/plain": [
              "<Figure size 720x216 with 2 Axes>"
            ]
          },
          "metadata": {
            "tags": [],
            "needs_background": "light"
          }
        },
        {
          "output_type": "stream",
          "text": [
            "move:18 -> transfer tube4 to tube7\n"
          ],
          "name": "stdout"
        },
        {
          "output_type": "display_data",
          "data": {
            "image/png": "[encoded data removed]",
            "text/plain": [
              "<Figure size 720x216 with 2 Axes>"
            ]
          },
          "metadata": {
            "tags": [],
            "needs_background": "light"
          }
        }
      ]
    }
  ]
}