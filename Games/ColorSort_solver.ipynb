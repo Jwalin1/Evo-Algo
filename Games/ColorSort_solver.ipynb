{
  "nbformat": 4,
  "nbformat_minor": 0,
  "metadata": {
    "colab": {
      "name": "ColorSort_solver.ipynb",
      "provenance": [],
      "collapsed_sections": []
    },
    "kernelspec": {
      "name": "python3",
      "display_name": "Python 3"
    },
    "language_info": {
      "name": "python"
    },
    "widgets": {
      "application/vnd.jupyter.widget-state+json": {
        "599aa044f2994f73871e4eb5b7f1e6cf": {
          "model_module": "@jupyter-widgets/controls",
          "model_name": "HBoxModel",
          "state": {
            "_view_name": "HBoxView",
            "_dom_classes": [],
            "_model_name": "HBoxModel",
            "_view_module": "@jupyter-widgets/controls",
            "_model_module_version": "1.5.0",
            "_view_count": null,
            "_view_module_version": "1.5.0",
            "box_style": "",
            "layout": "IPY_MODEL_815d7d9344ab4f1bb534bc0ecae01ded",
            "_model_module": "@jupyter-widgets/controls",
            "children": [
              "IPY_MODEL_9882465cdfc145cb97c1316be07f494b",
              "IPY_MODEL_b0c8f5f1f1524f3ba98ec5aef0e4b37c"
            ]
          }
        },
        "815d7d9344ab4f1bb534bc0ecae01ded": {
          "model_module": "@jupyter-widgets/base",
          "model_name": "LayoutModel",
          "state": {
            "_view_name": "LayoutView",
            "grid_template_rows": null,
            "right": null,
            "justify_content": null,
            "_view_module": "@jupyter-widgets/base",
            "overflow": null,
            "_model_module_version": "1.2.0",
            "_view_count": null,
            "flex_flow": null,
            "width": null,
            "min_width": null,
            "border": null,
            "align_items": null,
            "bottom": null,
            "_model_module": "@jupyter-widgets/base",
            "top": null,
            "grid_column": null,
            "overflow_y": null,
            "overflow_x": null,
            "grid_auto_flow": null,
            "grid_area": null,
            "grid_template_columns": null,
            "flex": null,
            "_model_name": "LayoutModel",
            "justify_items": null,
            "grid_row": null,
            "max_height": null,
            "align_content": null,
            "visibility": null,
            "align_self": null,
            "height": null,
            "min_height": null,
            "padding": null,
            "grid_auto_rows": null,
            "grid_gap": null,
            "max_width": null,
            "order": null,
            "_view_module_version": "1.2.0",
            "grid_template_areas": null,
            "object_position": null,
            "object_fit": null,
            "grid_auto_columns": null,
            "margin": null,
            "display": null,
            "left": null
          }
        },
        "9882465cdfc145cb97c1316be07f494b": {
          "model_module": "@jupyter-widgets/controls",
          "model_name": "FloatProgressModel",
          "state": {
            "_view_name": "ProgressView",
            "style": "IPY_MODEL_b9f1c889b2364dfe8bfec656e3a6caeb",
            "_dom_classes": [],
            "description": "  0%",
            "_model_name": "FloatProgressModel",
            "bar_style": "danger",
            "max": 1000,
            "_view_module": "@jupyter-widgets/controls",
            "_model_module_version": "1.5.0",
            "value": 0,
            "_view_count": null,
            "_view_module_version": "1.5.0",
            "orientation": "horizontal",
            "min": 0,
            "description_tooltip": null,
            "_model_module": "@jupyter-widgets/controls",
            "layout": "IPY_MODEL_be68d42901e543e9b6543f3abce57f5b"
          }
        },
        "b0c8f5f1f1524f3ba98ec5aef0e4b37c": {
          "model_module": "@jupyter-widgets/controls",
          "model_name": "HTMLModel",
          "state": {
            "_view_name": "HTMLView",
            "style": "IPY_MODEL_3ab6722cf54b4c3897e33318b9a7b7c2",
            "_dom_classes": [],
            "description": "",
            "_model_name": "HTMLModel",
            "placeholder": "​",
            "_view_module": "@jupyter-widgets/controls",
            "_model_module_version": "1.5.0",
            "value": " 0/1000 [00:00&lt;?, ?it/s]",
            "_view_count": null,
            "_view_module_version": "1.5.0",
            "description_tooltip": null,
            "_model_module": "@jupyter-widgets/controls",
            "layout": "IPY_MODEL_02d01759bfe74e5089d79adffe5a19b3"
          }
        },
        "b9f1c889b2364dfe8bfec656e3a6caeb": {
          "model_module": "@jupyter-widgets/controls",
          "model_name": "ProgressStyleModel",
          "state": {
            "_view_name": "StyleView",
            "_model_name": "ProgressStyleModel",
            "description_width": "initial",
            "_view_module": "@jupyter-widgets/base",
            "_model_module_version": "1.5.0",
            "_view_count": null,
            "_view_module_version": "1.2.0",
            "bar_color": null,
            "_model_module": "@jupyter-widgets/controls"
          }
        },
        "be68d42901e543e9b6543f3abce57f5b": {
          "model_module": "@jupyter-widgets/base",
          "model_name": "LayoutModel",
          "state": {
            "_view_name": "LayoutView",
            "grid_template_rows": null,
            "right": null,
            "justify_content": null,
            "_view_module": "@jupyter-widgets/base",
            "overflow": null,
            "_model_module_version": "1.2.0",
            "_view_count": null,
            "flex_flow": null,
            "width": null,
            "min_width": null,
            "border": null,
            "align_items": null,
            "bottom": null,
            "_model_module": "@jupyter-widgets/base",
            "top": null,
            "grid_column": null,
            "overflow_y": null,
            "overflow_x": null,
            "grid_auto_flow": null,
            "grid_area": null,
            "grid_template_columns": null,
            "flex": null,
            "_model_name": "LayoutModel",
            "justify_items": null,
            "grid_row": null,
            "max_height": null,
            "align_content": null,
            "visibility": null,
            "align_self": null,
            "height": null,
            "min_height": null,
            "padding": null,
            "grid_auto_rows": null,
            "grid_gap": null,
            "max_width": null,
            "order": null,
            "_view_module_version": "1.2.0",
            "grid_template_areas": null,
            "object_position": null,
            "object_fit": null,
            "grid_auto_columns": null,
            "margin": null,
            "display": null,
            "left": null
          }
        },
        "3ab6722cf54b4c3897e33318b9a7b7c2": {
          "model_module": "@jupyter-widgets/controls",
          "model_name": "DescriptionStyleModel",
          "state": {
            "_view_name": "StyleView",
            "_model_name": "DescriptionStyleModel",
            "description_width": "",
            "_view_module": "@jupyter-widgets/base",
            "_model_module_version": "1.5.0",
            "_view_count": null,
            "_view_module_version": "1.2.0",
            "_model_module": "@jupyter-widgets/controls"
          }
        },
        "02d01759bfe74e5089d79adffe5a19b3": {
          "model_module": "@jupyter-widgets/base",
          "model_name": "LayoutModel",
          "state": {
            "_view_name": "LayoutView",
            "grid_template_rows": null,
            "right": null,
            "justify_content": null,
            "_view_module": "@jupyter-widgets/base",
            "overflow": null,
            "_model_module_version": "1.2.0",
            "_view_count": null,
            "flex_flow": null,
            "width": null,
            "min_width": null,
            "border": null,
            "align_items": null,
            "bottom": null,
            "_model_module": "@jupyter-widgets/base",
            "top": null,
            "grid_column": null,
            "overflow_y": null,
            "overflow_x": null,
            "grid_auto_flow": null,
            "grid_area": null,
            "grid_template_columns": null,
            "flex": null,
            "_model_name": "LayoutModel",
            "justify_items": null,
            "grid_row": null,
            "max_height": null,
            "align_content": null,
            "visibility": null,
            "align_self": null,
            "height": null,
            "min_height": null,
            "padding": null,
            "grid_auto_rows": null,
            "grid_gap": null,
            "max_width": null,
            "order": null,
            "_view_module_version": "1.2.0",
            "grid_template_areas": null,
            "object_position": null,
            "object_fit": null,
            "grid_auto_columns": null,
            "margin": null,
            "display": null,
            "left": null
          }
        }
      }
    }
  },
  "cells": [
    {
      "cell_type": "code",
      "metadata": {
        "id": "kIaHbEcLX4J1"
      },
      "source": [
        "from copy import deepcopy"
      ],
      "execution_count": 2,
      "outputs": []
    },
    {
      "cell_type": "code",
      "metadata": {
        "id": "McoHp9roMIoY"
      },
      "source": [
        "# exmaple 1\n",
        "original_tubes = [\n",
        "          ['p','b','r','p'],\n",
        "          ['y','g','g','r'],\n",
        "          ['p','y','y','r'],\n",
        "          ['b','g','r','p'],\n",
        "          ['b','b','y','g'],\n",
        "          ['0']*4,  ['0']*4\n",
        "]"
      ],
      "execution_count": 18,
      "outputs": []
    },
    {
      "cell_type": "code",
      "metadata": {
        "id": "7vELtWJQPxlj"
      },
      "source": [
        "# exmaple 2\n",
        "original_tubes = [\n",
        "          ['y','g','g','r'],\n",
        "          ['p','b','r','p'],\n",
        "          ['0']*4,  ['0']*4,\n",
        "          ['p','y','y','r'],\n",
        "          ['b','g','r','p'],\n",
        "          ['b','b','y','g'],\n",
        "]"
      ],
      "execution_count": 6,
      "outputs": []
    },
    {
      "cell_type": "code",
      "metadata": {
        "id": "JwCjT_5lRmfE"
      },
      "source": [
        "# exmaple 3\n",
        "original_tubes = [\n",
        "          ['lb','y','o','lg'],\n",
        "          ['lb','g','y','dg'],\n",
        "          ['p','lg','r','db'],\n",
        "          ['y','lb','r','dp'],\n",
        "          ['dg','lp','db','y'],\n",
        "          ['b','dg','b','g'],\n",
        "          ['b','db','p','r'], # one row\n",
        "          ['p','lp','db','b'],\n",
        "          ['dp','lp','lg','dp'],\n",
        "          ['dg','dp','p','r'],\n",
        "          ['o','lg','g','lb'],\n",
        "          ['lp','o','g','o'],\n",
        "          ['0']*4, ['0']*4\n",
        "]"
      ],
      "execution_count": 5,
      "outputs": []
    },
    {
      "cell_type": "code",
      "metadata": {
        "id": "dlU3UkcCNnLJ"
      },
      "source": [
        "def nonEmptyIndex(tube):\n",
        "  i=0\n",
        "  while i in range(len(tube)):\n",
        "    if tube[i] != '0':\n",
        "      break\n",
        "    i+=1  \n",
        "  return i"
      ],
      "execution_count": 7,
      "outputs": []
    },
    {
      "cell_type": "code",
      "metadata": {
        "id": "swqgPOpOYDGZ"
      },
      "source": [
        "def transfer(tube1,tube2):\n",
        "\n",
        "  # check if colr matches\n",
        "  t1_indx = nonEmptyIndex(tube1)\n",
        "  t2_indx = nonEmptyIndex(tube2)\n",
        "  if t2_indx < len(tube2):  # if tube not empty\n",
        "    if tube1[t1_indx] != tube2[t2_indx]:  # check if color matches\n",
        "      return None, None\n",
        "  else:   # if tube empty\n",
        "    if allSame([tube1]):  # if all same\n",
        "      return None, None\n",
        "\n",
        "  # calc chunk size  \n",
        "  colr = tube1[t1_indx]\n",
        "  j = t1_indx + 1\n",
        "  while j in range(len(tube1)):\n",
        "    if tube1[j] != colr:\n",
        "      break\n",
        "    j+=1\n",
        "  chunk_size = j - t1_indx\n",
        "  \n",
        "  if chunk_size <= nonEmptyIndex(tube2):  # check if tube2 can hold chunk\n",
        "    for k in range(chunk_size):\n",
        "      #print(tube2[j-k-1])\n",
        "      tube2[t2_indx - k - 1] = tube1[t1_indx + k]\n",
        "      tube1[t1_indx + k] = '0'\n",
        "  else:\n",
        "    return None, None\n",
        "\n",
        "  return tube1,tube2"
      ],
      "execution_count": 8,
      "outputs": []
    },
    {
      "cell_type": "code",
      "metadata": {
        "id": "c35wpgFPueGa"
      },
      "source": [
        "def allSame(tubes):\n",
        "  same = True\n",
        "  colrs = []\n",
        "  for tube in tubes:\n",
        "    t_indx = nonEmptyIndex(tube)\n",
        "    if t_indx == len(tube):  # all same if tube empty\n",
        "      continue\n",
        "\n",
        "    colr1 = tube[t_indx]\n",
        "    colrs.append(colr1)\n",
        "    t_indx += 1\n",
        "    while t_indx in range(len(tube)):\n",
        "      if tube[t_indx] != colr1:\n",
        "        return False\n",
        "      t_indx += 1\n",
        "\n",
        "  if len(colrs) > len(set(colrs)):\n",
        "    return False\n",
        "  return same"
      ],
      "execution_count": 9,
      "outputs": []
    },
    {
      "cell_type": "markdown",
      "metadata": {
        "id": "EJQ6jCGPHvmd"
      },
      "source": [
        "### sequential backtracking"
      ]
    },
    {
      "cell_type": "code",
      "metadata": {
        "colab": {
          "base_uri": "https://localhost:8080/"
        },
        "id": "mpUQnHb0Ub8c",
        "outputId": "280caac5-ca77-4f7c-daa9-0b061e319371"
      },
      "source": [
        "def seq_backtrack(original_tubes):\n",
        "  tubes = deepcopy(original_tubes)\n",
        "  solved = False\n",
        "  tubes_state = []\n",
        "\n",
        "  i=0;  j=1; run=0; max_moves=0\n",
        "  while True:\n",
        "    if allSame(tubes):\n",
        "      solved = True\n",
        "      break\n",
        "    transferred = False\n",
        "    tubes_state.append([tubes])\n",
        "\n",
        "    # transfer from tube1 to tube2\n",
        "    while i in range(len(tubes)):\n",
        "      while j in range(i+1,len(tubes)):\n",
        "        tube1, tube2 = tubes[i], tubes[j]\n",
        "        cond_1 = nonEmptyIndex(tube1) < len(tube1)  # tube1 should not be empty\n",
        "        cond_2 = nonEmptyIndex(tube2) > 0   # tube2 should not be full\n",
        "        if cond_1 and cond_2:\n",
        "          new_tubes = deepcopy(tubes)\n",
        "          new_tube1, new_tube2 = transfer(tube1.copy(),tube2.copy())\n",
        "          if new_tube1 is not None:          \n",
        "            new_tubes[i], new_tubes[j] = new_tube1, new_tube2           \n",
        "            #print(\"move:%d -> transfer tube%d to tube%d\"%(move_indx,i+1,j+1))\n",
        "            move = (i,j,False)\n",
        "            #print(new_tubes)\n",
        "            transferred = True\n",
        "            tubes = new_tubes\n",
        "            break\n",
        "        if not transferred:\n",
        "          tube1, tube2 = tubes[j], tubes[i]\n",
        "          cond_1 = nonEmptyIndex(tube1) < len(tube1)  # tube1 should not be empty\n",
        "          cond_2 = nonEmptyIndex(tube2) > 0   # tube2 should not be full\n",
        "          if cond_1 and cond_2:\n",
        "            new_tubes = deepcopy(tubes)\n",
        "            new_tube1, new_tube2 = transfer(tube1.copy(),tube2.copy())\n",
        "            if new_tube1 is not None:          \n",
        "              new_tubes[j], new_tubes[i] = new_tube1, new_tube2           \n",
        "              #print(\"move:%d -> transfer tube%d to tube%d\"%(move_indx,j+1,i+1))\n",
        "              move = (i,j,True)\n",
        "              #print(new_tubes)\n",
        "              transferred = True\n",
        "              tubes = new_tubes\n",
        "              break\n",
        "        j += 1        \n",
        "      if transferred:\n",
        "        break\n",
        "      i+=1; j=i+1\n",
        "    if not transferred:   # stuck having checked all possibilities\n",
        "      tubes, i, j, _ = tubes_state[-2]    # get the 2nd last state and its moves\n",
        "\n",
        "      j += 1 \n",
        "      if j == len(tubes):\n",
        "        i += 1\n",
        "        j = i+1\n",
        "        if i == len(tubes):\n",
        "          break\n",
        "      del tubes_state[-2]   # delete the 2nd last state as its moves should be updated\n",
        "      del tubes_state[-1]   # delete the last state as no moves possible from there\n",
        "    else:\n",
        "      i=0; j=1\n",
        "      tubes_state[-1].extend(move)\n",
        "\n",
        "    if len(tubes_state) > max_moves:\n",
        "      max_moves = len(tubes_state)\n",
        "    if run%1000==0:\n",
        "      print(\"run %d, max_moves = %d\"%(run,max_moves))\n",
        "    run += 1  \n",
        "      \n",
        "  if solved:\n",
        "    moves = []\n",
        "    for _, i,j,swap in tubes_state:\n",
        "      if swap:\n",
        "        moves.append((j,i))\n",
        "      else:\n",
        "        moves.append((i,j))\n",
        "    return moves\n",
        "  else:\n",
        "    return None\n",
        "\n",
        "moves = seq_backtrack(original_tubes)  \n",
        "if moves is not None:\n",
        "  for k,(i,j) in enumerate(moves):\n",
        "    print(\"move:%d -> transfer tube%d to tube%d\"%(k+1,i+1,j+1))\n",
        "else:\n",
        "  print(\"failed\")"
      ],
      "execution_count": 14,
      "outputs": [
        {
          "output_type": "stream",
          "text": [
            "run 0, max_moves = 1\n",
            "move:1 -> transfer tube1 to tube3\n",
            "move:2 -> transfer tube2 to tube4\n",
            "move:3 -> transfer tube6 to tube2\n",
            "move:4 -> transfer tube6 to tube1\n",
            "move:5 -> transfer tube5 to tube4\n",
            "move:6 -> transfer tube3 to tube5\n",
            "move:7 -> transfer tube1 to tube3\n",
            "move:8 -> transfer tube1 to tube6\n",
            "move:9 -> transfer tube2 to tube1\n",
            "move:10 -> transfer tube7 to tube1\n",
            "move:11 -> transfer tube2 to tube6\n",
            "move:12 -> transfer tube2 to tube4\n",
            "move:13 -> transfer tube5 to tube2\n",
            "move:14 -> transfer tube7 to tube2\n",
            "move:15 -> transfer tube3 to tube7\n",
            "move:16 -> transfer tube6 to tube3\n",
            "move:17 -> transfer tube3 to tube5\n",
            "move:18 -> transfer tube4 to tube6\n"
          ],
          "name": "stdout"
        }
      ]
    },
    {
      "cell_type": "markdown",
      "metadata": {
        "id": "gDcu0WqktO-S"
      },
      "source": [
        "### sequential incremental"
      ]
    },
    {
      "cell_type": "code",
      "metadata": {
        "colab": {
          "base_uri": "https://localhost:8080/"
        },
        "id": "vn6rIgtdNNTZ",
        "outputId": "77987fda-09fc-4d8c-b2ad-7eb1a8b8c4f5"
      },
      "source": [
        "def seq_increment(original_tubes):  \n",
        "  tubes = deepcopy(original_tubes)\n",
        "  solved = False\n",
        "  move_indx = 0\n",
        "  moves = []\n",
        "\n",
        "  for k in range(1000):\n",
        "    if allSame(tubes):\n",
        "      solved = True\n",
        "      break\n",
        "    transferred = False\n",
        "\n",
        "    # transfer from tube1 to tube2\n",
        "    for i in range(len(tubes)):\n",
        "      for j in range(i+1,len(tubes)):\n",
        "        tube1, tube2 = tubes[i], tubes[j]\n",
        "        cond_1 = nonEmptyIndex(tube1) < len(tube1)  # tube1 should not be empty\n",
        "        cond_2 = nonEmptyIndex(tube2) > 0   # tube2 should not be full\n",
        "        if cond_1 and cond_2:\n",
        "          new_tubes = deepcopy(tubes)\n",
        "          new_tube1, new_tube2 = transfer(tube1.copy(),tube2.copy())\n",
        "          if new_tube1 is not None:          \n",
        "            new_tubes[i], new_tubes[j] = new_tube1, new_tube2           \n",
        "            #print(\"move:%d -> transfer tube%d to tube%d\"%(move_indx,i+1,j+1))\n",
        "            moves.append((i,j))\n",
        "            #print(new_tubes)\n",
        "            transferred = True\n",
        "            tubes = new_tubes\n",
        "            break\n",
        "        if not transferred:\n",
        "          tube1, tube2 = tubes[j], tubes[i]\n",
        "          cond_1 = nonEmptyIndex(tube1) < len(tube1)  # tube1 should not be empty\n",
        "          cond_2 = nonEmptyIndex(tube2) > 0   # tube2 should not be full\n",
        "          if cond_1 and cond_2:\n",
        "            new_tubes = deepcopy(tubes)\n",
        "            new_tube1, new_tube2 = transfer(tube1.copy(),tube2.copy())\n",
        "            if new_tube1 is not None:          \n",
        "              new_tubes[j], new_tubes[i] = new_tube1, new_tube2           \n",
        "              #print(\"move:%d -> transfer tube%d to tube%d\"%(move_indx,j+1,i+1))\n",
        "              moves.append((j,i))\n",
        "              #print(new_tubes)\n",
        "              transferred = True\n",
        "              tubes = new_tubes\n",
        "              break\n",
        "      if transferred:\n",
        "        break\n",
        "    if not transferred:\n",
        "      break\n",
        "      \n",
        "  if solved:\n",
        "    return moves\n",
        "  else:\n",
        "    return None\n",
        "\n",
        "moves = seq_increment(original_tubes)  \n",
        "if moves is not None:\n",
        "  for k,(i,j) in enumerate(moves):\n",
        "    print(\"move:%d -> transfer tube%d to tube%d\"%(k+1,i+1,j+1))\n",
        "else:\n",
        "  print(\"failed\")       "
      ],
      "execution_count": 19,
      "outputs": [
        {
          "output_type": "stream",
          "text": [
            "move:1 -> transfer tube1 to tube6\n",
            "move:2 -> transfer tube4 to tube1\n",
            "move:3 -> transfer tube1 to tube7\n",
            "move:4 -> transfer tube3 to tube6\n",
            "move:5 -> transfer tube2 to tube3\n",
            "move:6 -> transfer tube4 to tube2\n",
            "move:7 -> transfer tube1 to tube4\n",
            "move:8 -> transfer tube1 to tube6\n",
            "move:9 -> transfer tube2 to tube1\n",
            "move:10 -> transfer tube2 to tube4\n",
            "move:11 -> transfer tube3 to tube2\n",
            "move:12 -> transfer tube4 to tube3\n",
            "move:13 -> transfer tube4 to tube6\n",
            "move:14 -> transfer tube5 to tube4\n",
            "move:15 -> transfer tube5 to tube2\n",
            "move:16 -> transfer tube1 to tube5\n",
            "move:17 -> transfer tube4 to tube7\n"
          ],
          "name": "stdout"
        }
      ]
    },
    {
      "cell_type": "markdown",
      "metadata": {
        "id": "a4uhlYeFtJMR"
      },
      "source": [
        "### random search"
      ]
    },
    {
      "cell_type": "code",
      "metadata": {
        "id": "hufXO9uI6bCm"
      },
      "source": [
        "import numpy as np\n",
        "from tqdm.notebook import tqdm"
      ],
      "execution_count": 23,
      "outputs": []
    },
    {
      "cell_type": "code",
      "metadata": {
        "colab": {
          "base_uri": "https://localhost:8080/",
          "height": 338,
          "referenced_widgets": [
            "599aa044f2994f73871e4eb5b7f1e6cf",
            "815d7d9344ab4f1bb534bc0ecae01ded",
            "9882465cdfc145cb97c1316be07f494b",
            "b0c8f5f1f1524f3ba98ec5aef0e4b37c",
            "b9f1c889b2364dfe8bfec656e3a6caeb",
            "be68d42901e543e9b6543f3abce57f5b",
            "3ab6722cf54b4c3897e33318b9a7b7c2",
            "02d01759bfe74e5089d79adffe5a19b3"
          ]
        },
        "id": "E8xYzi8M6Jwc",
        "outputId": "40c65164-7702-48a3-d671-a47b41fff7d8"
      },
      "source": [
        "def random_search(original_tubes, n_runs=1000, check_all=False):\n",
        "  run_moves = []\n",
        "\n",
        "  for run in tqdm(range(n_runs)):\n",
        "    tubes = deepcopy(original_tubes)\n",
        "    moves_tested = []\n",
        "    moves = []\n",
        "    solved = False\n",
        "    \n",
        "    move_indx = 1\n",
        "    \n",
        "    while True:\n",
        "      if allSame(tubes):\n",
        "        #print(\"run %d : done\"%(run))\n",
        "        solved = True\n",
        "        break\n",
        "      # transfer from tube1 to tube2\n",
        "      if len(moves_tested) == np.math.factorial(len(tubes))/(2*np.math.factorial(len(tubes)-2)):\n",
        "        break\n",
        "      while True:\n",
        "        i,j = np.random.choice(range(len(tubes)),2,replace=False)\n",
        "        if (i,j) not in moves_tested and (j,i) not in moves_tested:\n",
        "          moves_tested.append((i,j))\n",
        "          break\n",
        "\n",
        "      transferred = False\n",
        "      tube1, tube2 = tubes[i], tubes[j]\n",
        "      cond_1 = nonEmptyIndex(tube1) < len(tube1)  # tube1 should not be empty\n",
        "      cond_2 = nonEmptyIndex(tube2) > 0   # tube2 should not be full\n",
        "      if cond_1 and cond_2:\n",
        "        new_tubes = deepcopy(tubes)\n",
        "        new_tube1, new_tube2 = transfer(tube1.copy(),tube2.copy())\n",
        "        if new_tube1 is not None:          \n",
        "          new_tubes[i], new_tubes[j] = new_tube1, new_tube2\n",
        "          #print(\"move:%d -> transfer tube%d to tube%d\"%(move_indx,i+1,j+1))\n",
        "          moves.append((i,j))\n",
        "          move_indx += 1\n",
        "          #print(new_tubes)\n",
        "          transferred = True\n",
        "          tubes = new_tubes\n",
        "      if not transferred:\n",
        "        tube1, tube2 = tubes[j], tubes[i]\n",
        "        cond_1 = nonEmptyIndex(tube1) < len(tube1)  # tube1 should not be empty\n",
        "        cond_2 = nonEmptyIndex(tube2) > 0   # tube2 should not be full\n",
        "        if cond_1 and cond_2:\n",
        "          new_tubes = deepcopy(tubes)\n",
        "          new_tube1, new_tube2 = transfer(tube1.copy(),tube2.copy())\n",
        "          if new_tube1 is not None:          \n",
        "            new_tubes[j], new_tubes[i] = new_tube1, new_tube2           \n",
        "            #print(\"move:%d -> transfer tube%d to tube%d\"%(move_indx,j+1,i+1))\n",
        "            moves.append((j,i))\n",
        "            move_indx += 1\n",
        "            #print(new_tubes)\n",
        "            transferred = True\n",
        "            tubes = new_tubes \n",
        "      if transferred:\n",
        "        moves_tested = []\n",
        "    if not solved:\n",
        "      #print(\"run %d : failed\"%(run))\n",
        "      continue\n",
        "    run_moves.append(moves)\n",
        "    if not check_all:\n",
        "      print(\"found a solution in run %d\"%(run));\n",
        "      break\n",
        "  if check_all:\n",
        "    print(\"all runs completed\\n\")  \n",
        "\n",
        "  if len(run_moves) > 0:\n",
        "    move_lens = [len(moves) for moves in run_moves]\n",
        "    min_run = move_lens.index(min(move_lens))\n",
        "    best_moves = run_moves[min_run]\n",
        "    return best_moves\n",
        "  else:\n",
        "    return None  \n",
        "\n",
        "\n",
        "moves = random_search(original_tubes)  \n",
        "if moves is not None:\n",
        "  for k,(i,j) in enumerate(moves):\n",
        "    print(\"move:%d -> transfer tube%d to tube%d\"%(k+1,i+1,j+1))\n",
        "else:\n",
        "  print(\"failed\")"
      ],
      "execution_count": 27,
      "outputs": [
        {
          "output_type": "display_data",
          "data": {
            "application/vnd.jupyter.widget-view+json": {
              "model_id": "599aa044f2994f73871e4eb5b7f1e6cf",
              "version_minor": 0,
              "version_major": 2
            },
            "text/plain": [
              "HBox(children=(FloatProgress(value=0.0, max=1000.0), HTML(value='')))"
            ]
          },
          "metadata": {
            "tags": []
          }
        },
        {
          "output_type": "stream",
          "text": [
            "found a solution in run 0\n",
            "move:1 -> transfer tube2 to tube7\n",
            "move:2 -> transfer tube5 to tube6\n",
            "move:3 -> transfer tube4 to tube6\n",
            "move:4 -> transfer tube4 to tube2\n",
            "move:5 -> transfer tube5 to tube7\n",
            "move:6 -> transfer tube2 to tube5\n",
            "move:7 -> transfer tube2 to tube4\n",
            "move:8 -> transfer tube3 to tube2\n",
            "move:9 -> transfer tube1 to tube2\n",
            "move:10 -> transfer tube3 to tube7\n",
            "move:11 -> transfer tube3 to tube4\n",
            "move:12 -> transfer tube4 to tube3\n",
            "move:13 -> transfer tube1 to tube6\n",
            "move:14 -> transfer tube4 to tube2\n",
            "move:15 -> transfer tube1 to tube3\n",
            "move:16 -> transfer tube2 to tube1\n"
          ],
          "name": "stdout"
        }
      ]
    }
  ]
}