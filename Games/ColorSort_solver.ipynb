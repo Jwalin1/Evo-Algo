{
  "nbformat": 4,
  "nbformat_minor": 0,
  "metadata": {
    "colab": {
      "name": "ColorSort_solver.ipynb",
      "provenance": [],
      "collapsed_sections": []
    },
    "kernelspec": {
      "name": "python3",
      "display_name": "Python 3"
    },
    "language_info": {
      "name": "python"
    }
  },
  "cells": [
    {
      "cell_type": "code",
      "metadata": {
        "id": "kIaHbEcLX4J1"
      },
      "source": [
        "from copy import deepcopy"
      ],
      "execution_count": 10,
      "outputs": []
    },
    {
      "cell_type": "code",
      "metadata": {
        "id": "McoHp9roMIoY"
      },
      "source": [
        "# exmaple 1\n",
        "original_tubes = [\n",
        "          ['p','b','r','p'],\n",
        "          ['y','g','g','r'],\n",
        "          ['p','y','y','r'],\n",
        "          ['b','g','r','p'],\n",
        "          ['b','b','y','g'],\n",
        "          ['0']*4,  ['0']*4\n",
        "]"
      ],
      "execution_count": 18,
      "outputs": []
    },
    {
      "cell_type": "code",
      "metadata": {
        "id": "7vELtWJQPxlj"
      },
      "source": [
        "# exmaple 2\n",
        "original_tubes = [\n",
        "          ['y','g','g','r'],\n",
        "          ['p','b','r','p'],\n",
        "          ['0']*4,  ['0']*4,\n",
        "          ['p','y','y','r'],\n",
        "          ['b','g','r','p'],\n",
        "          ['b','b','y','g'],\n",
        "]"
      ],
      "execution_count": 17,
      "outputs": []
    },
    {
      "cell_type": "code",
      "metadata": {
        "id": "JwCjT_5lRmfE"
      },
      "source": [
        "# exmaple 3\n",
        "original_tubes = [\n",
        "          ['lb','y','o','lg'],\n",
        "          ['lb','g','y','dg'],\n",
        "          ['p','lg','r','db'],\n",
        "          ['y','lb','r','dp'],\n",
        "          ['dg','lp','db','y'],\n",
        "          ['b','dg','b','g'],\n",
        "          ['b','db','p','r'], # one row\n",
        "          ['p','lp','db','b'],\n",
        "          ['dp','lp','lg','dp'],\n",
        "          ['dg','dp','p','r'],\n",
        "          ['o','lg','g','lb'],\n",
        "          ['lp','o','g','o'],\n",
        "          ['0']*4, ['0']*4\n",
        "]"
      ],
      "execution_count": 5,
      "outputs": []
    },
    {
      "cell_type": "code",
      "metadata": {
        "id": "dlU3UkcCNnLJ"
      },
      "source": [
        "def nonEmptyIndex(tube):\n",
        "  i=0\n",
        "  while i in range(len(tube)):\n",
        "    if tube[i] != '0':\n",
        "      break\n",
        "    i+=1\n",
        "  return i"
      ],
      "execution_count": 12,
      "outputs": []
    },
    {
      "cell_type": "code",
      "metadata": {
        "id": "swqgPOpOYDGZ"
      },
      "source": [
        "def transfer(tube1,tube2):\n",
        "\n",
        "  # check if colr matches\n",
        "  t1_indx = nonEmptyIndex(tube1)\n",
        "  t2_indx = nonEmptyIndex(tube2)\n",
        "  if t2_indx < len(tube2):  # if tube not empty\n",
        "    if tube1[t1_indx] != tube2[t2_indx]:  # check if color matches\n",
        "      return None, None\n",
        "  else:   # if tube empty\n",
        "    if allSame([tube1]):  # if all same\n",
        "      return None, None\n",
        "\n",
        "  # calc chunk size  \n",
        "  colr = tube1[t1_indx]\n",
        "  j = t1_indx + 1\n",
        "  while j in range(len(tube1)):\n",
        "    if tube1[j] != colr:\n",
        "      break\n",
        "    j+=1\n",
        "  chunk_size = j - t1_indx\n",
        "  \n",
        "  if chunk_size <= nonEmptyIndex(tube2):  # check if tube2 can hold chunk\n",
        "    for k in range(chunk_size):\n",
        "      #print(tube2[j-k-1])\n",
        "      tube2[t2_indx - k - 1] = tube1[t1_indx + k]\n",
        "      tube1[t1_indx + k] = '0'\n",
        "  else:\n",
        "    return None, None\n",
        "\n",
        "  return tube1,tube2"
      ],
      "execution_count": 13,
      "outputs": []
    },
    {
      "cell_type": "code",
      "metadata": {
        "id": "c35wpgFPueGa"
      },
      "source": [
        "def allSame(tubes):\n",
        "  same = True\n",
        "  colrs = []\n",
        "  for tube in tubes:\n",
        "    t_indx = nonEmptyIndex(tube)\n",
        "    if t_indx == len(tube):  # all same if tube empty\n",
        "      continue\n",
        "\n",
        "    colr1 = tube[t_indx]\n",
        "    colrs.append(colr1)\n",
        "    t_indx += 1\n",
        "    while t_indx in range(len(tube)):\n",
        "      if tube[t_indx] != colr1:\n",
        "        return False\n",
        "      t_indx += 1\n",
        "\n",
        "  if len(colrs) > len(set(colrs)):\n",
        "    return False\n",
        "  return same"
      ],
      "execution_count": 14,
      "outputs": []
    },
    {
      "cell_type": "markdown",
      "metadata": {
        "id": "EJQ6jCGPHvmd"
      },
      "source": [
        "### sequential backtracking"
      ]
    },
    {
      "cell_type": "code",
      "metadata": {
        "id": "mpUQnHb0Ub8c"
      },
      "source": [
        "def seq_backtrack(original_tubes):\n",
        "  tubes = deepcopy(original_tubes)\n",
        "  solved = False\n",
        "  tubes_state = []\n",
        "\n",
        "  i=0;  j=1; run=0; max_moves=0\n",
        "  while True:\n",
        "    if allSame(tubes):\n",
        "      solved = True\n",
        "      break\n",
        "    transferred = False\n",
        "    tubes_state.append([tubes])\n",
        "\n",
        "    # transfer from tube1 to tube2\n",
        "    while i in range(len(tubes)):\n",
        "      while j in range(i+1,len(tubes)):\n",
        "        tube1, tube2 = tubes[i], tubes[j]\n",
        "        cond_1 = nonEmptyIndex(tube1) < len(tube1)  # tube1 should not be empty\n",
        "        cond_2 = nonEmptyIndex(tube2) > 0   # tube2 should not be full\n",
        "        if cond_1 and cond_2:\n",
        "          new_tubes = deepcopy(tubes)\n",
        "          new_tube1, new_tube2 = transfer(tube1.copy(),tube2.copy())\n",
        "          if new_tube1 is not None:          \n",
        "            new_tubes[i], new_tubes[j] = new_tube1, new_tube2           \n",
        "            #print(\"move:%d -> transfer tube%d to tube%d\"%(move_indx,i+1,j+1))\n",
        "            move = (i,j,False)\n",
        "            #print(new_tubes)\n",
        "            transferred = True\n",
        "            tubes = new_tubes\n",
        "            break\n",
        "        if not transferred:\n",
        "          tube1, tube2 = tubes[j], tubes[i]\n",
        "          cond_1 = nonEmptyIndex(tube1) < len(tube1)  # tube1 should not be empty\n",
        "          cond_2 = nonEmptyIndex(tube2) > 0   # tube2 should not be full\n",
        "          if cond_1 and cond_2:\n",
        "            new_tubes = deepcopy(tubes)\n",
        "            new_tube1, new_tube2 = transfer(tube1.copy(),tube2.copy())\n",
        "            if new_tube1 is not None:          \n",
        "              new_tubes[j], new_tubes[i] = new_tube1, new_tube2           \n",
        "              #print(\"move:%d -> transfer tube%d to tube%d\"%(move_indx,j+1,i+1))\n",
        "              move = (i,j,True)\n",
        "              #print(new_tubes)\n",
        "              transferred = True\n",
        "              tubes = new_tubes\n",
        "              break\n",
        "        j += 1        \n",
        "      if transferred:\n",
        "        break\n",
        "      i+=1; j=i+1\n",
        "    if not transferred:   # stuck having checked all possibilities\n",
        "      tubes, i, j, _ = tubes_state[-2]    # get the 2nd last state and its moves\n",
        "\n",
        "      j += 1 \n",
        "      if j == len(tubes):\n",
        "        i += 1\n",
        "        j = i+1\n",
        "        if i == len(tubes):\n",
        "          break\n",
        "      del tubes_state[-2]   # delete the 2nd last state as its moves should be updated\n",
        "      del tubes_state[-1]   # delete the last state as no moves possible from there\n",
        "    else:\n",
        "      i=0; j=1\n",
        "      tubes_state[-1].extend(move)\n",
        "\n",
        "    if len(tubes_state) > max_moves:\n",
        "      max_moves = len(tubes_state)\n",
        "    if run%1000==0:\n",
        "      print(\"run %d, max_moves = %d\"%(run,max_moves))\n",
        "    run += 1  \n",
        "      \n",
        "  if solved:\n",
        "    moves = []\n",
        "    for _, i,j,swap in tubes_state:\n",
        "      if swap:\n",
        "        moves.append((j,i))\n",
        "      else:\n",
        "        moves.append((i,j))\n",
        "    return moves\n",
        "  else:\n",
        "    return None\n",
        "\n",
        "def printMoves(moves):\n",
        "  if moves is not None:\n",
        "    for k,(i,j) in enumerate(moves):\n",
        "      print(\"move:%d -> transfer tube%d to tube%d\"%(k+1,i+1,j+1))\n",
        "  else:\n",
        "    print(\"failed\")"
      ],
      "execution_count": 5,
      "outputs": []
    },
    {
      "cell_type": "markdown",
      "metadata": {
        "id": "gDcu0WqktO-S"
      },
      "source": [
        "### sequential incremental"
      ]
    },
    {
      "cell_type": "code",
      "metadata": {
        "id": "vn6rIgtdNNTZ"
      },
      "source": [
        "def seq_increment(original_tubes):  \n",
        "  tubes = deepcopy(original_tubes)\n",
        "  solved = False\n",
        "  move_indx = 0\n",
        "  moves = []\n",
        "\n",
        "  for k in range(1000):\n",
        "    if allSame(tubes):\n",
        "      solved = True\n",
        "      break\n",
        "    transferred = False\n",
        "\n",
        "    # transfer from tube1 to tube2\n",
        "    for i in range(len(tubes)):\n",
        "      for j in range(i+1,len(tubes)):\n",
        "        tube1, tube2 = tubes[i], tubes[j]\n",
        "        cond_1 = nonEmptyIndex(tube1) < len(tube1)  # tube1 should not be empty\n",
        "        cond_2 = nonEmptyIndex(tube2) > 0   # tube2 should not be full\n",
        "        if cond_1 and cond_2:\n",
        "          new_tubes = deepcopy(tubes)\n",
        "          new_tube1, new_tube2 = transfer(tube1.copy(),tube2.copy())\n",
        "          if new_tube1 is not None:          \n",
        "            new_tubes[i], new_tubes[j] = new_tube1, new_tube2           \n",
        "            #print(\"move:%d -> transfer tube%d to tube%d\"%(move_indx,i+1,j+1))\n",
        "            moves.append((i,j))\n",
        "            #print(new_tubes)\n",
        "            transferred = True\n",
        "            tubes = new_tubes\n",
        "            break\n",
        "        if not transferred:\n",
        "          tube1, tube2 = tubes[j], tubes[i]\n",
        "          cond_1 = nonEmptyIndex(tube1) < len(tube1)  # tube1 should not be empty\n",
        "          cond_2 = nonEmptyIndex(tube2) > 0   # tube2 should not be full\n",
        "          if cond_1 and cond_2:\n",
        "            new_tubes = deepcopy(tubes)\n",
        "            new_tube1, new_tube2 = transfer(tube1.copy(),tube2.copy())\n",
        "            if new_tube1 is not None:          \n",
        "              new_tubes[j], new_tubes[i] = new_tube1, new_tube2           \n",
        "              #print(\"move:%d -> transfer tube%d to tube%d\"%(move_indx,j+1,i+1))\n",
        "              moves.append((j,i))\n",
        "              #print(new_tubes)\n",
        "              transferred = True\n",
        "              tubes = new_tubes\n",
        "              break\n",
        "      if transferred:\n",
        "        break\n",
        "    if not transferred:\n",
        "      break\n",
        "      \n",
        "  if solved:\n",
        "    return moves\n",
        "  else:\n",
        "    return None"
      ],
      "execution_count": 6,
      "outputs": []
    },
    {
      "cell_type": "markdown",
      "metadata": {
        "id": "a4uhlYeFtJMR"
      },
      "source": [
        "### random search"
      ]
    },
    {
      "cell_type": "code",
      "metadata": {
        "id": "hufXO9uI6bCm"
      },
      "source": [
        "import numpy as np\n",
        "from tqdm.notebook import tqdm"
      ],
      "execution_count": 7,
      "outputs": []
    },
    {
      "cell_type": "code",
      "metadata": {
        "id": "E8xYzi8M6Jwc"
      },
      "source": [
        "def random_search(original_tubes, n_runs=1000, check_all=False):\n",
        "  run_moves = []\n",
        "\n",
        "  for run in tqdm(range(n_runs)):\n",
        "    tubes = deepcopy(original_tubes)\n",
        "    moves_tested = []\n",
        "    moves = []\n",
        "    solved = False\n",
        "    \n",
        "    move_indx = 1\n",
        "    \n",
        "    while True:\n",
        "      if allSame(tubes):\n",
        "        #print(\"run %d : done\"%(run))\n",
        "        solved = True\n",
        "        break\n",
        "      # transfer from tube1 to tube2\n",
        "      if len(moves_tested) == np.math.factorial(len(tubes))/(2*np.math.factorial(len(tubes)-2)):\n",
        "        break\n",
        "      while True:\n",
        "        i,j = np.random.choice(range(len(tubes)),2,replace=False)\n",
        "        if (i,j) not in moves_tested and (j,i) not in moves_tested:\n",
        "          moves_tested.append((i,j))\n",
        "          break\n",
        "\n",
        "      transferred = False\n",
        "      tube1, tube2 = tubes[i], tubes[j]\n",
        "      cond_1 = nonEmptyIndex(tube1) < len(tube1)  # tube1 should not be empty\n",
        "      cond_2 = nonEmptyIndex(tube2) > 0   # tube2 should not be full\n",
        "      if cond_1 and cond_2:\n",
        "        new_tubes = deepcopy(tubes)\n",
        "        new_tube1, new_tube2 = transfer(tube1.copy(),tube2.copy())\n",
        "        if new_tube1 is not None:          \n",
        "          new_tubes[i], new_tubes[j] = new_tube1, new_tube2\n",
        "          #print(\"move:%d -> transfer tube%d to tube%d\"%(move_indx,i+1,j+1))\n",
        "          moves.append((i,j))\n",
        "          move_indx += 1\n",
        "          #print(new_tubes)\n",
        "          transferred = True\n",
        "          tubes = new_tubes\n",
        "      if not transferred:\n",
        "        tube1, tube2 = tubes[j], tubes[i]\n",
        "        cond_1 = nonEmptyIndex(tube1) < len(tube1)  # tube1 should not be empty\n",
        "        cond_2 = nonEmptyIndex(tube2) > 0   # tube2 should not be full\n",
        "        if cond_1 and cond_2:\n",
        "          new_tubes = deepcopy(tubes)\n",
        "          new_tube1, new_tube2 = transfer(tube1.copy(),tube2.copy())\n",
        "          if new_tube1 is not None:          \n",
        "            new_tubes[j], new_tubes[i] = new_tube1, new_tube2           \n",
        "            #print(\"move:%d -> transfer tube%d to tube%d\"%(move_indx,j+1,i+1))\n",
        "            moves.append((j,i))\n",
        "            move_indx += 1\n",
        "            #print(new_tubes)\n",
        "            transferred = True\n",
        "            tubes = new_tubes \n",
        "      if transferred:\n",
        "        moves_tested = []\n",
        "    if not solved:\n",
        "      #print(\"run %d : failed\"%(run))\n",
        "      continue\n",
        "    run_moves.append(moves)\n",
        "    if not check_all:\n",
        "      print(\"found a solution in run %d\"%(run));\n",
        "      break\n",
        "  if check_all:\n",
        "    print(\"all runs completed\\n\")  \n",
        "\n",
        "  if len(run_moves) > 0:\n",
        "    move_lens = [len(moves) for moves in run_moves]\n",
        "    min_run = move_lens.index(min(move_lens))\n",
        "    best_moves = run_moves[min_run]\n",
        "    return best_moves\n",
        "  else:\n",
        "    return None"
      ],
      "execution_count": 8,
      "outputs": []
    },
    {
      "cell_type": "code",
      "metadata": {
        "colab": {
          "base_uri": "https://localhost:8080/"
        },
        "id": "1fHuJcK66d4X",
        "outputId": "5b82b74e-76b8-430a-c41a-588ee2d1aff8"
      },
      "source": [
        "moves = seq_backtrack(original_tubes)  \n",
        "printMoves(moves)"
      ],
      "execution_count": 15,
      "outputs": [
        {
          "output_type": "stream",
          "text": [
            "run 0, max_moves = 1\n",
            "move:1 -> transfer tube1 to tube3\n",
            "move:2 -> transfer tube2 to tube4\n",
            "move:3 -> transfer tube6 to tube2\n",
            "move:4 -> transfer tube6 to tube1\n",
            "move:5 -> transfer tube5 to tube4\n",
            "move:6 -> transfer tube3 to tube5\n",
            "move:7 -> transfer tube1 to tube3\n",
            "move:8 -> transfer tube1 to tube6\n",
            "move:9 -> transfer tube2 to tube1\n",
            "move:10 -> transfer tube7 to tube1\n",
            "move:11 -> transfer tube2 to tube6\n",
            "move:12 -> transfer tube2 to tube4\n",
            "move:13 -> transfer tube5 to tube2\n",
            "move:14 -> transfer tube7 to tube2\n",
            "move:15 -> transfer tube3 to tube7\n",
            "move:16 -> transfer tube6 to tube3\n",
            "move:17 -> transfer tube3 to tube5\n",
            "move:18 -> transfer tube4 to tube6\n"
          ],
          "name": "stdout"
        }
      ]
    },
    {
      "cell_type": "code",
      "metadata": {
        "colab": {
          "base_uri": "https://localhost:8080/",
          "height": 1000
        },
        "id": "HOLmA3GX6_k-",
        "outputId": "ea058795-cecb-449f-b3bf-e0beeedbd959"
      },
      "source": [
        "from ColorSort import playGame, replaceColors\n",
        "\n",
        "colrs = {'p':\"pink\", 'b':\"blue\", 'r':\"red\", 'y':\"yellow\", 'g':\"green\"}\n",
        "tubes = replaceColors(original_tubes, colrs)\n",
        "playGame(tubes, moves)"
      ],
      "execution_count": 18,
      "outputs": [
        {
          "output_type": "display_data",
          "data": {
            "image/png": "[encoded data removed]",
            "text/plain": [
              "<Figure size 720x216 with 2 Axes>"
            ]
          },
          "metadata": {
            "tags": [],
            "needs_background": "light"
          }
        },
        {
          "output_type": "stream",
          "text": [
            "move:1 -> transfer tube1 to tube3\n"
          ],
          "name": "stdout"
        },
        {
          "output_type": "display_data",
          "data": {
            "image/png": "[encoded data removed]",
            "text/plain": [
              "<Figure size 720x216 with 2 Axes>"
            ]
          },
          "metadata": {
            "tags": [],
            "needs_background": "light"
          }
        },
        {
          "output_type": "stream",
          "text": [
            "move:2 -> transfer tube2 to tube4\n"
          ],
          "name": "stdout"
        },
        {
          "output_type": "display_data",
          "data": {
            "image/png": "[encoded data removed]",
            "text/plain": [
              "<Figure size 720x216 with 2 Axes>"
            ]
          },
          "metadata": {
            "tags": [],
            "needs_background": "light"
          }
        },
        {
          "output_type": "stream",
          "text": [
            "move:3 -> transfer tube6 to tube2\n"
          ],
          "name": "stdout"
        },
        {
          "output_type": "display_data",
          "data": {
            "image/png": "[encoded data removed]",
            "text/plain": [
              "<Figure size 720x216 with 2 Axes>"
            ]
          },
          "metadata": {
            "tags": [],
            "needs_background": "light"
          }
        },
        {
          "output_type": "stream",
          "text": [
            "move:4 -> transfer tube6 to tube1\n"
          ],
          "name": "stdout"
        },
        {
          "output_type": "display_data",
          "data": {
            "image/png": "[encoded data removed]",
            "text/plain": [
              "<Figure size 720x216 with 2 Axes>"
            ]
          },
          "metadata": {
            "tags": [],
            "needs_background": "light"
          }
        },
        {
          "output_type": "stream",
          "text": [
            "move:5 -> transfer tube5 to tube4\n"
          ],
          "name": "stdout"
        },
        {
          "output_type": "display_data",
          "data": {
            "image/png": "[encoded data removed]",
            "text/plain": [
              "<Figure size 720x216 with 2 Axes>"
            ]
          },
          "metadata": {
            "tags": [],
            "needs_background": "light"
          }
        },
        {
          "output_type": "stream",
          "text": [
            "move:6 -> transfer tube3 to tube5\n"
          ],
          "name": "stdout"
        },
        {
          "output_type": "display_data",
          "data": {
            "image/png": "[encoded data removed]",
            "text/plain": [
              "<Figure size 720x216 with 2 Axes>"
            ]
          },
          "metadata": {
            "tags": [],
            "needs_background": "light"
          }
        },
        {
          "output_type": "stream",
          "text": [
            "move:7 -> transfer tube1 to tube3\n"
          ],
          "name": "stdout"
        },
        {
          "output_type": "display_data",
          "data": {
            "image/png": "[encoded data removed]",
            "text/plain": [
              "<Figure size 720x216 with 2 Axes>"
            ]
          },
          "metadata": {
            "tags": [],
            "needs_background": "light"
          }
        },
        {
          "output_type": "stream",
          "text": [
            "move:8 -> transfer tube1 to tube6\n"
          ],
          "name": "stdout"
        },
        {
          "output_type": "display_data",
          "data": {
            "image/png": "[encoded data removed]",
            "text/plain": [
              "<Figure size 720x216 with 2 Axes>"
            ]
          },
          "metadata": {
            "tags": [],
            "needs_background": "light"
          }
        },
        {
          "output_type": "stream",
          "text": [
            "move:9 -> transfer tube2 to tube1\n"
          ],
          "name": "stdout"
        },
        {
          "output_type": "display_data",
          "data": {
            "image/png": "[encoded data removed]",
            "text/plain": [
              "<Figure size 720x216 with 2 Axes>"
            ]
          },
          "metadata": {
            "tags": [],
            "needs_background": "light"
          }
        },
        {
          "output_type": "stream",
          "text": [
            "move:10 -> transfer tube7 to tube1\n"
          ],
          "name": "stdout"
        },
        {
          "output_type": "display_data",
          "data": {
            "image/png": "[encoded data removed]",
            "text/plain": [
              "<Figure size 720x216 with 2 Axes>"
            ]
          },
          "metadata": {
            "tags": [],
            "needs_background": "light"
          }
        },
        {
          "output_type": "stream",
          "text": [
            "move:11 -> transfer tube2 to tube6\n"
          ],
          "name": "stdout"
        },
        {
          "output_type": "display_data",
          "data": {
            "image/png": "[encoded data removed]",
            "text/plain": [
              "<Figure size 720x216 with 2 Axes>"
            ]
          },
          "metadata": {
            "tags": [],
            "needs_background": "light"
          }
        },
        {
          "output_type": "stream",
          "text": [
            "move:12 -> transfer tube2 to tube4\n"
          ],
          "name": "stdout"
        },
        {
          "output_type": "display_data",
          "data": {
            "image/png": "[encoded data removed]",
            "text/plain": [
              "<Figure size 720x216 with 2 Axes>"
            ]
          },
          "metadata": {
            "tags": [],
            "needs_background": "light"
          }
        },
        {
          "output_type": "stream",
          "text": [
            "move:13 -> transfer tube5 to tube2\n"
          ],
          "name": "stdout"
        },
        {
          "output_type": "display_data",
          "data": {
            "image/png": "[encoded data removed]",
            "text/plain": [
              "<Figure size 720x216 with 2 Axes>"
            ]
          },
          "metadata": {
            "tags": [],
            "needs_background": "light"
          }
        },
        {
          "output_type": "stream",
          "text": [
            "move:14 -> transfer tube7 to tube2\n"
          ],
          "name": "stdout"
        },
        {
          "output_type": "display_data",
          "data": {
            "image/png": "[encoded data removed]",
            "text/plain": [
              "<Figure size 720x216 with 2 Axes>"
            ]
          },
          "metadata": {
            "tags": [],
            "needs_background": "light"
          }
        },
        {
          "output_type": "stream",
          "text": [
            "move:15 -> transfer tube3 to tube7\n"
          ],
          "name": "stdout"
        },
        {
          "output_type": "display_data",
          "data": {
            "image/png": "[encoded data removed]",
            "text/plain": [
              "<Figure size 720x216 with 2 Axes>"
            ]
          },
          "metadata": {
            "tags": [],
            "needs_background": "light"
          }
        },
        {
          "output_type": "stream",
          "text": [
            "move:16 -> transfer tube6 to tube3\n"
          ],
          "name": "stdout"
        },
        {
          "output_type": "display_data",
          "data": {
            "image/png": "[encoded data removed]",
            "text/plain": [
              "<Figure size 720x216 with 2 Axes>"
            ]
          },
          "metadata": {
            "tags": [],
            "needs_background": "light"
          }
        },
        {
          "output_type": "stream",
          "text": [
            "move:17 -> transfer tube3 to tube5\n"
          ],
          "name": "stdout"
        },
        {
          "output_type": "display_data",
          "data": {
            "image/png": "[encoded data removed]",
            "text/plain": [
              "<Figure size 720x216 with 2 Axes>"
            ]
          },
          "metadata": {
            "tags": [],
            "needs_background": "light"
          }
        },
        {
          "output_type": "stream",
          "text": [
            "move:18 -> transfer tube4 to tube6\n"
          ],
          "name": "stdout"
        },
        {
          "output_type": "display_data",
          "data": {
            "image/png": "[encoded data removed]",
            "text/plain": [
              "<Figure size 720x216 with 2 Axes>"
            ]
          },
          "metadata": {
            "tags": [],
            "needs_background": "light"
          }
        }
      ]
    }
  ]
}