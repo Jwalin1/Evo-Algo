{
  "nbformat": 4,
  "nbformat_minor": 0,
  "metadata": {
    "colab": {
      "name": "ColorSort.ipynb",
      "provenance": []
    },
    "kernelspec": {
      "name": "python3",
      "display_name": "Python 3"
    },
    "language_info": {
      "name": "python"
    }
  },
  "cells": [
    {
      "cell_type": "code",
      "metadata": {
        "id": "0N7CJRVf7Flm"
      },
      "source": [
        "from copy import deepcopy\n",
        "import matplotlib.pyplot as plt"
      ],
      "execution_count": 6,
      "outputs": []
    },
    {
      "cell_type": "code",
      "metadata": {
        "id": "684wA4rF7CFh"
      },
      "source": [
        "# exmaple 1\n",
        "original_tubes = [\n",
        "          ['p','b','r','p'],\n",
        "          ['y','g','g','r'],\n",
        "          ['0']*4,  ['0']*4,\n",
        "          ['p','y','y','r'],\n",
        "          ['b','g','r','p'],\n",
        "          ['b','b','y','g'],\n",
        "]"
      ],
      "execution_count": 7,
      "outputs": []
    },
    {
      "cell_type": "code",
      "metadata": {
        "id": "RvFC9JfcB1x9"
      },
      "source": [
        "colrs = {'p':\"pink\", 'b':\"blue\", 'r':\"red\", 'y':\"yellow\", 'g':\"green\"}\n",
        "\n",
        "for tube in original_tubes:\n",
        "  for i,colr in enumerate(tube):\n",
        "    if colr != '0':\n",
        "      tube[i] = colrs[colr]"
      ],
      "execution_count": 8,
      "outputs": []
    },
    {
      "cell_type": "code",
      "metadata": {
        "id": "h7MdIhsY94I_"
      },
      "source": [
        "def plot_tubes(tubes):\n",
        "  n_plots = len(tubes)//5 + 1\n",
        "  fig, axs = plt.subplots(1,n_plots, figsize=(10,3))\n",
        "\n",
        "  for ax in axs:\n",
        "    ax.set_xlim([-0.5,4.5])\n",
        "\n",
        "  for i,tube in enumerate(tubes):\n",
        "    for j,colr in enumerate(reversed(tube)):\n",
        "      if colr != '0':\n",
        "        axs[i//5].bar(str(i+1), 1, bottom=j, color=colr, width=0.5, edgecolor='k')\n",
        "      else:\n",
        "        axs[i//5].bar(str(i+1), 1, bottom=j, fc=[1,1,1,0], width=0.5, edgecolor='k')\n",
        "  plt.show()      "
      ],
      "execution_count": 9,
      "outputs": []
    },
    {
      "cell_type": "code",
      "metadata": {
        "colab": {
          "base_uri": "https://localhost:8080/",
          "height": 211
        },
        "id": "B0aphicwF8CL",
        "outputId": "83855df3-43b2-4d0d-ae69-6b58fcb36f0b"
      },
      "source": [
        "plot_tubes(original_tubes)"
      ],
      "execution_count": 10,
      "outputs": [
        {
          "output_type": "display_data",
          "data": {
            "image/png": "[encoded data removed]",
            "text/plain": [
              "<Figure size 720x216 with 2 Axes>"
            ]
          },
          "metadata": {
            "tags": [],
            "needs_background": "light"
          }
        }
      ]
    },
    {
      "cell_type": "code",
      "metadata": {
        "id": "dlU3UkcCNnLJ"
      },
      "source": [
        "def nonEmptyIndex(tube):\n",
        "  i=0\n",
        "  while i in range(len(tube)):\n",
        "    if tube[i] != '0':\n",
        "      break\n",
        "    i+=1  \n",
        "  return i"
      ],
      "execution_count": 11,
      "outputs": []
    },
    {
      "cell_type": "code",
      "metadata": {
        "id": "swqgPOpOYDGZ"
      },
      "source": [
        "def transfer(tube1,tube2):\n",
        "\n",
        "  # check if colr matches\n",
        "  t1_indx = nonEmptyIndex(tube1)\n",
        "  t2_indx = nonEmptyIndex(tube2)\n",
        "  if t2_indx < len(tube2):  # if tube not empty\n",
        "    if tube1[t1_indx] != tube2[t2_indx]:  # check if color matches\n",
        "      return None, None\n",
        "  else:   # if tube empty\n",
        "    if allSame([tube1]):  # if all same\n",
        "      return None, None\n",
        "\n",
        "  # calc chunk size  \n",
        "  colr = tube1[t1_indx]\n",
        "  j = t1_indx + 1\n",
        "  while j in range(len(tube1)):\n",
        "    if tube1[j] != colr:\n",
        "      break\n",
        "    j+=1\n",
        "  chunk_size = j - t1_indx\n",
        "  \n",
        "  if chunk_size <= nonEmptyIndex(tube2):  # check if tube2 can hold chunk\n",
        "    for k in range(chunk_size):\n",
        "      #print(tube2[j-k-1])\n",
        "      tube2[t2_indx - k - 1] = tube1[t1_indx + k]\n",
        "      tube1[t1_indx + k] = '0'\n",
        "  else:\n",
        "    return None, None\n",
        "\n",
        "  return tube1,tube2"
      ],
      "execution_count": 12,
      "outputs": []
    },
    {
      "cell_type": "code",
      "metadata": {
        "id": "c35wpgFPueGa"
      },
      "source": [
        "def allSame(tubes):\n",
        "  same = True\n",
        "  colrs = []\n",
        "  for tube in tubes:\n",
        "    t_indx = nonEmptyIndex(tube)\n",
        "    if t_indx == len(tube):  # all same if tube empty\n",
        "      continue\n",
        "\n",
        "    colr1 = tube[t_indx]\n",
        "    colrs.append(colr1)\n",
        "    t_indx += 1\n",
        "    while t_indx in range(len(tube)):\n",
        "      if tube[t_indx] != colr1:\n",
        "        return False\n",
        "      t_indx += 1\n",
        "\n",
        "  if len(colrs) > len(set(colrs)):\n",
        "    return False\n",
        "  return same"
      ],
      "execution_count": 13,
      "outputs": []
    },
    {
      "cell_type": "code",
      "metadata": {
        "id": "Ohv_vSJBGXyG"
      },
      "source": [
        "def playGame(original_tubes, moves=None):\n",
        "  tubes = deepcopy(original_tubes)\n",
        "\n",
        "  move_indx = 0\n",
        "  while True:\n",
        "    plot_tubes(tubes)\n",
        "    if allSame(tubes):\n",
        "      break\n",
        "\n",
        "    if moves is None:\n",
        "      i = int(input(\"enter tube to transfer from: \")) - 1\n",
        "      j = int(input(\"enter tube to transfer to: \")) - 1\n",
        "    else:\n",
        "      i = moves[move_indx][0]\n",
        "      j = moves[move_indx][1]\n",
        "      print(\"move:%d -> transfer tube%d to tube%d\"%(move_indx+1,i+1,j+1))\n",
        "    tube1, tube2 = tubes[i], tubes[j]\n",
        "\n",
        "    transferred = False\n",
        "    cond_1 = nonEmptyIndex(tube1) < len(tube1)  # tube1 should not be empty\n",
        "    cond_2 = nonEmptyIndex(tube2) > 0   # tube2 should not be full\n",
        "    if cond_1 and cond_2:\n",
        "      new_tubes = deepcopy(tubes)\n",
        "      new_tube1, new_tube2 = transfer(tube1.copy(),tube2.copy())\n",
        "      if new_tube1 is not None:          \n",
        "          new_tubes[i], new_tubes[j] = new_tube1, new_tube2\n",
        "          move_indx += 1\n",
        "          #print(new_tubes)\n",
        "          transferred = True\n",
        "          tubes = new_tubes\n",
        "    if not transferred:\n",
        "      print(\"invalid move\")"
      ],
      "execution_count": 22,
      "outputs": []
    },
    {
      "cell_type": "markdown",
      "metadata": {
        "id": "dIHtXB9qnaO2"
      },
      "source": [
        "### play manually"
      ]
    },
    {
      "cell_type": "code",
      "metadata": {
        "id": "MOWJTpErw_he"
      },
      "source": [
        "playGame(original_tubes)"
      ],
      "execution_count": null,
      "outputs": []
    },
    {
      "cell_type": "markdown",
      "metadata": {
        "id": "-9qNaEabncyr"
      },
      "source": [
        "### use solver"
      ]
    },
    {
      "cell_type": "code",
      "metadata": {
        "id": "bE3N6hDDndxn"
      },
      "source": [
        "import ColorSort_solver"
      ],
      "execution_count": 20,
      "outputs": []
    },
    {
      "cell_type": "code",
      "metadata": {
        "colab": {
          "base_uri": "https://localhost:8080/",
          "height": 1000
        },
        "id": "0Dlerkdotn0f",
        "outputId": "239dd25f-3ad7-409e-f516-35d081902dbe"
      },
      "source": [
        "moves = ColorSort_solver.seq_backtrack(original_tubes)\n",
        "playGame(original_tubes, moves)"
      ],
      "execution_count": 23,
      "outputs": [
        {
          "output_type": "stream",
          "text": [
            "run 0, max_moves = 1\n"
          ],
          "name": "stdout"
        },
        {
          "output_type": "display_data",
          "data": {
            "image/png": "[encoded data removed]",
            "text/plain": [
              "<Figure size 720x216 with 2 Axes>"
            ]
          },
          "metadata": {
            "tags": [],
            "needs_background": "light"
          }
        },
        {
          "output_type": "stream",
          "text": [
            "move:1 -> transfer tube1 to tube3\n"
          ],
          "name": "stdout"
        },
        {
          "output_type": "display_data",
          "data": {
            "image/png": "[encoded data removed]",
            "text/plain": [
              "<Figure size 720x216 with 2 Axes>"
            ]
          },
          "metadata": {
            "tags": [],
            "needs_background": "light"
          }
        },
        {
          "output_type": "stream",
          "text": [
            "move:2 -> transfer tube1 to tube4\n"
          ],
          "name": "stdout"
        },
        {
          "output_type": "display_data",
          "data": {
            "image/png": "[encoded data removed]",
            "text/plain": [
              "<Figure size 720x216 with 2 Axes>"
            ]
          },
          "metadata": {
            "tags": [],
            "needs_background": "light"
          }
        },
        {
          "output_type": "stream",
          "text": [
            "move:3 -> transfer tube5 to tube3\n"
          ],
          "name": "stdout"
        },
        {
          "output_type": "display_data",
          "data": {
            "image/png": "[encoded data removed]",
            "text/plain": [
              "<Figure size 720x216 with 2 Axes>"
            ]
          },
          "metadata": {
            "tags": [],
            "needs_background": "light"
          }
        },
        {
          "output_type": "stream",
          "text": [
            "move:4 -> transfer tube2 to tube5\n"
          ],
          "name": "stdout"
        },
        {
          "output_type": "display_data",
          "data": {
            "image/png": "[encoded data removed]",
            "text/plain": [
              "<Figure size 720x216 with 2 Axes>"
            ]
          },
          "metadata": {
            "tags": [],
            "needs_background": "light"
          }
        },
        {
          "output_type": "stream",
          "text": [
            "move:5 -> transfer tube6 to tube4\n"
          ],
          "name": "stdout"
        },
        {
          "output_type": "display_data",
          "data": {
            "image/png": "[encoded data removed]",
            "text/plain": [
              "<Figure size 720x216 with 2 Axes>"
            ]
          },
          "metadata": {
            "tags": [],
            "needs_background": "light"
          }
        },
        {
          "output_type": "stream",
          "text": [
            "move:6 -> transfer tube6 to tube2\n"
          ],
          "name": "stdout"
        },
        {
          "output_type": "display_data",
          "data": {
            "image/png": "[encoded data removed]",
            "text/plain": [
              "<Figure size 720x216 with 2 Axes>"
            ]
          },
          "metadata": {
            "tags": [],
            "needs_background": "light"
          }
        },
        {
          "output_type": "stream",
          "text": [
            "move:7 -> transfer tube1 to tube6\n"
          ],
          "name": "stdout"
        },
        {
          "output_type": "display_data",
          "data": {
            "image/png": "[encoded data removed]",
            "text/plain": [
              "<Figure size 720x216 with 2 Axes>"
            ]
          },
          "metadata": {
            "tags": [],
            "needs_background": "light"
          }
        },
        {
          "output_type": "stream",
          "text": [
            "move:8 -> transfer tube1 to tube3\n"
          ],
          "name": "stdout"
        },
        {
          "output_type": "display_data",
          "data": {
            "image/png": "[encoded data removed]",
            "text/plain": [
              "<Figure size 720x216 with 2 Axes>"
            ]
          },
          "metadata": {
            "tags": [],
            "needs_background": "light"
          }
        },
        {
          "output_type": "stream",
          "text": [
            "move:9 -> transfer tube2 to tube1\n"
          ],
          "name": "stdout"
        },
        {
          "output_type": "display_data",
          "data": {
            "image/png": "[encoded data removed]",
            "text/plain": [
              "<Figure size 720x216 with 2 Axes>"
            ]
          },
          "metadata": {
            "tags": [],
            "needs_background": "light"
          }
        },
        {
          "output_type": "stream",
          "text": [
            "move:10 -> transfer tube2 to tube6\n"
          ],
          "name": "stdout"
        },
        {
          "output_type": "display_data",
          "data": {
            "image/png": "[encoded data removed]",
            "text/plain": [
              "<Figure size 720x216 with 2 Axes>"
            ]
          },
          "metadata": {
            "tags": [],
            "needs_background": "light"
          }
        },
        {
          "output_type": "stream",
          "text": [
            "move:11 -> transfer tube5 to tube2\n"
          ],
          "name": "stdout"
        },
        {
          "output_type": "display_data",
          "data": {
            "image/png": "[encoded data removed]",
            "text/plain": [
              "<Figure size 720x216 with 2 Axes>"
            ]
          },
          "metadata": {
            "tags": [],
            "needs_background": "light"
          }
        },
        {
          "output_type": "stream",
          "text": [
            "move:12 -> transfer tube7 to tube4\n"
          ],
          "name": "stdout"
        },
        {
          "output_type": "display_data",
          "data": {
            "image/png": "[encoded data removed]",
            "text/plain": [
              "<Figure size 720x216 with 2 Axes>"
            ]
          },
          "metadata": {
            "tags": [],
            "needs_background": "light"
          }
        },
        {
          "output_type": "stream",
          "text": [
            "move:13 -> transfer tube7 to tube2\n"
          ],
          "name": "stdout"
        },
        {
          "output_type": "display_data",
          "data": {
            "image/png": "[encoded data removed]",
            "text/plain": [
              "<Figure size 720x216 with 2 Axes>"
            ]
          },
          "metadata": {
            "tags": [],
            "needs_background": "light"
          }
        },
        {
          "output_type": "stream",
          "text": [
            "move:14 -> transfer tube1 to tube7\n"
          ],
          "name": "stdout"
        },
        {
          "output_type": "display_data",
          "data": {
            "image/png": "[encoded data removed]",
            "text/plain": [
              "<Figure size 720x216 with 2 Axes>"
            ]
          },
          "metadata": {
            "tags": [],
            "needs_background": "light"
          }
        },
        {
          "output_type": "stream",
          "text": [
            "move:15 -> transfer tube6 to tube1\n"
          ],
          "name": "stdout"
        },
        {
          "output_type": "display_data",
          "data": {
            "image/png": "[encoded data removed]",
            "text/plain": [
              "<Figure size 720x216 with 2 Axes>"
            ]
          },
          "metadata": {
            "tags": [],
            "needs_background": "light"
          }
        },
        {
          "output_type": "stream",
          "text": [
            "move:16 -> transfer tube1 to tube5\n"
          ],
          "name": "stdout"
        },
        {
          "output_type": "display_data",
          "data": {
            "image/png": "[encoded data removed]",
            "text/plain": [
              "<Figure size 720x216 with 2 Axes>"
            ]
          },
          "metadata": {
            "tags": [],
            "needs_background": "light"
          }
        },
        {
          "output_type": "stream",
          "text": [
            "move:17 -> transfer tube3 to tube6\n"
          ],
          "name": "stdout"
        },
        {
          "output_type": "display_data",
          "data": {
            "image/png": "[encoded data removed]",
            "text/plain": [
              "<Figure size 720x216 with 2 Axes>"
            ]
          },
          "metadata": {
            "tags": [],
            "needs_background": "light"
          }
        }
      ]
    }
  ]
}