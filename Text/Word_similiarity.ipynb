{
  "nbformat": 4,
  "nbformat_minor": 0,
  "metadata": {
    "colab": {
      "name": "Word_similiarity.ipynb",
      "provenance": [],
      "collapsed_sections": [],
      "toc_visible": true
    },
    "kernelspec": {
      "name": "python3",
      "display_name": "Python 3"
    },
    "language_info": {
      "name": "python"
    },
    "widgets": {
      "application/vnd.jupyter.widget-state+json": {
        "3539fe9ffb3947afbf97cbe6fffdd2dd": {
          "model_module": "@jupyter-widgets/controls",
          "model_name": "HBoxModel",
          "model_module_version": "1.5.0",
          "state": {
            "_view_name": "HBoxView",
            "_dom_classes": [],
            "_model_name": "HBoxModel",
            "_view_module": "@jupyter-widgets/controls",
            "_model_module_version": "1.5.0",
            "_view_count": null,
            "_view_module_version": "1.5.0",
            "box_style": "",
            "layout": "IPY_MODEL_058e10fe8c21434d92d9736cc15ffe50",
            "_model_module": "@jupyter-widgets/controls",
            "children": [
              "IPY_MODEL_cd79132cd00b4af2824966441ad91885",
              "IPY_MODEL_4a6d4fa18787442db7dc19406250ab0a",
              "IPY_MODEL_ffbda1dd2b2d4f0791680c993605deee"
            ]
          }
        },
        "058e10fe8c21434d92d9736cc15ffe50": {
          "model_module": "@jupyter-widgets/base",
          "model_name": "LayoutModel",
          "model_module_version": "1.2.0",
          "state": {
            "_view_name": "LayoutView",
            "grid_template_rows": null,
            "right": null,
            "justify_content": null,
            "_view_module": "@jupyter-widgets/base",
            "overflow": null,
            "_model_module_version": "1.2.0",
            "_view_count": null,
            "flex_flow": null,
            "width": null,
            "min_width": null,
            "border": null,
            "align_items": null,
            "bottom": null,
            "_model_module": "@jupyter-widgets/base",
            "top": null,
            "grid_column": null,
            "overflow_y": null,
            "overflow_x": null,
            "grid_auto_flow": null,
            "grid_area": null,
            "grid_template_columns": null,
            "flex": null,
            "_model_name": "LayoutModel",
            "justify_items": null,
            "grid_row": null,
            "max_height": null,
            "align_content": null,
            "visibility": null,
            "align_self": null,
            "height": null,
            "min_height": null,
            "padding": null,
            "grid_auto_rows": null,
            "grid_gap": null,
            "max_width": null,
            "order": null,
            "_view_module_version": "1.2.0",
            "grid_template_areas": null,
            "object_position": null,
            "object_fit": null,
            "grid_auto_columns": null,
            "margin": null,
            "display": null,
            "left": null
          }
        },
        "cd79132cd00b4af2824966441ad91885": {
          "model_module": "@jupyter-widgets/controls",
          "model_name": "HTMLModel",
          "model_module_version": "1.5.0",
          "state": {
            "_view_name": "HTMLView",
            "style": "IPY_MODEL_977317ef1b7b48319bb6277008195315",
            "_dom_classes": [],
            "description": "",
            "_model_name": "HTMLModel",
            "placeholder": "​",
            "_view_module": "@jupyter-widgets/controls",
            "_model_module_version": "1.5.0",
            "value": "100%",
            "_view_count": null,
            "_view_module_version": "1.5.0",
            "description_tooltip": null,
            "_model_module": "@jupyter-widgets/controls",
            "layout": "IPY_MODEL_00ceb13b18e14098be1e827d227f4c86"
          }
        },
        "4a6d4fa18787442db7dc19406250ab0a": {
          "model_module": "@jupyter-widgets/controls",
          "model_name": "FloatProgressModel",
          "model_module_version": "1.5.0",
          "state": {
            "_view_name": "ProgressView",
            "style": "IPY_MODEL_eaea735874444b54b9fb489d014ea09d",
            "_dom_classes": [],
            "description": "",
            "_model_name": "FloatProgressModel",
            "bar_style": "",
            "max": 6,
            "_view_module": "@jupyter-widgets/controls",
            "_model_module_version": "1.5.0",
            "value": 6,
            "_view_count": null,
            "_view_module_version": "1.5.0",
            "orientation": "horizontal",
            "min": 0,
            "description_tooltip": null,
            "_model_module": "@jupyter-widgets/controls",
            "layout": "IPY_MODEL_18ab73f65b5b443280474c218ae37e8e"
          }
        },
        "ffbda1dd2b2d4f0791680c993605deee": {
          "model_module": "@jupyter-widgets/controls",
          "model_name": "HTMLModel",
          "model_module_version": "1.5.0",
          "state": {
            "_view_name": "HTMLView",
            "style": "IPY_MODEL_c8032525492c46b9933426afe42ddb07",
            "_dom_classes": [],
            "description": "",
            "_model_name": "HTMLModel",
            "placeholder": "​",
            "_view_module": "@jupyter-widgets/controls",
            "_model_module_version": "1.5.0",
            "value": " 6/6 [00:06&lt;00:00,  1.27s/it]",
            "_view_count": null,
            "_view_module_version": "1.5.0",
            "description_tooltip": null,
            "_model_module": "@jupyter-widgets/controls",
            "layout": "IPY_MODEL_d27165c4e55c4cdaa57e87cdd23ff866"
          }
        },
        "977317ef1b7b48319bb6277008195315": {
          "model_module": "@jupyter-widgets/controls",
          "model_name": "DescriptionStyleModel",
          "model_module_version": "1.5.0",
          "state": {
            "_view_name": "StyleView",
            "_model_name": "DescriptionStyleModel",
            "description_width": "",
            "_view_module": "@jupyter-widgets/base",
            "_model_module_version": "1.5.0",
            "_view_count": null,
            "_view_module_version": "1.2.0",
            "_model_module": "@jupyter-widgets/controls"
          }
        },
        "00ceb13b18e14098be1e827d227f4c86": {
          "model_module": "@jupyter-widgets/base",
          "model_name": "LayoutModel",
          "model_module_version": "1.2.0",
          "state": {
            "_view_name": "LayoutView",
            "grid_template_rows": null,
            "right": null,
            "justify_content": null,
            "_view_module": "@jupyter-widgets/base",
            "overflow": null,
            "_model_module_version": "1.2.0",
            "_view_count": null,
            "flex_flow": null,
            "width": null,
            "min_width": null,
            "border": null,
            "align_items": null,
            "bottom": null,
            "_model_module": "@jupyter-widgets/base",
            "top": null,
            "grid_column": null,
            "overflow_y": null,
            "overflow_x": null,
            "grid_auto_flow": null,
            "grid_area": null,
            "grid_template_columns": null,
            "flex": null,
            "_model_name": "LayoutModel",
            "justify_items": null,
            "grid_row": null,
            "max_height": null,
            "align_content": null,
            "visibility": null,
            "align_self": null,
            "height": null,
            "min_height": null,
            "padding": null,
            "grid_auto_rows": null,
            "grid_gap": null,
            "max_width": null,
            "order": null,
            "_view_module_version": "1.2.0",
            "grid_template_areas": null,
            "object_position": null,
            "object_fit": null,
            "grid_auto_columns": null,
            "margin": null,
            "display": null,
            "left": null
          }
        },
        "eaea735874444b54b9fb489d014ea09d": {
          "model_module": "@jupyter-widgets/controls",
          "model_name": "ProgressStyleModel",
          "model_module_version": "1.5.0",
          "state": {
            "_view_name": "StyleView",
            "_model_name": "ProgressStyleModel",
            "description_width": "",
            "_view_module": "@jupyter-widgets/base",
            "_model_module_version": "1.5.0",
            "_view_count": null,
            "_view_module_version": "1.2.0",
            "bar_color": null,
            "_model_module": "@jupyter-widgets/controls"
          }
        },
        "18ab73f65b5b443280474c218ae37e8e": {
          "model_module": "@jupyter-widgets/base",
          "model_name": "LayoutModel",
          "model_module_version": "1.2.0",
          "state": {
            "_view_name": "LayoutView",
            "grid_template_rows": null,
            "right": null,
            "justify_content": null,
            "_view_module": "@jupyter-widgets/base",
            "overflow": null,
            "_model_module_version": "1.2.0",
            "_view_count": null,
            "flex_flow": null,
            "width": null,
            "min_width": null,
            "border": null,
            "align_items": null,
            "bottom": null,
            "_model_module": "@jupyter-widgets/base",
            "top": null,
            "grid_column": null,
            "overflow_y": null,
            "overflow_x": null,
            "grid_auto_flow": null,
            "grid_area": null,
            "grid_template_columns": null,
            "flex": null,
            "_model_name": "LayoutModel",
            "justify_items": null,
            "grid_row": null,
            "max_height": null,
            "align_content": null,
            "visibility": null,
            "align_self": null,
            "height": null,
            "min_height": null,
            "padding": null,
            "grid_auto_rows": null,
            "grid_gap": null,
            "max_width": null,
            "order": null,
            "_view_module_version": "1.2.0",
            "grid_template_areas": null,
            "object_position": null,
            "object_fit": null,
            "grid_auto_columns": null,
            "margin": null,
            "display": null,
            "left": null
          }
        },
        "c8032525492c46b9933426afe42ddb07": {
          "model_module": "@jupyter-widgets/controls",
          "model_name": "DescriptionStyleModel",
          "model_module_version": "1.5.0",
          "state": {
            "_view_name": "StyleView",
            "_model_name": "DescriptionStyleModel",
            "description_width": "",
            "_view_module": "@jupyter-widgets/base",
            "_model_module_version": "1.5.0",
            "_view_count": null,
            "_view_module_version": "1.2.0",
            "_model_module": "@jupyter-widgets/controls"
          }
        },
        "d27165c4e55c4cdaa57e87cdd23ff866": {
          "model_module": "@jupyter-widgets/base",
          "model_name": "LayoutModel",
          "model_module_version": "1.2.0",
          "state": {
            "_view_name": "LayoutView",
            "grid_template_rows": null,
            "right": null,
            "justify_content": null,
            "_view_module": "@jupyter-widgets/base",
            "overflow": null,
            "_model_module_version": "1.2.0",
            "_view_count": null,
            "flex_flow": null,
            "width": null,
            "min_width": null,
            "border": null,
            "align_items": null,
            "bottom": null,
            "_model_module": "@jupyter-widgets/base",
            "top": null,
            "grid_column": null,
            "overflow_y": null,
            "overflow_x": null,
            "grid_auto_flow": null,
            "grid_area": null,
            "grid_template_columns": null,
            "flex": null,
            "_model_name": "LayoutModel",
            "justify_items": null,
            "grid_row": null,
            "max_height": null,
            "align_content": null,
            "visibility": null,
            "align_self": null,
            "height": null,
            "min_height": null,
            "padding": null,
            "grid_auto_rows": null,
            "grid_gap": null,
            "max_width": null,
            "order": null,
            "_view_module_version": "1.2.0",
            "grid_template_areas": null,
            "object_position": null,
            "object_fit": null,
            "grid_auto_columns": null,
            "margin": null,
            "display": null,
            "left": null
          }
        },
        "1b4bf8b28fe54d9b9b4a4a3fd7019b7c": {
          "model_module": "@jupyter-widgets/controls",
          "model_name": "HBoxModel",
          "model_module_version": "1.5.0",
          "state": {
            "_view_name": "HBoxView",
            "_dom_classes": [],
            "_model_name": "HBoxModel",
            "_view_module": "@jupyter-widgets/controls",
            "_model_module_version": "1.5.0",
            "_view_count": null,
            "_view_module_version": "1.5.0",
            "box_style": "",
            "layout": "IPY_MODEL_e4455c872f9744d380f18edca4b5a17f",
            "_model_module": "@jupyter-widgets/controls",
            "children": [
              "IPY_MODEL_de9d4d99985843059a03591a663c2ff4",
              "IPY_MODEL_ad26ec213787418e907211ea0513f0b5",
              "IPY_MODEL_9a2eb23b6fe6458792519ee76869bbb1"
            ]
          }
        },
        "e4455c872f9744d380f18edca4b5a17f": {
          "model_module": "@jupyter-widgets/base",
          "model_name": "LayoutModel",
          "model_module_version": "1.2.0",
          "state": {
            "_view_name": "LayoutView",
            "grid_template_rows": null,
            "right": null,
            "justify_content": null,
            "_view_module": "@jupyter-widgets/base",
            "overflow": null,
            "_model_module_version": "1.2.0",
            "_view_count": null,
            "flex_flow": null,
            "width": null,
            "min_width": null,
            "border": null,
            "align_items": null,
            "bottom": null,
            "_model_module": "@jupyter-widgets/base",
            "top": null,
            "grid_column": null,
            "overflow_y": null,
            "overflow_x": null,
            "grid_auto_flow": null,
            "grid_area": null,
            "grid_template_columns": null,
            "flex": null,
            "_model_name": "LayoutModel",
            "justify_items": null,
            "grid_row": null,
            "max_height": null,
            "align_content": null,
            "visibility": null,
            "align_self": null,
            "height": null,
            "min_height": null,
            "padding": null,
            "grid_auto_rows": null,
            "grid_gap": null,
            "max_width": null,
            "order": null,
            "_view_module_version": "1.2.0",
            "grid_template_areas": null,
            "object_position": null,
            "object_fit": null,
            "grid_auto_columns": null,
            "margin": null,
            "display": null,
            "left": null
          }
        },
        "de9d4d99985843059a03591a663c2ff4": {
          "model_module": "@jupyter-widgets/controls",
          "model_name": "HTMLModel",
          "model_module_version": "1.5.0",
          "state": {
            "_view_name": "HTMLView",
            "style": "IPY_MODEL_eca7de454af04453a11f0ce6a6a91f48",
            "_dom_classes": [],
            "description": "",
            "_model_name": "HTMLModel",
            "placeholder": "​",
            "_view_module": "@jupyter-widgets/controls",
            "_model_module_version": "1.5.0",
            "value": " 97%",
            "_view_count": null,
            "_view_module_version": "1.5.0",
            "description_tooltip": null,
            "_model_module": "@jupyter-widgets/controls",
            "layout": "IPY_MODEL_07d1e0b8dcd2419f9c68be7b5631ec8b"
          }
        },
        "ad26ec213787418e907211ea0513f0b5": {
          "model_module": "@jupyter-widgets/controls",
          "model_name": "FloatProgressModel",
          "model_module_version": "1.5.0",
          "state": {
            "_view_name": "ProgressView",
            "style": "IPY_MODEL_2a1d3b709933456bb6ecfcb9c984f16c",
            "_dom_classes": [],
            "description": "",
            "_model_name": "FloatProgressModel",
            "bar_style": "",
            "max": 107,
            "_view_module": "@jupyter-widgets/controls",
            "_model_module_version": "1.5.0",
            "value": 107,
            "_view_count": null,
            "_view_module_version": "1.5.0",
            "orientation": "horizontal",
            "min": 0,
            "description_tooltip": null,
            "_model_module": "@jupyter-widgets/controls",
            "layout": "IPY_MODEL_7290c3bf8be748fda0770b7a89f3780f"
          }
        },
        "9a2eb23b6fe6458792519ee76869bbb1": {
          "model_module": "@jupyter-widgets/controls",
          "model_name": "HTMLModel",
          "model_module_version": "1.5.0",
          "state": {
            "_view_name": "HTMLView",
            "style": "IPY_MODEL_de4dfafaea9b4c059e6c943326a9201a",
            "_dom_classes": [],
            "description": "",
            "_model_name": "HTMLModel",
            "placeholder": "​",
            "_view_module": "@jupyter-widgets/controls",
            "_model_module_version": "1.5.0",
            "value": " 104/107 [00:03&lt;00:00, 30.25it/s]",
            "_view_count": null,
            "_view_module_version": "1.5.0",
            "description_tooltip": null,
            "_model_module": "@jupyter-widgets/controls",
            "layout": "IPY_MODEL_ed761805ee03462c9d5dbd8a11b3d1d2"
          }
        },
        "eca7de454af04453a11f0ce6a6a91f48": {
          "model_module": "@jupyter-widgets/controls",
          "model_name": "DescriptionStyleModel",
          "model_module_version": "1.5.0",
          "state": {
            "_view_name": "StyleView",
            "_model_name": "DescriptionStyleModel",
            "description_width": "",
            "_view_module": "@jupyter-widgets/base",
            "_model_module_version": "1.5.0",
            "_view_count": null,
            "_view_module_version": "1.2.0",
            "_model_module": "@jupyter-widgets/controls"
          }
        },
        "07d1e0b8dcd2419f9c68be7b5631ec8b": {
          "model_module": "@jupyter-widgets/base",
          "model_name": "LayoutModel",
          "model_module_version": "1.2.0",
          "state": {
            "_view_name": "LayoutView",
            "grid_template_rows": null,
            "right": null,
            "justify_content": null,
            "_view_module": "@jupyter-widgets/base",
            "overflow": null,
            "_model_module_version": "1.2.0",
            "_view_count": null,
            "flex_flow": null,
            "width": null,
            "min_width": null,
            "border": null,
            "align_items": null,
            "bottom": null,
            "_model_module": "@jupyter-widgets/base",
            "top": null,
            "grid_column": null,
            "overflow_y": null,
            "overflow_x": null,
            "grid_auto_flow": null,
            "grid_area": null,
            "grid_template_columns": null,
            "flex": null,
            "_model_name": "LayoutModel",
            "justify_items": null,
            "grid_row": null,
            "max_height": null,
            "align_content": null,
            "visibility": null,
            "align_self": null,
            "height": null,
            "min_height": null,
            "padding": null,
            "grid_auto_rows": null,
            "grid_gap": null,
            "max_width": null,
            "order": null,
            "_view_module_version": "1.2.0",
            "grid_template_areas": null,
            "object_position": null,
            "object_fit": null,
            "grid_auto_columns": null,
            "margin": null,
            "display": null,
            "left": null
          }
        },
        "2a1d3b709933456bb6ecfcb9c984f16c": {
          "model_module": "@jupyter-widgets/controls",
          "model_name": "ProgressStyleModel",
          "model_module_version": "1.5.0",
          "state": {
            "_view_name": "StyleView",
            "_model_name": "ProgressStyleModel",
            "description_width": "",
            "_view_module": "@jupyter-widgets/base",
            "_model_module_version": "1.5.0",
            "_view_count": null,
            "_view_module_version": "1.2.0",
            "bar_color": null,
            "_model_module": "@jupyter-widgets/controls"
          }
        },
        "7290c3bf8be748fda0770b7a89f3780f": {
          "model_module": "@jupyter-widgets/base",
          "model_name": "LayoutModel",
          "model_module_version": "1.2.0",
          "state": {
            "_view_name": "LayoutView",
            "grid_template_rows": null,
            "right": null,
            "justify_content": null,
            "_view_module": "@jupyter-widgets/base",
            "overflow": null,
            "_model_module_version": "1.2.0",
            "_view_count": null,
            "flex_flow": null,
            "width": null,
            "min_width": null,
            "border": null,
            "align_items": null,
            "bottom": null,
            "_model_module": "@jupyter-widgets/base",
            "top": null,
            "grid_column": null,
            "overflow_y": null,
            "overflow_x": null,
            "grid_auto_flow": null,
            "grid_area": null,
            "grid_template_columns": null,
            "flex": null,
            "_model_name": "LayoutModel",
            "justify_items": null,
            "grid_row": null,
            "max_height": null,
            "align_content": null,
            "visibility": null,
            "align_self": null,
            "height": null,
            "min_height": null,
            "padding": null,
            "grid_auto_rows": null,
            "grid_gap": null,
            "max_width": null,
            "order": null,
            "_view_module_version": "1.2.0",
            "grid_template_areas": null,
            "object_position": null,
            "object_fit": null,
            "grid_auto_columns": null,
            "margin": null,
            "display": null,
            "left": null
          }
        },
        "de4dfafaea9b4c059e6c943326a9201a": {
          "model_module": "@jupyter-widgets/controls",
          "model_name": "DescriptionStyleModel",
          "model_module_version": "1.5.0",
          "state": {
            "_view_name": "StyleView",
            "_model_name": "DescriptionStyleModel",
            "description_width": "",
            "_view_module": "@jupyter-widgets/base",
            "_model_module_version": "1.5.0",
            "_view_count": null,
            "_view_module_version": "1.2.0",
            "_model_module": "@jupyter-widgets/controls"
          }
        },
        "ed761805ee03462c9d5dbd8a11b3d1d2": {
          "model_module": "@jupyter-widgets/base",
          "model_name": "LayoutModel",
          "model_module_version": "1.2.0",
          "state": {
            "_view_name": "LayoutView",
            "grid_template_rows": null,
            "right": null,
            "justify_content": null,
            "_view_module": "@jupyter-widgets/base",
            "overflow": null,
            "_model_module_version": "1.2.0",
            "_view_count": null,
            "flex_flow": null,
            "width": null,
            "min_width": null,
            "border": null,
            "align_items": null,
            "bottom": null,
            "_model_module": "@jupyter-widgets/base",
            "top": null,
            "grid_column": null,
            "overflow_y": null,
            "overflow_x": null,
            "grid_auto_flow": null,
            "grid_area": null,
            "grid_template_columns": null,
            "flex": null,
            "_model_name": "LayoutModel",
            "justify_items": null,
            "grid_row": null,
            "max_height": null,
            "align_content": null,
            "visibility": null,
            "align_self": null,
            "height": null,
            "min_height": null,
            "padding": null,
            "grid_auto_rows": null,
            "grid_gap": null,
            "max_width": null,
            "order": null,
            "_view_module_version": "1.2.0",
            "grid_template_areas": null,
            "object_position": null,
            "object_fit": null,
            "grid_auto_columns": null,
            "margin": null,
            "display": null,
            "left": null
          }
        }
      }
    }
  },
  "cells": [
    {
      "cell_type": "markdown",
      "metadata": {
        "id": "31bNfpv58_vA"
      },
      "source": [
        "### import required libraries"
      ]
    },
    {
      "cell_type": "code",
      "metadata": {
        "id": "91koMtLGIUlL"
      },
      "source": [
        "!pip install googletrans==3.1.0a0\n",
        "!pip install epitran\n",
        "!pip install jellyfish\n",
        "\n",
        "from tqdm.auto import tqdm\n",
        "from difflib import SequenceMatcher\n",
        "import random\n",
        "import urllib.request\n",
        "import gzip\n",
        "import shutil\n",
        "\n",
        "import nltk\n",
        "nltk.download(['words', 'stopwords'])\n",
        "from nltk.corpus import stopwords\n",
        "en_words = nltk.corpus.words.words()\n",
        "stop_words = stopwords.words()\n",
        "#en_words = [word for word in tqdm(en_words) if word not in stop_words]\n",
        "\n",
        "import googletrans\n",
        "from googletrans import Translator\n",
        "languages = googletrans.LANGUAGES\n",
        "translator = Translator()\n",
        "\n",
        "import epitran\n",
        "import jellyfish"
      ],
      "execution_count": null,
      "outputs": []
    },
    {
      "cell_type": "markdown",
      "metadata": {
        "id": "YPFPYGS9kafq"
      },
      "source": [
        "### install files required by epitran"
      ]
    },
    {
      "cell_type": "markdown",
      "metadata": {
        "id": "ddxC5zN84CSN"
      },
      "source": [
        "required for chinese phonetics"
      ]
    },
    {
      "cell_type": "code",
      "metadata": {
        "id": "ZGbIzzi7kiE3"
      },
      "source": [
        "url = \"https://www.mdbg.net/chinese/export/cedict/cedict_1_0_ts_utf-8_mdbg.txt.gz\"\n",
        "fname = \"cedict_1_0_ts_utf-8_mdbg.txt.gz\"\n",
        "urllib.request.urlretrieve(url, fname)\n",
        "\n",
        "with gzip.open(fname, 'rb') as f_in:\n",
        "    with open(\"cedict_1_0_ts_utf-8_mdbg.txt\", 'wb') as f_out:\n",
        "        shutil.copyfileobj(f_in, f_out)"
      ],
      "execution_count": null,
      "outputs": []
    },
    {
      "cell_type": "markdown",
      "metadata": {
        "id": "kcfcglII38GE"
      },
      "source": [
        "required for english phonetics"
      ]
    },
    {
      "cell_type": "code",
      "metadata": {
        "id": "K34_yQnSoATT"
      },
      "source": [
        "%%shell\n",
        "\n",
        "git clone https://github.com/festvox/flite\n",
        "cd flite/\n",
        "./configure && make\n",
        "sudo make install\n",
        "cd testsuite\n",
        "make lex_lookup\n",
        "sudo cp lex_lookup /usr/local/bin"
      ],
      "execution_count": null,
      "outputs": []
    },
    {
      "cell_type": "markdown",
      "metadata": {
        "id": "wplWtmv09ouE"
      },
      "source": [
        "### test translator"
      ]
    },
    {
      "cell_type": "code",
      "metadata": {
        "id": "1FZyCDpJW-eL",
        "colab": {
          "base_uri": "https://localhost:8080/"
        },
        "outputId": "c68bac57-e7d6-4a42-927e-cf5abdf5a3b3"
      },
      "source": [
        "result = translator.translate('door', src='en', dest='hi')\n",
        "print(result,'\\n')\n",
        "for ed in result.extra_data:\n",
        "  print(ed)\n",
        "\n",
        "print(result.extra_data[\"possible-translations\"],'\\n')\n",
        "\n",
        "for x in result.extra_data[\"possible-translations\"][0][2]:\n",
        "  print(x)"
      ],
      "execution_count": null,
      "outputs": [
        {
          "output_type": "stream",
          "name": "stdout",
          "text": [
            "Translated(src=en, dest=hi, text=द्वार, pronunciation=dvaar, extra_data=\"{'translat...\") \n",
            "\n",
            "translation\n",
            "all-translations\n",
            "original-language\n",
            "possible-translations\n",
            "confidence\n",
            "possible-mistakes\n",
            "language\n",
            "synonyms\n",
            "definitions\n",
            "examples\n",
            "see-also\n",
            "[['door', None, [['द्वार', 1000, True, False, [6]], ['दरवाजा', 1000, True, False, [6, 3]]], [[0, 4]], 'door', 0, 0]] \n",
            "\n",
            "['द्वार', 1000, True, False, [6]]\n",
            "['दरवाजा', 1000, True, False, [6, 3]]\n"
          ]
        }
      ]
    },
    {
      "cell_type": "markdown",
      "metadata": {
        "id": "VQLpYkJM9zCT"
      },
      "source": [
        "### define phonetic codes dict"
      ]
    },
    {
      "cell_type": "markdown",
      "metadata": {
        "id": "si2NX8Bc94iH"
      },
      "source": [
        "epitran requires the phonetic code to be passed which can be found on their website : https://pypi.org/project/epitran/"
      ]
    },
    {
      "cell_type": "code",
      "metadata": {
        "colab": {
          "base_uri": "https://localhost:8080/"
        },
        "id": "eTFsoBgkrrYn",
        "outputId": "015a3647-9460-493e-e0b2-a004df082f20"
      },
      "source": [
        "# https://pypi.org/project/epitran/\n",
        "\n",
        "phonetic_codes = {\n",
        "    'en' : 'eng-Latn',\n",
        "    'de' : 'deu-Latn',\n",
        "    #'fr' : 'fra-Latn',\n",
        "    'es' : 'spa-Latn',\n",
        "    'hi' : 'hin-Deva',\n",
        "    'zh-cn' : 'cmn-Hans',\n",
        "    'ru' : 'rus-Cyrl',\n",
        "}\n",
        "\n",
        "for lang_short, lang_long in languages.items():\n",
        "  print(lang_short, lang_long)"
      ],
      "execution_count": null,
      "outputs": [
        {
          "output_type": "stream",
          "name": "stdout",
          "text": [
            "af afrikaans\n",
            "sq albanian\n",
            "am amharic\n",
            "ar arabic\n",
            "hy armenian\n",
            "az azerbaijani\n",
            "eu basque\n",
            "be belarusian\n",
            "bn bengali\n",
            "bs bosnian\n",
            "bg bulgarian\n",
            "ca catalan\n",
            "ceb cebuano\n",
            "ny chichewa\n",
            "zh-cn chinese (simplified)\n",
            "zh-tw chinese (traditional)\n",
            "co corsican\n",
            "hr croatian\n",
            "cs czech\n",
            "da danish\n",
            "nl dutch\n",
            "en english\n",
            "eo esperanto\n",
            "et estonian\n",
            "tl filipino\n",
            "fi finnish\n",
            "fr french\n",
            "fy frisian\n",
            "gl galician\n",
            "ka georgian\n",
            "de german\n",
            "el greek\n",
            "gu gujarati\n",
            "ht haitian creole\n",
            "ha hausa\n",
            "haw hawaiian\n",
            "iw hebrew\n",
            "he hebrew\n",
            "hi hindi\n",
            "hmn hmong\n",
            "hu hungarian\n",
            "is icelandic\n",
            "ig igbo\n",
            "id indonesian\n",
            "ga irish\n",
            "it italian\n",
            "ja japanese\n",
            "jw javanese\n",
            "kn kannada\n",
            "kk kazakh\n",
            "km khmer\n",
            "ko korean\n",
            "ku kurdish (kurmanji)\n",
            "ky kyrgyz\n",
            "lo lao\n",
            "la latin\n",
            "lv latvian\n",
            "lt lithuanian\n",
            "lb luxembourgish\n",
            "mk macedonian\n",
            "mg malagasy\n",
            "ms malay\n",
            "ml malayalam\n",
            "mt maltese\n",
            "mi maori\n",
            "mr marathi\n",
            "mn mongolian\n",
            "my myanmar (burmese)\n",
            "ne nepali\n",
            "no norwegian\n",
            "or odia\n",
            "ps pashto\n",
            "fa persian\n",
            "pl polish\n",
            "pt portuguese\n",
            "pa punjabi\n",
            "ro romanian\n",
            "ru russian\n",
            "sm samoan\n",
            "gd scots gaelic\n",
            "sr serbian\n",
            "st sesotho\n",
            "sn shona\n",
            "sd sindhi\n",
            "si sinhala\n",
            "sk slovak\n",
            "sl slovenian\n",
            "so somali\n",
            "es spanish\n",
            "su sundanese\n",
            "sw swahili\n",
            "sv swedish\n",
            "tg tajik\n",
            "ta tamil\n",
            "te telugu\n",
            "th thai\n",
            "tr turkish\n",
            "uk ukrainian\n",
            "ur urdu\n",
            "ug uyghur\n",
            "uz uzbek\n",
            "vi vietnamese\n",
            "cy welsh\n",
            "xh xhosa\n",
            "yi yiddish\n",
            "yo yoruba\n",
            "zu zulu\n"
          ]
        }
      ]
    },
    {
      "cell_type": "markdown",
      "metadata": {
        "id": "0sJi6rhk-EKN"
      },
      "source": [
        "### test epitran"
      ]
    },
    {
      "cell_type": "code",
      "metadata": {
        "colab": {
          "base_uri": "https://localhost:8080/"
        },
        "id": "qj4ZY1dHd6fM",
        "outputId": "b0e12e0b-f2aa-4084-a272-c22ea1eccce8"
      },
      "source": [
        "epi = epitran.Epitran('eng-Latn')\n",
        "print(epi.transliterate(u'hello'))\n",
        "\n",
        "epi = epitran.Epitran('cmn-Hans', cedict_file='cedict_1_0_ts_utf-8_mdbg.txt')\n",
        "print(epi.transliterate(u'姓名'))"
      ],
      "execution_count": null,
      "outputs": [
        {
          "output_type": "stream",
          "name": "stdout",
          "text": [
            "həlow\n",
            "ɕiŋmiŋ\n"
          ]
        }
      ]
    },
    {
      "cell_type": "markdown",
      "metadata": {
        "id": "GAeUlSLAB7PS"
      },
      "source": [
        "### define similarity scoring function"
      ]
    },
    {
      "cell_type": "code",
      "metadata": {
        "id": "VMsITOCLx5NS"
      },
      "source": [
        "def similarity_score(en_word, type_, languages, similarity, print_=False):\n",
        "  score = 0\n",
        "  en_word_phon = epitran.Epitran('eng-Latn').transliterate(en_word)\n",
        "\n",
        "  for lang in tqdm(languages, leave=False):\n",
        "\n",
        "      if type_ == 'phonetic':\n",
        "        trans_word = translator.translate(en_word, src='en', dest=lang).text\n",
        "        #cedict file arg is only needed for chinese ('zh-cn' : 'cmn-Hans')\n",
        "        trans_word_phon = epitran.Epitran(phonetic_codes[lang], cedict_file='cedict_1_0_ts_utf-8_mdbg.txt').transliterate(trans_word)\n",
        "        if similarity == 'SequenceMatcher':\n",
        "          lang_score = SequenceMatcher(None, en_word_phon, trans_word_phon).ratio()\n",
        "        elif similarity == 'levenshtein_distance':\n",
        "          dist = jellyfish.levenshtein_distance(en_word_phon, trans_word_phon)\n",
        "          lang_score = 1/(1+dist)\n",
        "        if print_:\n",
        "          print(lang, trans_word, trans_word_phon, lang_score)\n",
        "\n",
        "      elif type_ == 'pronounciation':\n",
        "        trans_word = translator.translate(en_word, src='en', dest=lang)\n",
        "        word_text = trans_word.text\n",
        "        word_pron = trans_word.pronunciation\n",
        "        trans_word_pron = word_text if word_pron is None else word_pron\n",
        "        if similarity == 'SequenceMatcher':\n",
        "          lang_score = SequenceMatcher(None, en_word, trans_word_pron).ratio()\n",
        "        elif similarity == 'levenshtein_distance':\n",
        "          dist = jellyfish.levenshtein_distance(en_word, trans_word_pron)\n",
        "          lang_score = 1/(1+dist)\n",
        "        if print:\n",
        "          print(lang, word_text, trans_word_pron, lang_score)\n",
        "      \n",
        "      score += lang_score\n",
        "  return score"
      ],
      "execution_count": null,
      "outputs": []
    },
    {
      "cell_type": "code",
      "metadata": {
        "colab": {
          "base_uri": "https://localhost:8080/",
          "height": 134,
          "referenced_widgets": [
            "3539fe9ffb3947afbf97cbe6fffdd2dd",
            "058e10fe8c21434d92d9736cc15ffe50",
            "cd79132cd00b4af2824966441ad91885",
            "4a6d4fa18787442db7dc19406250ab0a",
            "ffbda1dd2b2d4f0791680c993605deee",
            "977317ef1b7b48319bb6277008195315",
            "00ceb13b18e14098be1e827d227f4c86",
            "eaea735874444b54b9fb489d014ea09d",
            "18ab73f65b5b443280474c218ae37e8e",
            "c8032525492c46b9933426afe42ddb07",
            "d27165c4e55c4cdaa57e87cdd23ff866"
          ]
        },
        "id": "lnILN50ryYfs",
        "outputId": "ddcfb719-fb9e-4b1f-c7a0-dd840b52e4f6"
      },
      "source": [
        "similarity_score('name', type_='phonetic', languages=phonetic_codes, similarity='levenshtein_distance', print_=True)"
      ],
      "execution_count": null,
      "outputs": [
        {
          "output_type": "display_data",
          "data": {
            "application/vnd.jupyter.widget-view+json": {
              "model_id": "3539fe9ffb3947afbf97cbe6fffdd2dd",
              "version_minor": 0,
              "version_major": 2
            },
            "text/plain": [
              "  0%|          | 0/6 [00:00<?, ?it/s]"
            ]
          },
          "metadata": {}
        },
        {
          "output_type": "stream",
          "name": "stdout",
          "text": [
            "en name nejm 1.0\n",
            "de Name nɑːmə 0.25\n",
            "es nombre nombɾe 0.16666666666666666\n",
            "hi नाम naːm 0.3333333333333333\n",
            "zh-cn 姓名 ɕiŋmiŋ 0.16666666666666666\n",
            "ru имя imʲa 0.2\n"
          ]
        },
        {
          "output_type": "execute_result",
          "data": {
            "text/plain": [
              "2.1166666666666667"
            ]
          },
          "metadata": {},
          "execution_count": 8
        }
      ]
    },
    {
      "cell_type": "code",
      "metadata": {
        "colab": {
          "base_uri": "https://localhost:8080/",
          "height": 1000,
          "referenced_widgets": [
            "1b4bf8b28fe54d9b9b4a4a3fd7019b7c",
            "e4455c872f9744d380f18edca4b5a17f",
            "de9d4d99985843059a03591a663c2ff4",
            "ad26ec213787418e907211ea0513f0b5",
            "9a2eb23b6fe6458792519ee76869bbb1",
            "eca7de454af04453a11f0ce6a6a91f48",
            "07d1e0b8dcd2419f9c68be7b5631ec8b",
            "2a1d3b709933456bb6ecfcb9c984f16c",
            "7290c3bf8be748fda0770b7a89f3780f",
            "de4dfafaea9b4c059e6c943326a9201a",
            "ed761805ee03462c9d5dbd8a11b3d1d2"
          ]
        },
        "id": "yt4D0y0l_I72",
        "outputId": "115a5ef4-001e-4fa4-d129-75c115231c83"
      },
      "source": [
        "similarity_score('name', type_='pronounciation', languages=languages, similarity='SequenceMatcher', print_=True)"
      ],
      "execution_count": null,
      "outputs": [
        {
          "output_type": "display_data",
          "data": {
            "application/vnd.jupyter.widget-view+json": {
              "model_id": "1b4bf8b28fe54d9b9b4a4a3fd7019b7c",
              "version_minor": 0,
              "version_major": 2
            },
            "text/plain": [
              "  0%|          | 0/107 [00:00<?, ?it/s]"
            ]
          },
          "metadata": {}
        },
        {
          "output_type": "stream",
          "name": "stdout",
          "text": [
            "af naam naam 0.75\n",
            "sq emri emri 0.25\n",
            "am ስም simi 0.25\n",
            "ar اسم asm 0.5714285714285714\n",
            "hy Անուն Anun 0.25\n",
            "az adı adı 0.2857142857142857\n",
            "eu izena izena 0.4444444444444444\n",
            "be імя imia 0.25\n",
            "bn নাম Nāma 0.25\n",
            "bs ime ime 0.5714285714285714\n",
            "bg име ime 0.5714285714285714\n",
            "ca nom nom 0.5714285714285714\n",
            "ceb ngalan ngalan 0.4\n",
            "ny dzina dzina 0.4444444444444444\n",
            "zh-cn 姓名 Xìngmíng 0.3333333333333333\n",
            "zh-tw 姓名 Xìngmíng 0.3333333333333333\n",
            "co nome nome 0.75\n",
            "hr Ime Ime 0.5714285714285714\n",
            "cs název název 0.4444444444444444\n",
            "da navn navn 0.5\n",
            "nl naam naam 0.75\n",
            "en name name 1.0\n",
            "eo nomo nomo 0.5\n",
            "et nimi nimi 0.5\n",
            "tl pangalan pangalan 0.3333333333333333\n",
            "fi nimi nimi 0.5\n",
            "fr Nom Nom 0.2857142857142857\n",
            "fy namme namme 0.8888888888888888\n",
            "gl nome nome 0.75\n",
            "ka სახელი sakheli 0.36363636363636365\n",
            "de Name Name 0.75\n",
            "el όνομα ónoma 0.4444444444444444\n",
            "gu નામ Nāma 0.25\n",
            "ht non non 0.2857142857142857\n",
            "ha suna suna 0.5\n",
            "haw inoa inoa 0.5\n",
            "iw שֵׁם שֵׁם 0.0\n",
            "he שֵׁם שֵׁם 0.0\n",
            "hi नाम naam 0.75\n",
            "hmn lub npe lub npe 0.36363636363636365\n",
            "hu név név 0.2857142857142857\n",
            "is nafn nafn 0.5\n",
            "ig aha aha 0.2857142857142857\n",
            "id nama nama 0.75\n",
            "ga ainm ainm 0.5\n",
            "it nome nome 0.75\n",
            "ja 名前 Namae 0.6666666666666666\n",
            "jw jeneng jeneng 0.4\n",
            "kn ಹೆಸರು Hesaru 0.2\n",
            "kk аты atı 0.2857142857142857\n",
            "km ឈ្មោះ chhmoh 0.2\n",
            "ko 이름 ileum 0.2222222222222222\n",
            "ku nav nav 0.5714285714285714\n",
            "ky аты atı 0.2857142857142857\n",
            "lo ຊື່ su 0.0\n",
            "la nomen nomen 0.6666666666666666\n",
            "lv vārds vārds 0.0\n",
            "lt vardas vardas 0.2\n",
            "lb Numm Numm 0.25\n",
            "mk име ime 0.5714285714285714\n",
            "mg Anarana Anarana 0.36363636363636365\n",
            "ms nama nama 0.75\n",
            "ml പേര് pēr 0.0\n",
            "mt isem isem 0.25\n",
            "mi ingoa ingoa 0.4444444444444444\n",
            "mr नाव Nāva 0.25\n",
            "mn нэр ner 0.5714285714285714\n",
            "my နာမည် narmai 0.6\n",
            "ne नाम Nāma 0.25\n",
            "no Navn Navn 0.25\n",
            "or ନାମ ନାମ 0.0\n",
            "ps نوم نوم 0.0\n",
            "fa نام نام 0.0\n",
            "pl Nazwa Nazwa 0.2222222222222222\n",
            "pt nome nome 0.75\n",
            "pa ਨਾਮ Nāma 0.25\n",
            "ro Nume Nume 0.5\n",
            "ru имя imya 0.25\n",
            "sm igoa igoa 0.25\n",
            "gd ainm ainm 0.5\n",
            "sr име ime 0.5714285714285714\n",
            "st lebitso lebitso 0.18181818181818182\n",
            "sn zita zita 0.25\n",
            "sd نالو نالو 0.0\n",
            "si නාමය nāmaya 0.4\n",
            "sk názov názov 0.2222222222222222\n",
            "sl ime ime 0.5714285714285714\n",
            "so magaca magaca 0.2\n",
            "es nombre nombre 0.6\n",
            "su ngaran ngaran 0.4\n",
            "sw jina jina 0.5\n",
            "sv namn namn 0.75\n",
            "tg ном nom 0.5714285714285714\n",
            "ta பெயர் Peyar 0.2222222222222222\n",
            "te పేరు Pēru 0.0\n",
            "th ชื่อ Chụ̄̀x 0.0\n",
            "tr isim isim 0.25\n",
            "uk ім'я im'ya 0.2222222222222222\n",
            "ur نام نام 0.0\n",
            "ug name name 1.0\n",
            "uz ism ism 0.2857142857142857\n",
            "vi Tên Tên 0.2857142857142857\n",
            "cy enw enw 0.2857142857142857\n",
            "xh igama igama 0.4444444444444444\n",
            "yi נאָמען nomen 0.6666666666666666\n",
            "yo oruko oruko 0.0\n",
            "zu igama igama 0.4444444444444444\n"
          ]
        },
        {
          "output_type": "execute_result",
          "data": {
            "text/plain": [
              "41.87669552669551"
            ]
          },
          "metadata": {},
          "execution_count": 9
        }
      ]
    },
    {
      "cell_type": "code",
      "metadata": {
        "id": "TDf7KM6FUiay"
      },
      "source": [
        "max_score = 0\n",
        "while True:\n",
        "  en_word = random.choice(en_words)\n",
        "  score = similarity_score(en_word, type_='pronounciation', languages=languages, similarity='SequenceMatcher')\n",
        "  if score > max_score:\n",
        "    print(en_word, score)\n",
        "    max_score = score"
      ],
      "execution_count": null,
      "outputs": []
    }
  ]
}