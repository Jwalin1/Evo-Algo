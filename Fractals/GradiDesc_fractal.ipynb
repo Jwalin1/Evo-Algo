{
  "nbformat": 4,
  "nbformat_minor": 0,
  "metadata": {
    "colab": {
      "name": "GradiDesc_fractal.ipynb",
      "provenance": [],
      "toc_visible": true
    },
    "kernelspec": {
      "display_name": "Python 3",
      "language": "python",
      "name": "python3"
    },
    "language_info": {
      "codemirror_mode": {
        "name": "ipython",
        "version": 3
      },
      "file_extension": ".py",
      "mimetype": "text/x-python",
      "name": "python",
      "nbconvert_exporter": "python",
      "pygments_lexer": "ipython3",
      "version": "3.7.4"
    },
    "widgets": {
      "application/vnd.jupyter.widget-state+json": {
        "5dfd44027bfa48e990b3ac23ba668785": {
          "model_module": "@jupyter-widgets/controls",
          "model_name": "HBoxModel",
          "state": {
            "_view_name": "HBoxView",
            "_dom_classes": [],
            "_model_name": "HBoxModel",
            "_view_module": "@jupyter-widgets/controls",
            "_model_module_version": "1.5.0",
            "_view_count": null,
            "_view_module_version": "1.5.0",
            "box_style": "",
            "layout": "IPY_MODEL_7351d341ccab4a348142a48c8a47e1c7",
            "_model_module": "@jupyter-widgets/controls",
            "children": [
              "IPY_MODEL_d7b7360b40aa4bbe9689cd2cd1f14cff",
              "IPY_MODEL_bb7aadeaca434072a6549eef58e2cc37"
            ]
          }
        },
        "7351d341ccab4a348142a48c8a47e1c7": {
          "model_module": "@jupyter-widgets/base",
          "model_name": "LayoutModel",
          "state": {
            "_view_name": "LayoutView",
            "grid_template_rows": null,
            "right": null,
            "justify_content": null,
            "_view_module": "@jupyter-widgets/base",
            "overflow": null,
            "_model_module_version": "1.2.0",
            "_view_count": null,
            "flex_flow": null,
            "width": null,
            "min_width": null,
            "border": null,
            "align_items": null,
            "bottom": null,
            "_model_module": "@jupyter-widgets/base",
            "top": null,
            "grid_column": null,
            "overflow_y": null,
            "overflow_x": null,
            "grid_auto_flow": null,
            "grid_area": null,
            "grid_template_columns": null,
            "flex": null,
            "_model_name": "LayoutModel",
            "justify_items": null,
            "grid_row": null,
            "max_height": null,
            "align_content": null,
            "visibility": null,
            "align_self": null,
            "height": null,
            "min_height": null,
            "padding": null,
            "grid_auto_rows": null,
            "grid_gap": null,
            "max_width": null,
            "order": null,
            "_view_module_version": "1.2.0",
            "grid_template_areas": null,
            "object_position": null,
            "object_fit": null,
            "grid_auto_columns": null,
            "margin": null,
            "display": null,
            "left": null
          }
        },
        "d7b7360b40aa4bbe9689cd2cd1f14cff": {
          "model_module": "@jupyter-widgets/controls",
          "model_name": "FloatProgressModel",
          "state": {
            "_view_name": "ProgressView",
            "style": "IPY_MODEL_568c3a82942a49269692add08861e77d",
            "_dom_classes": [],
            "description": "100%",
            "_model_name": "FloatProgressModel",
            "bar_style": "success",
            "max": 513,
            "_view_module": "@jupyter-widgets/controls",
            "_model_module_version": "1.5.0",
            "value": 513,
            "_view_count": null,
            "_view_module_version": "1.5.0",
            "orientation": "horizontal",
            "min": 0,
            "description_tooltip": null,
            "_model_module": "@jupyter-widgets/controls",
            "layout": "IPY_MODEL_5edd89c7ab3e4391bfd0600ddd7d9f56"
          }
        },
        "bb7aadeaca434072a6549eef58e2cc37": {
          "model_module": "@jupyter-widgets/controls",
          "model_name": "HTMLModel",
          "state": {
            "_view_name": "HTMLView",
            "style": "IPY_MODEL_cf159ca582ee4ed19f7cab9780b69bf6",
            "_dom_classes": [],
            "description": "",
            "_model_name": "HTMLModel",
            "placeholder": "​",
            "_view_module": "@jupyter-widgets/controls",
            "_model_module_version": "1.5.0",
            "value": " 513/513 [00:49&lt;00:00, 10.41it/s]",
            "_view_count": null,
            "_view_module_version": "1.5.0",
            "description_tooltip": null,
            "_model_module": "@jupyter-widgets/controls",
            "layout": "IPY_MODEL_dd47fc21774f4036ad3c1cb09e8a49ad"
          }
        },
        "568c3a82942a49269692add08861e77d": {
          "model_module": "@jupyter-widgets/controls",
          "model_name": "ProgressStyleModel",
          "state": {
            "_view_name": "StyleView",
            "_model_name": "ProgressStyleModel",
            "description_width": "initial",
            "_view_module": "@jupyter-widgets/base",
            "_model_module_version": "1.5.0",
            "_view_count": null,
            "_view_module_version": "1.2.0",
            "bar_color": null,
            "_model_module": "@jupyter-widgets/controls"
          }
        },
        "5edd89c7ab3e4391bfd0600ddd7d9f56": {
          "model_module": "@jupyter-widgets/base",
          "model_name": "LayoutModel",
          "state": {
            "_view_name": "LayoutView",
            "grid_template_rows": null,
            "right": null,
            "justify_content": null,
            "_view_module": "@jupyter-widgets/base",
            "overflow": null,
            "_model_module_version": "1.2.0",
            "_view_count": null,
            "flex_flow": null,
            "width": null,
            "min_width": null,
            "border": null,
            "align_items": null,
            "bottom": null,
            "_model_module": "@jupyter-widgets/base",
            "top": null,
            "grid_column": null,
            "overflow_y": null,
            "overflow_x": null,
            "grid_auto_flow": null,
            "grid_area": null,
            "grid_template_columns": null,
            "flex": null,
            "_model_name": "LayoutModel",
            "justify_items": null,
            "grid_row": null,
            "max_height": null,
            "align_content": null,
            "visibility": null,
            "align_self": null,
            "height": null,
            "min_height": null,
            "padding": null,
            "grid_auto_rows": null,
            "grid_gap": null,
            "max_width": null,
            "order": null,
            "_view_module_version": "1.2.0",
            "grid_template_areas": null,
            "object_position": null,
            "object_fit": null,
            "grid_auto_columns": null,
            "margin": null,
            "display": null,
            "left": null
          }
        },
        "cf159ca582ee4ed19f7cab9780b69bf6": {
          "model_module": "@jupyter-widgets/controls",
          "model_name": "DescriptionStyleModel",
          "state": {
            "_view_name": "StyleView",
            "_model_name": "DescriptionStyleModel",
            "description_width": "",
            "_view_module": "@jupyter-widgets/base",
            "_model_module_version": "1.5.0",
            "_view_count": null,
            "_view_module_version": "1.2.0",
            "_model_module": "@jupyter-widgets/controls"
          }
        },
        "dd47fc21774f4036ad3c1cb09e8a49ad": {
          "model_module": "@jupyter-widgets/base",
          "model_name": "LayoutModel",
          "state": {
            "_view_name": "LayoutView",
            "grid_template_rows": null,
            "right": null,
            "justify_content": null,
            "_view_module": "@jupyter-widgets/base",
            "overflow": null,
            "_model_module_version": "1.2.0",
            "_view_count": null,
            "flex_flow": null,
            "width": null,
            "min_width": null,
            "border": null,
            "align_items": null,
            "bottom": null,
            "_model_module": "@jupyter-widgets/base",
            "top": null,
            "grid_column": null,
            "overflow_y": null,
            "overflow_x": null,
            "grid_auto_flow": null,
            "grid_area": null,
            "grid_template_columns": null,
            "flex": null,
            "_model_name": "LayoutModel",
            "justify_items": null,
            "grid_row": null,
            "max_height": null,
            "align_content": null,
            "visibility": null,
            "align_self": null,
            "height": null,
            "min_height": null,
            "padding": null,
            "grid_auto_rows": null,
            "grid_gap": null,
            "max_width": null,
            "order": null,
            "_view_module_version": "1.2.0",
            "grid_template_areas": null,
            "object_position": null,
            "object_fit": null,
            "grid_auto_columns": null,
            "margin": null,
            "display": null,
            "left": null
          }
        }
      }
    }
  },
  "cells": [
    {
      "cell_type": "markdown",
      "metadata": {
        "id": "ZMKtej1A7d49"
      },
      "source": [
        "## Gradient Descent Fractal"
      ]
    },
    {
      "cell_type": "markdown",
      "metadata": {
        "id": "_gfOQtj22S-Z"
      },
      "source": [
        "Gradient Descent is used to find minima of a given equation $f(z)$ \\\n",
        "Find $z$ such that $f'(z)=0$ and $f''(z) \\geq 0$  \\\n",
        "$ z_{n+1} = z_{n} - \\lambda f'(z_n) $\n",
        "\\\n",
        "\\\n",
        "Gradient Ascent is used to find maxima of a given equation $f(z)$ \\\n",
        "Find $z$ such that $f'(z)=0$ and $f''(z) \\leq 0$  \\\n",
        "$ z_{n+1} = z_{n} + \\lambda f'(z_n) $\n",
        "\\\n",
        "\\\n",
        "To find extrema of a given equation $f(z)$ \\\n",
        "Find $z$ such that $f'(z)=0$\\\n",
        "$ z_{n+1} = z_{n} - \\frac{f'(z_n)}{f''(z_n)} $  \\\n",
        "Which is essentially Newton's method for $f'(z)$\n",
        "\\\n",
        "\\\n",
        "More information can be found here:\n",
        "- https://en.wikipedia.org/wiki/Gradient_descent"
      ]
    },
    {
      "cell_type": "code",
      "metadata": {
        "id": "pO8B2wW98mo1"
      },
      "source": [
        "from PIL import Image\n",
        "import numpy as np\n",
        "import matplotlib.pyplot as plt\n",
        "from tqdm.notebook import tqdm\n",
        "import matplotlib.pyplot as plt"
      ],
      "execution_count": 1,
      "outputs": []
    },
    {
      "cell_type": "markdown",
      "metadata": {
        "id": "ufFYogTrIGp2"
      },
      "source": [
        "### define function and parameters"
      ]
    },
    {
      "cell_type": "code",
      "metadata": {
        "colab": {
          "base_uri": "https://localhost:8080/",
          "height": 401
        },
        "id": "ykfHp1JUoFC6",
        "outputId": "721a15ff-ae7e-4deb-ec0d-abdcd5a1cc79"
      },
      "source": [
        "# Ant fractal\n",
        "\n",
        "x = [-1.5,-1,-0.5,0,0.5,1,1.5]\n",
        "y = [2,0,1,-2,1,0,2]\n",
        "p = np.polyfit(x,y,6)\n",
        "#p = [7,0,-22,0,17,0,-2]    # coeffs from polyfit\n",
        "df = np.poly1d(p)\n",
        "\n",
        "\n",
        "# Sword fractal\n",
        "#df = np.poly1d([10,1,-3,-1])\n",
        "# Angel wings fractal (grad ascent)\n",
        "#df = np.poly1d([1,0,0,-1])\n",
        "\n",
        "# Mandelbrot like fractal\n",
        "#df = np.poly1d([-4.2,-1.7,2.7,1.2,-0.4])\n",
        "\n",
        "# Flower fractal (multiple minima)\n",
        "\"\"\"\n",
        "n = 4\n",
        "x = [-1,-0.5,0]   # n-1 minima and 1 maxima\n",
        "y = [0,1,0]\n",
        "p = np.polyfit(x,y,n)\n",
        "df = np.poly1d(p)\n",
        "\"\"\"\n",
        "\n",
        "\n",
        "f = np.polyint(df)\n",
        "\n",
        "x = np.linspace(-1.5,1.5,100)\n",
        "y = df(x)\n",
        "plt.plot(x,y)\n",
        "print(\"plot of df\")\n",
        "plt.show()\n",
        "\n",
        "print(\"df\")\n",
        "d2f = np.polyder(df)\n",
        "print(df)\n",
        "print(\"roots of df\")\n",
        "print(df.roots)\n",
        "print(\"minima of df\")\n",
        "print([round(r,8) for r in df.roots if d2f(r)>0])"
      ],
      "execution_count": 2,
      "outputs": [
        {
          "output_type": "stream",
          "text": [
            "plot of df\n"
          ],
          "name": "stdout"
        },
        {
          "output_type": "display_data",
          "data": {
            "image/png": "[encoded data removed]",
            "text/plain": [
              "<Figure size 432x288 with 1 Axes>"
            ]
          },
          "metadata": {
            "tags": [],
            "needs_background": "light"
          }
        },
        {
          "output_type": "stream",
          "text": [
            "df\n",
            "       6             5         4             3         2\n",
            "6.578 x - 3.936e-15 x - 21.56 x + 9.548e-15 x + 16.98 x + 3.146e-15 x - 2\n",
            "roots of df\n",
            "[-1.461022    1.461022   -1.          1.         -0.37741455  0.37741455]\n",
            "minima of df\n",
            "[1.461022, -1.0, 0.37741455]\n"
          ],
          "name": "stdout"
        }
      ]
    },
    {
      "cell_type": "code",
      "metadata": {
        "id": "Mx8sPu5z8mo_"
      },
      "source": [
        "# define size\n",
        "# using top left and bottom right coordinates\n",
        "img_size = ((0,0),(512,512))\n",
        "frac_size = ((-2,-2),(2,2))\n",
        "(frac_x0,frac_y0), (frac_x1,frac_y1) = frac_size\n",
        "(img_x0,img_y0), (img_x1,img_y1) = img_size\n",
        "img_w = img_x1 - img_x0\n",
        "img_h = img_y1 - img_y0\n",
        "\n",
        "# define parameters\n",
        "tol = 0.1\n",
        "maxIter = 15\n",
        "gradStep = 0.1\n",
        "frac_xStep = (frac_x1-frac_x0)/(img_x1-img_x0)\n",
        "frac_yStep = (frac_y1-frac_y0)/(img_y1-img_y0)\n",
        "\n",
        "params = {\"tol\":tol, \"maxIter\":maxIter, \"frac_xStep\":frac_xStep, \"frac_yStep\":frac_yStep, \"gradStep\":gradStep}"
      ],
      "execution_count": 3,
      "outputs": []
    },
    {
      "cell_type": "markdown",
      "metadata": {
        "id": "wDIsmujs7kZj"
      },
      "source": [
        "### test random values"
      ]
    },
    {
      "cell_type": "code",
      "metadata": {
        "colab": {
          "base_uri": "https://localhost:8080/"
        },
        "id": "yx7R1V197mLx",
        "outputId": "f4c63995-3ea1-468d-9a79-011bd5e574f3"
      },
      "source": [
        "z = np.random.uniform(frac_x0, frac_x1) + np.random.uniform(frac_y0, frac_y1)*1j\n",
        "#z = 0.5 + 0.5j\n",
        "print(\"point:\",z)\n",
        "\n",
        "for i in range(1,1+params[\"maxIter\"]):\n",
        "  if abs(df(z)) < params[\"tol\"] or np.isnan(z):\n",
        "      break\n",
        "  #z = z - params[\"gradStep\"] * df(z) if d2f(z)>0 else z + params[\"gradStep\"] * df(z)\n",
        "  z -= params[\"gradStep\"] * df(z)\n",
        "  \n",
        "if i < params[\"maxIter\"]:\n",
        "  if not np.isnan(z):\n",
        "    print(\"converged to:\",z)\n",
        "    print(\"converged in\",i,\"steps\")\n",
        "    print(\"derivative:\",abs(df(z)))\n",
        "  else:\n",
        "    print(\"escaped in\",i,\"steps\")\n",
        "else:\n",
        "  print(\"did not converge in\",i,\"steps\")\n",
        "  print(\"derivative:\",abs(df(z)))"
      ],
      "execution_count": 4,
      "outputs": [
        {
          "output_type": "stream",
          "text": [
            "point: (1.5858222173614314+0.9241647794097889j)\n",
            "escaped in 6 steps\n"
          ],
          "name": "stdout"
        },
        {
          "output_type": "stream",
          "text": [
            "/usr/local/lib/python3.7/dist-packages/numpy/lib/polynomial.py:734: RuntimeWarning: overflow encountered in cdouble_scalars\n",
            "  y = y * x + p[i]\n",
            "/usr/local/lib/python3.7/dist-packages/numpy/lib/polynomial.py:734: RuntimeWarning: invalid value encountered in cdouble_scalars\n",
            "  y = y * x + p[i]\n"
          ],
          "name": "stderr"
        }
      ]
    },
    {
      "cell_type": "markdown",
      "metadata": {
        "id": "kHELi-ymH6vQ"
      },
      "source": [
        "### plot fractal"
      ]
    },
    {
      "cell_type": "code",
      "metadata": {
        "id": "esJoABeL8mpA"
      },
      "source": [
        "def fracToImg(frac_size,img_size,point):\n",
        "  (frac_x0,frac_y0), (frac_x1,frac_y1) = frac_size\n",
        "  (img_x0,img_y0), (img_x1,img_y1) = img_size\n",
        "  img_x1 -= 1;  img_y1 -= 1\n",
        "\n",
        "  x0, y0 = point\n",
        "  x1 = round((x0-frac_x0)*(img_x1-img_x0)/(frac_x1-frac_x0) + img_x0)\n",
        "  y1 = round((y0-frac_y0)*(img_y0-img_y1)/(frac_y1-frac_y0) + img_y1)\n",
        "  return x1,y1\n",
        "\n",
        "def plot_frac(frac_size,img_size,params):\n",
        "\n",
        "  (frac_x0,frac_y0), (frac_x1,frac_y1) = frac_size\n",
        "  (img_x0,img_y0), (img_x1,img_y1) = img_size\n",
        "  img_w = img_x1 - img_x0\n",
        "  img_h = img_y1 - img_y0\n",
        "\n",
        "  img = Image.new('HSV', (img_w, img_h), (0,0,0))\n",
        "  for x in tqdm(np.arange(frac_x0, frac_x1+params[\"frac_xStep\"], params[\"frac_xStep\"])):    # have added step size to endpoints to include them\n",
        "    for y in np.arange(frac_y0, frac_y1+params[\"frac_xStep\"], params[\"frac_yStep\"]):\n",
        "      \n",
        "      z = x+y*1j\n",
        "\n",
        "      for i in range(params[\"maxIter\"]):\n",
        "        deriv = df(z)\n",
        "        if abs(deriv) < params[\"tol\"] or np.isnan(z):\n",
        "            break\n",
        "        z -= params[\"gradStep\"] * deriv\n",
        "        #z = z - params[\"gradStep\"] * deriv if d2f(z) > 0 else z + params[\"gradStep\"] * deriv\n",
        "      if np.isnan(z):\n",
        "        continue      \n",
        "      \n",
        "      # color depends on the angle of the roots\n",
        "      angle = (180 + np.angle(z, deg=True))/360   # [0,1]\n",
        "      if angle < params[\"tol\"]:\n",
        "        angle = 1 - angle\n",
        "      h = round(255*(angle))\n",
        "      s = round(255*(1 - 1/(1+2*abs(z))))   # minima near origin should appear less saturated (more white)\n",
        "      v = round(255*( 1-i/(params[\"maxIter\"]-1) ))  # points taking longer to converge should appear darker (more black)\n",
        "      # Plot the point\n",
        "      img.putpixel( fracToImg(frac_size,img_size,(x, y)), (h,s,v) )\n",
        "\n",
        "  return img.convert('RGB')"
      ],
      "execution_count": 5,
      "outputs": []
    },
    {
      "cell_type": "code",
      "metadata": {
        "colab": {
          "base_uri": "https://localhost:8080/",
          "height": 205,
          "referenced_widgets": [
            "5dfd44027bfa48e990b3ac23ba668785",
            "7351d341ccab4a348142a48c8a47e1c7",
            "d7b7360b40aa4bbe9689cd2cd1f14cff",
            "bb7aadeaca434072a6549eef58e2cc37",
            "568c3a82942a49269692add08861e77d",
            "5edd89c7ab3e4391bfd0600ddd7d9f56",
            "cf159ca582ee4ed19f7cab9780b69bf6",
            "dd47fc21774f4036ad3c1cb09e8a49ad"
          ]
        },
        "id": "8XqUvTk8HfO5",
        "outputId": "2b8d653e-aa0a-40bb-87ff-3f0f2485f51b"
      },
      "source": [
        "img = plot_frac(frac_size,img_size,params)\n",
        "#img   # uncomment to show the PIL image"
      ],
      "execution_count": 6,
      "outputs": [
        {
          "output_type": "display_data",
          "data": {
            "application/vnd.jupyter.widget-view+json": {
              "model_id": "5dfd44027bfa48e990b3ac23ba668785",
              "version_minor": 0,
              "version_major": 2
            },
            "text/plain": [
              "HBox(children=(FloatProgress(value=0.0, max=513.0), HTML(value='')))"
            ]
          },
          "metadata": {
            "tags": []
          }
        },
        {
          "output_type": "stream",
          "text": [
            "/usr/local/lib/python3.7/dist-packages/numpy/lib/polynomial.py:734: RuntimeWarning: overflow encountered in cdouble_scalars\n",
            "  y = y * x + p[i]\n",
            "/usr/local/lib/python3.7/dist-packages/numpy/lib/polynomial.py:734: RuntimeWarning: invalid value encountered in cdouble_scalars\n",
            "  y = y * x + p[i]\n",
            "/usr/local/lib/python3.7/dist-packages/ipykernel_launcher.py:28: RuntimeWarning: invalid value encountered in cdouble_scalars\n",
            "/usr/local/lib/python3.7/dist-packages/numpy/lib/polynomial.py:734: RuntimeWarning: invalid value encountered in multiply\n",
            "  y = y * x + p[i]\n"
          ],
          "name": "stderr"
        },
        {
          "output_type": "stream",
          "text": [
            "\n"
          ],
          "name": "stdout"
        }
      ]
    },
    {
      "cell_type": "markdown",
      "metadata": {
        "id": "chM1npfyuLSn"
      },
      "source": [
        "convert PIL image to matplot for showing axis and labels"
      ]
    },
    {
      "cell_type": "code",
      "metadata": {
        "colab": {
          "base_uri": "https://localhost:8080/",
          "height": 622
        },
        "id": "ANqKCOC1dRI2",
        "outputId": "36930625-d597-49a7-c063-db9493b0badb"
      },
      "source": [
        "image = np.asarray(img) # converting it to ndarray\n",
        "\n",
        "dpi = plt.rcParams['figure.dpi'] # get the default dpi value\n",
        "dpi=50\n",
        "fig_size = (img.size[0]/dpi, img.size[1]/dpi) # figure size\n",
        "\n",
        "fig, ax = plt.subplots(1, figsize=fig_size)\n",
        "ax.imshow(image)\n",
        "\n",
        "xlen = 2*len(ax.get_xticks())\n",
        "ylen = 2*len(ax.get_yticks())\n",
        "xlen += (xlen+1)%2; ylen += (ylen+1)%2\n",
        "xticks = np.linspace(img_x0,img_x1-1,xlen)\n",
        "yticks = np.linspace(img_y0,img_y1-1,ylen)\n",
        "xlabels = np.round(np.linspace(frac_x0,frac_x1,xlen),2)\n",
        "ylabels = np.round(np.linspace(frac_y1,frac_y0,ylen),2)\n",
        "ylabels = [str(l)+'i' for l in ylabels]\n",
        "\n",
        "ax.set_xticks(xticks)\n",
        "ax.set_xticklabels(xlabels)\n",
        "ax.set_yticks(yticks)\n",
        "ax.set_yticklabels(ylabels)\n",
        "ax.set_xlabel(\"Re\")\n",
        "ax.set_ylabel(\"Im\")\n",
        "\n",
        "ax.set_frame_on(False)"
      ],
      "execution_count": 7,
      "outputs": [
        {
          "output_type": "display_data",
          "data": {
            "image/png": "[encoded data removed]",
            "text/plain": [
              "<Figure size 737.28x737.28 with 1 Axes>"
            ]
          },
          "metadata": {
            "tags": [],
            "needs_background": "light"
          }
        }
      ]
    }
  ]
}