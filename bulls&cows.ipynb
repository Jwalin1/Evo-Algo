{
 "cells": [
  {
   "cell_type": "code",
   "execution_count": 1,
   "metadata": {},
   "outputs": [],
   "source": [
    "import random"
   ]
  },
  {
   "cell_type": "code",
   "execution_count": 2,
   "metadata": {},
   "outputs": [
    {
     "name": "stdout",
     "output_type": "stream",
     "text": [
      "chance  1\n",
      "guess: 2863\n",
      "bulls: 0 cows 2\n",
      "\n",
      "chance  2\n",
      "guess: 3942\n",
      "bulls: 2 cows 0\n",
      "\n",
      "chance  3\n",
      "guess: 3645\n",
      "bulls: 2 cows 1\n",
      "\n",
      "chance  4\n",
      "guess: 3046\n",
      "bulls: 3 cows 0\n",
      "\n",
      "chance  5\n",
      "guess: 3746\n",
      "you won in 5 chances\n"
     ]
    }
   ],
   "source": [
    "answer = [x for x in range(10)]\n",
    "random.shuffle(answer)\n",
    "answer = answer[:4]\n",
    "#print(answer)\n",
    "\n",
    "chance = 0\n",
    "while(True):\n",
    "    \n",
    "    chance += 1\n",
    "    print(\"chance \",chance)\n",
    "    \n",
    "    #scan the guess and check if it is valid\n",
    "    while(True):\n",
    "        guess = input(\"guess: \")        \n",
    "        if ((len(guess) <= len(set(guess))) and (len(guess)==4)):\n",
    "            break\n",
    "    guess = [int(guess) for guess in str(guess)]\n",
    "        \n",
    "    bulls = 0; cows = 0;\n",
    "    #loop to count number of bulls and cows\n",
    "    for i in guess:\n",
    "        if i in answer:\n",
    "            if(guess.index(i) == answer.index(i)):\n",
    "                bulls += 1\n",
    "            else:\n",
    "                cows += 1\n",
    "                    \n",
    "    if(bulls == 4):\n",
    "        print(\"you won in %d chances\" % chance)\n",
    "        break\n",
    "            \n",
    "    print(\"bulls: %d cows %d\\n\" % (bulls,cows))\n",
    "    \n",
    "    if(chance == 10):\n",
    "        print(\"you lost\")\n",
    "        break\n",
    "    "
   ]
  }
 ],
 "metadata": {
  "kernelspec": {
   "display_name": "Python 3",
   "language": "python",
   "name": "python3"
  },
  "language_info": {
   "codemirror_mode": {
    "name": "ipython",
    "version": 3
   },
   "file_extension": ".py",
   "mimetype": "text/x-python",
   "name": "python",
   "nbconvert_exporter": "python",
   "pygments_lexer": "ipython3",
   "version": "3.7.4"
  }
 },
 "nbformat": 4,
 "nbformat_minor": 4
}
