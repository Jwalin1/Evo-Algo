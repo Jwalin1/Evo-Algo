{
 "cells": [
  {
   "cell_type": "code",
   "execution_count": 1,
   "metadata": {},
   "outputs": [],
   "source": [
    "import random\n",
    "import math"
   ]
  },
  {
   "cell_type": "code",
   "execution_count": 2,
   "metadata": {},
   "outputs": [],
   "source": [
    "digits = 4   #should be between [1,9]"
   ]
  },
  {
   "cell_type": "code",
   "execution_count": 3,
   "metadata": {},
   "outputs": [],
   "source": [
    "def count_BullsCows(answer,guess):\n",
    "    bulls = 0; cows = 0;\n",
    "    #loop to count number of bulls and cows\n",
    "    for i in guess:\n",
    "        if i in answer:\n",
    "            if(guess.index(i) == answer.index(i)):\n",
    "                bulls += 1\n",
    "            else:\n",
    "                cows += 1\n",
    "    return [bulls,cows]"
   ]
  },
  {
   "cell_type": "code",
   "execution_count": 4,
   "metadata": {},
   "outputs": [
    {
     "name": "stdout",
     "output_type": "stream",
     "text": [
      "chance  1\n",
      "guess:  [8, 7, 5, 2]\n",
      "bulls: 0\n",
      "cows: 2\n",
      "\n",
      "chance  2\n",
      "guess:  [7, 6, 8, 0]\n",
      "bulls: 0\n",
      "cows: 1\n",
      "\n",
      "chance  3\n",
      "guess:  [2, 4, 0, 5]\n",
      "bulls: 1\n",
      "cows: 1\n",
      "\n",
      "chance  4\n",
      "guess:  [2, 9, 4, 8]\n",
      "bulls: 1\n",
      "cows: 1\n",
      "\n",
      "chance  5\n",
      "guess:  [2, 5, 6, 9]\n",
      "bulls: 0\n",
      "cows: 4\n",
      "\n",
      "chance  6\n",
      "guess:  [6, 9, 2, 5]\n",
      "bulls: 4\n",
      "cows: 0\n",
      "\n",
      "I won in 6 chances\n"
     ]
    }
   ],
   "source": [
    "chance = 0; \n",
    "bulls = []; cows = [];\n",
    "guesses = [];\n",
    "total_perms = math.factorial(10)/math.factorial(10-digits)\n",
    "\n",
    "while(True):\n",
    "    \n",
    "    chance += 1\n",
    "    print(\"chance \",chance)\n",
    "    \n",
    "    checked = [];\n",
    "    while(len(checked) != total_perms):\n",
    "        \n",
    "        while(True):\n",
    "            guess = [x for x in range(10)]\n",
    "            random.shuffle(guess)\n",
    "            guess = guess[:digits]\n",
    "            if(guess not in checked):\n",
    "                checked.append(guess)\n",
    "                break\n",
    "        \n",
    "        #check prior responses\n",
    "        if(chance>1):\n",
    "            for j in range(chance-1):\n",
    "                b,c = count_BullsCows(guess,guesses[j])\n",
    "                if(b != bulls[j] or c != cows[j]):\n",
    "                    break\n",
    "            else:\n",
    "                guesses.append(guess)\n",
    "                break\n",
    "        else:\n",
    "            guesses.append(guess)\n",
    "            break\n",
    "    else:\n",
    "        print(\"something is wrong with the inputs\")\n",
    "        break\n",
    "        \n",
    "    print(\"guess: \",guess)\n",
    "    while(True):\n",
    "        b = (int(input(\"bulls: \")))\n",
    "        c = (int(input(\"cows: \")))\n",
    "        if(b + c <= digits):\n",
    "            bulls.append(b);\n",
    "            cows.append(c);\n",
    "            print()\n",
    "            break\n",
    "    \n",
    "    if(b == digits):\n",
    "        print(\"I won in %d chances\" % chance)\n",
    "        break"
   ]
  }
 ],
 "metadata": {
  "kernelspec": {
   "display_name": "Python 3",
   "language": "python",
   "name": "python3"
  },
  "language_info": {
   "codemirror_mode": {
    "name": "ipython",
    "version": 3
   },
   "file_extension": ".py",
   "mimetype": "text/x-python",
   "name": "python",
   "nbconvert_exporter": "python",
   "pygments_lexer": "ipython3",
   "version": "3.7.4"
  }
 },
 "nbformat": 4,
 "nbformat_minor": 4
}
