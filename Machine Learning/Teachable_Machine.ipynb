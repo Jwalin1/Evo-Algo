{
 "cells": [
  {
   "cell_type": "markdown",
   "id": "256d2a9b",
   "metadata": {},
   "source": [
    "# Recording, training and predicting on data using webcam"
   ]
  },
  {
   "cell_type": "markdown",
   "id": "6e0d520c",
   "metadata": {},
   "source": [
    "### trying to make something like https://teachablemachine.withgoogle.com/v1/"
   ]
  },
  {
   "cell_type": "markdown",
   "id": "3695763e",
   "metadata": {},
   "source": [
    "### imports"
   ]
  },
  {
   "cell_type": "code",
   "execution_count": 3,
   "id": "b868a435",
   "metadata": {},
   "outputs": [],
   "source": [
    "import os\n",
    "import cv2\n",
    "import numpy as np\n",
    "from PIL import Image\n",
    "from glob import glob\n",
    "from copy import deepcopy\n",
    "from tqdm.auto import tqdm\n",
    "import matplotlib.pyplot as plt\n",
    "\n",
    "import albumentations as A\n",
    "from albumentations.pytorch import ToTensorV2\n",
    "\n",
    "from sklearn.metrics import classification_report\n",
    "from sklearn.model_selection import train_test_split\n",
    "\n",
    "import torch\n",
    "import torch.nn as nn\n",
    "import torch.optim as optim\n",
    "import torch.nn.functional as F\n",
    "from torch.utils.data import Dataset\n",
    "from torch.utils.data import DataLoader\n",
    "from torchvision.transforms import transforms"
   ]
  },
  {
   "cell_type": "code",
   "execution_count": 4,
   "id": "47161b28",
   "metadata": {},
   "outputs": [
    {
     "name": "stdout",
     "output_type": "stream",
     "text": [
      "device: cpu\n"
     ]
    }
   ],
   "source": [
    "device = torch.device('cuda' if torch.cuda.is_available() else 'cpu')\n",
    "print(f'device: {device}')"
   ]
  },
  {
   "cell_type": "markdown",
   "id": "ff6540ad",
   "metadata": {},
   "source": [
    "### capturing data"
   ]
  },
  {
   "cell_type": "code",
   "execution_count": 5,
   "id": "7151c4ff",
   "metadata": {},
   "outputs": [],
   "source": [
    "dir_path = 'train_imgs'\n",
    "if not os.path.exists(dir_path):\n",
    "  os.makedirs(dir_path)"
   ]
  },
  {
   "cell_type": "code",
   "execution_count": 6,
   "id": "39d200ac",
   "metadata": {},
   "outputs": [
    {
     "name": "stdout",
     "output_type": "stream",
     "text": [
      "enter number of categories: 2\n",
      "enter the name of class 0: bottle\n",
      "enter the name of class 1: glass\n"
     ]
    }
   ],
   "source": [
    "n_classes = int(input(f'enter number of categories: '))\n",
    "\n",
    "classes = []\n",
    "for i in range(n_classes):\n",
    "  classes.append(input(f'enter the name of class {i}: '))"
   ]
  },
  {
   "cell_type": "code",
   "execution_count": 7,
   "id": "35cab607",
   "metadata": {},
   "outputs": [
    {
     "data": {
      "text/plain": [
       "['bottle', 'glass']"
      ]
     },
     "execution_count": 7,
     "metadata": {},
     "output_type": "execute_result"
    }
   ],
   "source": [
    "classes"
   ]
  },
  {
   "cell_type": "code",
   "execution_count": 19,
   "id": "d170108e",
   "metadata": {},
   "outputs": [],
   "source": [
    "for class_ in classes:\n",
    "  class_img_path = os.path.join(dir_path, class_)\n",
    "  if not os.path.exists(class_img_path):\n",
    "    os.makedirs(class_img_path)"
   ]
  },
  {
   "cell_type": "code",
   "execution_count": 10,
   "id": "5e8c5f92",
   "metadata": {},
   "outputs": [
    {
     "name": "stdout",
     "output_type": "stream",
     "text": [
      "press space to start capturing images for bottle\n",
      "saving images\n"
     ]
    },
    {
     "data": {
      "application/vnd.jupyter.widget-view+json": {
       "model_id": "4098b54d9bc147d28203624a302ad1da",
       "version_major": 2,
       "version_minor": 0
      },
      "text/plain": [
       "  0%|          | 0/133 [00:00<?, ?it/s]"
      ]
     },
     "metadata": {},
     "output_type": "display_data"
    },
    {
     "name": "stdout",
     "output_type": "stream",
     "text": [
      "press space to start capturing images for glass\n",
      "saving images\n"
     ]
    },
    {
     "data": {
      "application/vnd.jupyter.widget-view+json": {
       "model_id": "10486ff0dfbf4f9091c9d63b0b8d8e0d",
       "version_major": 2,
       "version_minor": 0
      },
      "text/plain": [
       "  0%|          | 0/133 [00:00<?, ?it/s]"
      ]
     },
     "metadata": {},
     "output_type": "display_data"
    }
   ],
   "source": [
    "cam = cv2.VideoCapture(0)\n",
    " \n",
    "cv2.namedWindow(\"test\")\n",
    "\n",
    "def show_frame(cam):\n",
    "  ret, frame = cam.read()\n",
    "  if not ret:\n",
    "    print(\"failed to grab frame\")\n",
    "    return None\n",
    "  cv2.imshow(\"test\", frame)\n",
    "  return frame\n",
    "\n",
    "def save_imgs(class_name, n_imgs=133):\n",
    "  while True:\n",
    "    if show_frame(cam) is None:\n",
    "      break\n",
    "    \n",
    "    k = cv2.waitKey(1)\n",
    "    # SPACE pressed\n",
    "    if k%256 == 32:\n",
    "      print('saving images')\n",
    "      break\n",
    "  \n",
    "  \n",
    "  frame_count, img_counter = 0, 0\n",
    "  fps = int(cam.get(cv2.CAP_PROP_FPS))\n",
    "  save_interval = 0.5\n",
    "  pbar = tqdm(total=n_imgs-1)\n",
    "  \n",
    "  while True:\n",
    "    frame = show_frame(cam)\n",
    "    if frame is None:\n",
    "      break\n",
    "    frame_count += 1\n",
    "    \n",
    "    cv2.waitKey(1)\n",
    "    \n",
    "    if (frame_count % (fps * save_interval) == 0) or True:\n",
    "      img_name = os.path.join( dir_path, class_name, f\"frame_{img_counter}.png\" )\n",
    "      cv2.imwrite(img_name, frame)\n",
    "      # print(f\"frame_{img_counter} written!\")\n",
    "      img_counter += 1\n",
    "      pbar.update(1)\n",
    "      \n",
    "    if img_counter == n_imgs-1:\n",
    "      pbar.close()\n",
    "      break\n",
    "\n",
    "for class_name in classes:\n",
    "  print(f'press space to start capturing images for {class_name}')\n",
    "  save_imgs(class_name)\n",
    "      \n",
    "cam.release()\n",
    "\n",
    "cv2.destroyAllWindows()"
   ]
  },
  {
   "cell_type": "markdown",
   "id": "8efde491",
   "metadata": {},
   "source": [
    "### getting data"
   ]
  },
  {
   "cell_type": "code",
   "execution_count": 27,
   "id": "d7ca79f8",
   "metadata": {},
   "outputs": [],
   "source": [
    " # Use these transforms with PIL\n",
    "train_transforms=transforms.Compose([\n",
    "    transforms.Resize((256,256)),\n",
    "    transforms.RandomHorizontalFlip(),\n",
    "    transforms.ToTensor(),  #0-255 to 0-1, numpy to tensors\n",
    "    transforms.Normalize([0.5,0.5,0.5], # 0-1 to [-1,1] , formula (x-mean)/std\n",
    "                        [0.5,0.5,0.5])\n",
    "])\n",
    "\n",
    "test_transforms=transforms.Compose([\n",
    "    transforms.Resize((256,256)),\n",
    "    transforms.ToTensor(),  #0-255 to 0-1, numpy to tensors\n",
    "    transforms.Normalize([0.5,0.5,0.5], # 0-1 to [-1,1] , formula (x-mean)/std\n",
    "                        [0.5,0.5,0.5])\n",
    "])\n",
    "\n",
    "\n",
    "# # Use these trasforms with cv2\n",
    "# train_transforms = A.Compose(\n",
    "#     [\n",
    "#         A.SmallestMaxSize(max_size=350),\n",
    "#         A.ShiftScaleRotate(shift_limit=0.05, scale_limit=0.05, rotate_limit=360, p=0.5),\n",
    "#         A.RandomCrop(height=256, width=256),\n",
    "#         A.RGBShift(r_shift_limit=15, g_shift_limit=15, b_shift_limit=15, p=0.5),\n",
    "#         A.RandomBrightnessContrast(p=0.5),\n",
    "#         A.MultiplicativeNoise(multiplier=[0.5,2], per_channel=True, p=0.2),\n",
    "#         A.Normalize(mean=(0.5, 0.5, 0.5), std=(0.5, 0.5, 0.5)),\n",
    "#         A.HueSaturationValue(hue_shift_limit=0.2, sat_shift_limit=0.2, val_shift_limit=0.2, p=0.5),\n",
    "#         A.RandomBrightnessContrast(brightness_limit=(-0.1,0.1), contrast_limit=(-0.1, 0.1), p=0.5),\n",
    "#         ToTensorV2(),\n",
    "#     ]\n",
    "# )\n",
    "\n",
    "# test_transforms = A.Compose(\n",
    "#     [\n",
    "#         A.Resize(height=256, width=256),\n",
    "#         A.Normalize(mean=(0.5, 0.5, 0.5), std=(0.5, 0.5, 0.5)),\n",
    "#         ToTensorV2(),\n",
    "#     ]\n",
    "# )"
   ]
  },
  {
   "cell_type": "code",
   "execution_count": 28,
   "id": "9b7134e3",
   "metadata": {},
   "outputs": [
    {
     "name": "stdout",
     "output_type": "stream",
     "text": [
      "Train size: 198\n",
      "Valid size: 66\n",
      "\n"
     ]
    }
   ],
   "source": [
    "train_data_path = 'train_imgs'\n",
    "\n",
    "def flatten(l):\n",
    "    return [item for sublist in l for item in sublist]\n",
    "\n",
    "train_image_paths = [] #to store image paths in list\n",
    "\n",
    "\n",
    "for data_path in glob(train_data_path + '/*'):\n",
    "    train_image_paths.append(glob(data_path + '/*'))\n",
    "\n",
    "train_image_paths = list(flatten(train_image_paths))\n",
    "\n",
    "\n",
    "train_image_paths, valid_image_paths = train_test_split(train_image_paths, test_size=0.25, random_state=42)\n",
    "\n",
    "print(\"Train size: {}\\nValid size: {}\\n\".format(len(train_image_paths), len(valid_image_paths)))"
   ]
  },
  {
   "cell_type": "code",
   "execution_count": 29,
   "id": "e6241d3d",
   "metadata": {},
   "outputs": [],
   "source": [
    "idx_to_class = {i:j for i, j in enumerate(classes)}\n",
    "class_to_idx = {value:key for key,value in idx_to_class.items()}"
   ]
  },
  {
   "cell_type": "markdown",
   "id": "5bcb2070",
   "metadata": {},
   "source": [
    "### creating dataset and dataloaders"
   ]
  },
  {
   "cell_type": "code",
   "execution_count": 30,
   "id": "c616da53",
   "metadata": {},
   "outputs": [],
   "source": [
    "class MyCustomDataset(Dataset):\n",
    "    def __init__(self, image_paths, transforms=False):\n",
    "        self.image_paths = image_paths\n",
    "        self.transforms = transforms\n",
    "        \n",
    "    def __len__(self):\n",
    "        return len(self.image_paths)\n",
    "\n",
    "    def __getitem__(self, idx):\n",
    "        image_filepath = self.image_paths[idx]\n",
    "        image = Image.open(image_filepath)\n",
    "#         image = cv2.imread(image_filepath)\n",
    "#         image = cv2.cvtColor(image, cv2.COLOR_BGR2RGB)\n",
    "        \n",
    "        label = image_filepath.split('\\\\')[-2]\n",
    "        label = class_to_idx[label]\n",
    "        if self.transforms is not None:\n",
    "            image = self.transforms(image)\n",
    "#             image = self.transforms(image=image)[\"image\"]\n",
    "        \n",
    "        return image, label\n",
    "\n",
    "\n",
    "train_dataset = MyCustomDataset(train_image_paths,train_transforms)\n",
    "valid_dataset = MyCustomDataset(valid_image_paths,test_transforms)"
   ]
  },
  {
   "cell_type": "code",
   "execution_count": 31,
   "id": "e06bd649",
   "metadata": {},
   "outputs": [],
   "source": [
    "train_loader = DataLoader( train_dataset, batch_size=32, shuffle=True )\n",
    "\n",
    "valid_loader = DataLoader( valid_dataset, batch_size=32, shuffle=False )\n",
    "\n",
    "dataloaders = {'train':train_loader, 'val':valid_loader}"
   ]
  },
  {
   "cell_type": "markdown",
   "id": "0caf4f38",
   "metadata": {},
   "source": [
    "### neural network"
   ]
  },
  {
   "cell_type": "code",
   "execution_count": 32,
   "id": "9350f973",
   "metadata": {},
   "outputs": [
    {
     "name": "stderr",
     "output_type": "stream",
     "text": [
      "Using cache found in C:\\Users\\er5241/.cache\\torch\\hub\\pytorch_vision_v0.10.0\n"
     ]
    }
   ],
   "source": [
    "model = torch.hub.load('pytorch/vision:v0.10.0', 'mobilenet_v2', weights='MobileNet_V2_Weights.DEFAULT')\n",
    "model = model.to(device)"
   ]
  },
  {
   "cell_type": "code",
   "execution_count": 33,
   "id": "f64b4453",
   "metadata": {},
   "outputs": [],
   "source": [
    "# adjust the number of output classes in the last layer\n",
    "model.classifier[-1] = nn.Linear(1280, n_classes)"
   ]
  },
  {
   "cell_type": "code",
   "execution_count": 34,
   "id": "ed5e6024",
   "metadata": {},
   "outputs": [],
   "source": [
    "#Optmizer and loss function\n",
    "optimizer = optim.Adam(model.parameters(),lr=0.001,weight_decay=0.0001)\n",
    "criterion = nn.CrossEntropyLoss()"
   ]
  },
  {
   "cell_type": "code",
   "execution_count": 35,
   "id": "67bee4f2",
   "metadata": {},
   "outputs": [],
   "source": [
    "def train_model(model,criterion,optimizer,dataloaders,epochs,check_every=None,earlyStopping=False):\n",
    "\n",
    "  print(\"training model\")\n",
    "  optimizer.zero_grad()\n",
    "\n",
    "  if not check_every:\n",
    "      check_every = int(epochs / 10) if epochs > 10 else 1\n",
    "\n",
    "  phases = dataloaders.keys()\n",
    "  valExists = True if \"val\" in phases else False\n",
    "  avg_loss = {phase:0 for phase in phases}\n",
    "  avg_losses = {phase:[] for phase in phases}\n",
    "\n",
    "  for epoch in tqdm(range(epochs)):  # loop over the dataset multiple times\n",
    "\n",
    "    batchLoss = {phase:[] for phase in phases}\n",
    "\n",
    "     # Each epoch has a training and validation phase\n",
    "    for phase in phases:\n",
    "      if phase == \"train\":  model.train()  # Set model to training mode\n",
    "      else: model.eval()   # Set model to evaluate mode\n",
    "        \n",
    "      for i, (inputBatch,labelBatch) in enumerate(tqdm(dataloaders[phase], desc=phase, leave=False)):\n",
    "\n",
    "          inputBatch = inputBatch.to(device).float()\n",
    "          labelBatch = labelBatch.to(device)\n",
    "          \n",
    "          # forward\n",
    "          with torch.set_grad_enabled(not phase==\"val\"):\n",
    "            outputBatch = model(inputBatch)\n",
    "          loss = criterion(outputBatch, labelBatch)\n",
    "          batchLoss[phase].append(loss.item())\n",
    "\n",
    "          # backward + optimize only if in training phase\n",
    "          if phase == \"train\":\n",
    "            loss.backward()\n",
    "            optimizer.step()\n",
    "            optimizer.zero_grad()\n",
    "\n",
    "\n",
    "    for phase in phases : avg_loss[phase] = np.mean(batchLoss[phase])\n",
    "        \n",
    "    phase = \"val\" if valExists else \"train\"\n",
    "    if epoch > 0:\n",
    "      if avg_loss[phase] < min(avg_losses[phase]):\n",
    "        best_params = deepcopy(model.state_dict())\n",
    "        best_epoch, best_loss = epoch, avg_loss[phase]\n",
    "    else:\n",
    "      best_params = deepcopy(model.state_dict())\n",
    "      best_epoch, best_loss = epoch, avg_loss[phase]\n",
    "      movAvg_old = avg_loss[phase]\n",
    "\n",
    "    for phase in phases : avg_losses[phase].append(avg_loss[phase])  \n",
    "\n",
    "    # print statistics\n",
    "    if epoch % check_every == check_every - 1:\n",
    "      print(\"epoch: %d\" % (epoch + 1), end=\"  | \")\n",
    "      for phase in phases:\n",
    "        print(\"%s loss: %.3f\" % (phase, avg_loss[phase]), end=\", \")\n",
    "      if check_every > 1:\n",
    "        print(\" | \", end='')\n",
    "        for phase in phases:        \n",
    "          print(\"avg %s loss: %.3f\" % (phase, np.mean(avg_losses[phase][epoch+1-check_every:epoch+1])), end=\", \")\n",
    "      if valExists:\n",
    "        movAvg_new = np.mean(avg_losses[\"val\"][epoch+1-check_every:epoch+1])\n",
    "\n",
    "      if (valExists) and earlyStopping:\n",
    "        if movAvg_old < movAvg_new:   break\n",
    "        else:   movAvg_old = movAvg_new\n",
    "\n",
    "\n",
    "\n",
    "  end_params = deepcopy(model.state_dict())\n",
    "  print('Finished Training')\n",
    "  for phase in phases:  plt.plot(avg_losses[phase], label=phase+\" loss\")\n",
    "  #plt.plot([best_loss]*epoch, linestyle='dashed')\n",
    "  plt.plot(best_epoch, best_loss, 'o')\n",
    "  plt.xlabel(\"epoch\")\n",
    "  plt.ylabel(\"loss\")\n",
    "  plt.legend()\n",
    "  plt.show()\n",
    "\n",
    "  return best_params, end_params"
   ]
  },
  {
   "cell_type": "code",
   "execution_count": 36,
   "id": "1368bea3",
   "metadata": {},
   "outputs": [
    {
     "name": "stdout",
     "output_type": "stream",
     "text": [
      "training model\n"
     ]
    },
    {
     "data": {
      "application/vnd.jupyter.widget-view+json": {
       "model_id": "cf5f5f47faea44fdb9641683e84f06a6",
       "version_major": 2,
       "version_minor": 0
      },
      "text/plain": [
       "  0%|          | 0/5 [00:00<?, ?it/s]"
      ]
     },
     "metadata": {},
     "output_type": "display_data"
    },
    {
     "data": {
      "application/vnd.jupyter.widget-view+json": {
       "model_id": "",
       "version_major": 2,
       "version_minor": 0
      },
      "text/plain": [
       "train:   0%|          | 0/7 [00:00<?, ?it/s]"
      ]
     },
     "metadata": {},
     "output_type": "display_data"
    },
    {
     "data": {
      "application/vnd.jupyter.widget-view+json": {
       "model_id": "",
       "version_major": 2,
       "version_minor": 0
      },
      "text/plain": [
       "val:   0%|          | 0/3 [00:00<?, ?it/s]"
      ]
     },
     "metadata": {},
     "output_type": "display_data"
    },
    {
     "name": "stdout",
     "output_type": "stream",
     "text": [
      "epoch: 1  | train loss: 0.259, val loss: 0.049, "
     ]
    },
    {
     "data": {
      "application/vnd.jupyter.widget-view+json": {
       "model_id": "",
       "version_major": 2,
       "version_minor": 0
      },
      "text/plain": [
       "train:   0%|          | 0/7 [00:00<?, ?it/s]"
      ]
     },
     "metadata": {},
     "output_type": "display_data"
    },
    {
     "data": {
      "application/vnd.jupyter.widget-view+json": {
       "model_id": "",
       "version_major": 2,
       "version_minor": 0
      },
      "text/plain": [
       "val:   0%|          | 0/3 [00:00<?, ?it/s]"
      ]
     },
     "metadata": {},
     "output_type": "display_data"
    },
    {
     "name": "stdout",
     "output_type": "stream",
     "text": [
      "epoch: 2  | train loss: 0.004, val loss: 0.000, "
     ]
    },
    {
     "data": {
      "application/vnd.jupyter.widget-view+json": {
       "model_id": "",
       "version_major": 2,
       "version_minor": 0
      },
      "text/plain": [
       "train:   0%|          | 0/7 [00:00<?, ?it/s]"
      ]
     },
     "metadata": {},
     "output_type": "display_data"
    },
    {
     "data": {
      "application/vnd.jupyter.widget-view+json": {
       "model_id": "",
       "version_major": 2,
       "version_minor": 0
      },
      "text/plain": [
       "val:   0%|          | 0/3 [00:00<?, ?it/s]"
      ]
     },
     "metadata": {},
     "output_type": "display_data"
    },
    {
     "name": "stdout",
     "output_type": "stream",
     "text": [
      "epoch: 3  | train loss: 0.001, val loss: 0.000, "
     ]
    },
    {
     "data": {
      "application/vnd.jupyter.widget-view+json": {
       "model_id": "",
       "version_major": 2,
       "version_minor": 0
      },
      "text/plain": [
       "train:   0%|          | 0/7 [00:00<?, ?it/s]"
      ]
     },
     "metadata": {},
     "output_type": "display_data"
    },
    {
     "data": {
      "application/vnd.jupyter.widget-view+json": {
       "model_id": "",
       "version_major": 2,
       "version_minor": 0
      },
      "text/plain": [
       "val:   0%|          | 0/3 [00:00<?, ?it/s]"
      ]
     },
     "metadata": {},
     "output_type": "display_data"
    },
    {
     "name": "stdout",
     "output_type": "stream",
     "text": [
      "epoch: 4  | train loss: 0.000, val loss: 0.000, "
     ]
    },
    {
     "data": {
      "application/vnd.jupyter.widget-view+json": {
       "model_id": "",
       "version_major": 2,
       "version_minor": 0
      },
      "text/plain": [
       "train:   0%|          | 0/7 [00:00<?, ?it/s]"
      ]
     },
     "metadata": {},
     "output_type": "display_data"
    },
    {
     "data": {
      "application/vnd.jupyter.widget-view+json": {
       "model_id": "",
       "version_major": 2,
       "version_minor": 0
      },
      "text/plain": [
       "val:   0%|          | 0/3 [00:00<?, ?it/s]"
      ]
     },
     "metadata": {},
     "output_type": "display_data"
    },
    {
     "name": "stdout",
     "output_type": "stream",
     "text": [
      "epoch: 5  | train loss: 0.001, val loss: 0.000, Finished Training\n"
     ]
    },
    {
     "data": {
      "image/png": "[encoded data removed]",
      "text/plain": [
       "<Figure size 640x480 with 1 Axes>"
      ]
     },
     "metadata": {},
     "output_type": "display_data"
    }
   ],
   "source": [
    "best_params, end_params = train_model(model, criterion, optimizer, dataloaders, 5)"
   ]
  },
  {
   "cell_type": "code",
   "execution_count": 37,
   "id": "3b5804a4",
   "metadata": {},
   "outputs": [
    {
     "data": {
      "text/plain": [
       "<All keys matched successfully>"
      ]
     },
     "execution_count": 37,
     "metadata": {},
     "output_type": "execute_result"
    }
   ],
   "source": [
    "model.load_state_dict(best_params)"
   ]
  },
  {
   "cell_type": "markdown",
   "id": "9305233a",
   "metadata": {},
   "source": [
    "### testing"
   ]
  },
  {
   "cell_type": "code",
   "execution_count": 38,
   "id": "376a61d1",
   "metadata": {},
   "outputs": [
    {
     "name": "stdout",
     "output_type": "stream",
     "text": [
      "press space to generate prediction\n",
      "bottle\n",
      "bottle\n",
      "glass\n",
      "glass\n",
      "glass\n",
      "Escape hit, closing...\n"
     ]
    }
   ],
   "source": [
    "cam = cv2.VideoCapture(0)\n",
    " \n",
    "cv2.namedWindow(\"test\")\n",
    "\n",
    "print('press space to generate prediction')\n",
    "\n",
    "while True:\n",
    "  ret, frame = cam.read()\n",
    "  if not ret:\n",
    "      print(\"failed to grab frame\")\n",
    "      break\n",
    "  cv2.imshow(\"test\", frame)\n",
    "\n",
    "  k = cv2.waitKey(1)\n",
    "\n",
    "  if k%256 == 32:\n",
    "    # SPACE pressed\n",
    "    img = Image.fromarray(frame)\n",
    "    img = test_transforms(img)\n",
    "#     img = test_transforms(image=frame)[\"image\"]\n",
    "    img = img.unsqueeze(0)\n",
    "    pred = model(img)\n",
    "    pred = torch.argmax(pred)\n",
    "    pred = pred.item()\n",
    "    if pred in idx_to_class:\n",
    "      pred = idx_to_class[pred]\n",
    "      print(pred)\n",
    "    else:\n",
    "      print('unknown prediction')\n",
    "\n",
    "  elif k%256 == 27:\n",
    "    # ESC pressed\n",
    "    print(\"Escape hit, closing...\")\n",
    "    break\n",
    "\n",
    "cam.release()\n",
    "\n",
    "cv2.destroyAllWindows()"
   ]
  },
  {
   "cell_type": "code",
   "execution_count": null,
   "id": "1ec93ced",
   "metadata": {},
   "outputs": [],
   "source": []
  }
 ],
 "metadata": {
  "kernelspec": {
   "display_name": "Python 3 (ipykernel)",
   "language": "python",
   "name": "python3"
  },
  "language_info": {
   "codemirror_mode": {
    "name": "ipython",
    "version": 3
   },
   "file_extension": ".py",
   "mimetype": "text/x-python",
   "name": "python",
   "nbconvert_exporter": "python",
   "pygments_lexer": "ipython3",
   "version": "3.9.13"
  }
 },
 "nbformat": 4,
 "nbformat_minor": 5
}
