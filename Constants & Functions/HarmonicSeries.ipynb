{
  "nbformat": 4,
  "nbformat_minor": 0,
  "metadata": {
    "colab": {
      "name": "HarmonicSeries.ipynb",
      "provenance": [],
      "collapsed_sections": []
    },
    "kernelspec": {
      "name": "python3",
      "display_name": "Python 3"
    },
    "language_info": {
      "name": "python"
    },
    "widgets": {
      "application/vnd.jupyter.widget-state+json": {
        "19e00d2d35e84fc2a83b12b7fd83bcf0": {
          "model_module": "@jupyter-widgets/controls",
          "model_name": "HBoxModel",
          "model_module_version": "1.5.0",
          "state": {
            "_view_name": "HBoxView",
            "_dom_classes": [],
            "_model_name": "HBoxModel",
            "_view_module": "@jupyter-widgets/controls",
            "_model_module_version": "1.5.0",
            "_view_count": null,
            "_view_module_version": "1.5.0",
            "box_style": "",
            "layout": "IPY_MODEL_0dc0ef5d56cf4eac90a79cf7bc00ebe5",
            "_model_module": "@jupyter-widgets/controls",
            "children": [
              "IPY_MODEL_062152d7d341483d80a185959f36da66",
              "IPY_MODEL_fef52fe7f3a04010b6dc52564f44002b",
              "IPY_MODEL_5af69c55d35c48398964627288a14884"
            ]
          }
        },
        "0dc0ef5d56cf4eac90a79cf7bc00ebe5": {
          "model_module": "@jupyter-widgets/base",
          "model_name": "LayoutModel",
          "model_module_version": "1.2.0",
          "state": {
            "_view_name": "LayoutView",
            "grid_template_rows": null,
            "right": null,
            "justify_content": null,
            "_view_module": "@jupyter-widgets/base",
            "overflow": null,
            "_model_module_version": "1.2.0",
            "_view_count": null,
            "flex_flow": null,
            "width": null,
            "min_width": null,
            "border": null,
            "align_items": null,
            "bottom": null,
            "_model_module": "@jupyter-widgets/base",
            "top": null,
            "grid_column": null,
            "overflow_y": null,
            "overflow_x": null,
            "grid_auto_flow": null,
            "grid_area": null,
            "grid_template_columns": null,
            "flex": null,
            "_model_name": "LayoutModel",
            "justify_items": null,
            "grid_row": null,
            "max_height": null,
            "align_content": null,
            "visibility": null,
            "align_self": null,
            "height": null,
            "min_height": null,
            "padding": null,
            "grid_auto_rows": null,
            "grid_gap": null,
            "max_width": null,
            "order": null,
            "_view_module_version": "1.2.0",
            "grid_template_areas": null,
            "object_position": null,
            "object_fit": null,
            "grid_auto_columns": null,
            "margin": null,
            "display": null,
            "left": null
          }
        },
        "062152d7d341483d80a185959f36da66": {
          "model_module": "@jupyter-widgets/controls",
          "model_name": "HTMLModel",
          "model_module_version": "1.5.0",
          "state": {
            "_view_name": "HTMLView",
            "style": "IPY_MODEL_e1c701a0c6c5485a9fec4d8f991da706",
            "_dom_classes": [],
            "description": "",
            "_model_name": "HTMLModel",
            "placeholder": "​",
            "_view_module": "@jupyter-widgets/controls",
            "_model_module_version": "1.5.0",
            "value": "100%",
            "_view_count": null,
            "_view_module_version": "1.5.0",
            "description_tooltip": null,
            "_model_module": "@jupyter-widgets/controls",
            "layout": "IPY_MODEL_b9aca4b279aa4fcd827ea807513a5790"
          }
        },
        "fef52fe7f3a04010b6dc52564f44002b": {
          "model_module": "@jupyter-widgets/controls",
          "model_name": "FloatProgressModel",
          "model_module_version": "1.5.0",
          "state": {
            "_view_name": "ProgressView",
            "style": "IPY_MODEL_2353f13767b74fe5bcc4444c7682abec",
            "_dom_classes": [],
            "description": "",
            "_model_name": "FloatProgressModel",
            "bar_style": "success",
            "max": 1000000,
            "_view_module": "@jupyter-widgets/controls",
            "_model_module_version": "1.5.0",
            "value": 1000000,
            "_view_count": null,
            "_view_module_version": "1.5.0",
            "orientation": "horizontal",
            "min": 0,
            "description_tooltip": null,
            "_model_module": "@jupyter-widgets/controls",
            "layout": "IPY_MODEL_49942556e3064e74b7348ca9341a0e7e"
          }
        },
        "5af69c55d35c48398964627288a14884": {
          "model_module": "@jupyter-widgets/controls",
          "model_name": "HTMLModel",
          "model_module_version": "1.5.0",
          "state": {
            "_view_name": "HTMLView",
            "style": "IPY_MODEL_3e253b2452834a62960e887ccd0f7db8",
            "_dom_classes": [],
            "description": "",
            "_model_name": "HTMLModel",
            "placeholder": "​",
            "_view_module": "@jupyter-widgets/controls",
            "_model_module_version": "1.5.0",
            "value": " 1000000/1000000 [00:48&lt;00:00, 27320.13it/s]",
            "_view_count": null,
            "_view_module_version": "1.5.0",
            "description_tooltip": null,
            "_model_module": "@jupyter-widgets/controls",
            "layout": "IPY_MODEL_9d4b7ca3fef94a9bb170e467a82e6d58"
          }
        },
        "e1c701a0c6c5485a9fec4d8f991da706": {
          "model_module": "@jupyter-widgets/controls",
          "model_name": "DescriptionStyleModel",
          "model_module_version": "1.5.0",
          "state": {
            "_view_name": "StyleView",
            "_model_name": "DescriptionStyleModel",
            "description_width": "",
            "_view_module": "@jupyter-widgets/base",
            "_model_module_version": "1.5.0",
            "_view_count": null,
            "_view_module_version": "1.2.0",
            "_model_module": "@jupyter-widgets/controls"
          }
        },
        "b9aca4b279aa4fcd827ea807513a5790": {
          "model_module": "@jupyter-widgets/base",
          "model_name": "LayoutModel",
          "model_module_version": "1.2.0",
          "state": {
            "_view_name": "LayoutView",
            "grid_template_rows": null,
            "right": null,
            "justify_content": null,
            "_view_module": "@jupyter-widgets/base",
            "overflow": null,
            "_model_module_version": "1.2.0",
            "_view_count": null,
            "flex_flow": null,
            "width": null,
            "min_width": null,
            "border": null,
            "align_items": null,
            "bottom": null,
            "_model_module": "@jupyter-widgets/base",
            "top": null,
            "grid_column": null,
            "overflow_y": null,
            "overflow_x": null,
            "grid_auto_flow": null,
            "grid_area": null,
            "grid_template_columns": null,
            "flex": null,
            "_model_name": "LayoutModel",
            "justify_items": null,
            "grid_row": null,
            "max_height": null,
            "align_content": null,
            "visibility": null,
            "align_self": null,
            "height": null,
            "min_height": null,
            "padding": null,
            "grid_auto_rows": null,
            "grid_gap": null,
            "max_width": null,
            "order": null,
            "_view_module_version": "1.2.0",
            "grid_template_areas": null,
            "object_position": null,
            "object_fit": null,
            "grid_auto_columns": null,
            "margin": null,
            "display": null,
            "left": null
          }
        },
        "2353f13767b74fe5bcc4444c7682abec": {
          "model_module": "@jupyter-widgets/controls",
          "model_name": "ProgressStyleModel",
          "model_module_version": "1.5.0",
          "state": {
            "_view_name": "StyleView",
            "_model_name": "ProgressStyleModel",
            "description_width": "",
            "_view_module": "@jupyter-widgets/base",
            "_model_module_version": "1.5.0",
            "_view_count": null,
            "_view_module_version": "1.2.0",
            "bar_color": null,
            "_model_module": "@jupyter-widgets/controls"
          }
        },
        "49942556e3064e74b7348ca9341a0e7e": {
          "model_module": "@jupyter-widgets/base",
          "model_name": "LayoutModel",
          "model_module_version": "1.2.0",
          "state": {
            "_view_name": "LayoutView",
            "grid_template_rows": null,
            "right": null,
            "justify_content": null,
            "_view_module": "@jupyter-widgets/base",
            "overflow": null,
            "_model_module_version": "1.2.0",
            "_view_count": null,
            "flex_flow": null,
            "width": null,
            "min_width": null,
            "border": null,
            "align_items": null,
            "bottom": null,
            "_model_module": "@jupyter-widgets/base",
            "top": null,
            "grid_column": null,
            "overflow_y": null,
            "overflow_x": null,
            "grid_auto_flow": null,
            "grid_area": null,
            "grid_template_columns": null,
            "flex": null,
            "_model_name": "LayoutModel",
            "justify_items": null,
            "grid_row": null,
            "max_height": null,
            "align_content": null,
            "visibility": null,
            "align_self": null,
            "height": null,
            "min_height": null,
            "padding": null,
            "grid_auto_rows": null,
            "grid_gap": null,
            "max_width": null,
            "order": null,
            "_view_module_version": "1.2.0",
            "grid_template_areas": null,
            "object_position": null,
            "object_fit": null,
            "grid_auto_columns": null,
            "margin": null,
            "display": null,
            "left": null
          }
        },
        "3e253b2452834a62960e887ccd0f7db8": {
          "model_module": "@jupyter-widgets/controls",
          "model_name": "DescriptionStyleModel",
          "model_module_version": "1.5.0",
          "state": {
            "_view_name": "StyleView",
            "_model_name": "DescriptionStyleModel",
            "description_width": "",
            "_view_module": "@jupyter-widgets/base",
            "_model_module_version": "1.5.0",
            "_view_count": null,
            "_view_module_version": "1.2.0",
            "_model_module": "@jupyter-widgets/controls"
          }
        },
        "9d4b7ca3fef94a9bb170e467a82e6d58": {
          "model_module": "@jupyter-widgets/base",
          "model_name": "LayoutModel",
          "model_module_version": "1.2.0",
          "state": {
            "_view_name": "LayoutView",
            "grid_template_rows": null,
            "right": null,
            "justify_content": null,
            "_view_module": "@jupyter-widgets/base",
            "overflow": null,
            "_model_module_version": "1.2.0",
            "_view_count": null,
            "flex_flow": null,
            "width": null,
            "min_width": null,
            "border": null,
            "align_items": null,
            "bottom": null,
            "_model_module": "@jupyter-widgets/base",
            "top": null,
            "grid_column": null,
            "overflow_y": null,
            "overflow_x": null,
            "grid_auto_flow": null,
            "grid_area": null,
            "grid_template_columns": null,
            "flex": null,
            "_model_name": "LayoutModel",
            "justify_items": null,
            "grid_row": null,
            "max_height": null,
            "align_content": null,
            "visibility": null,
            "align_self": null,
            "height": null,
            "min_height": null,
            "padding": null,
            "grid_auto_rows": null,
            "grid_gap": null,
            "max_width": null,
            "order": null,
            "_view_module_version": "1.2.0",
            "grid_template_areas": null,
            "object_position": null,
            "object_fit": null,
            "grid_auto_columns": null,
            "margin": null,
            "display": null,
            "left": null
          }
        },
        "8723c10e22fb46c3a7b437fdde69a6f1": {
          "model_module": "@jupyter-widgets/controls",
          "model_name": "HBoxModel",
          "model_module_version": "1.5.0",
          "state": {
            "_view_name": "HBoxView",
            "_dom_classes": [],
            "_model_name": "HBoxModel",
            "_view_module": "@jupyter-widgets/controls",
            "_model_module_version": "1.5.0",
            "_view_count": null,
            "_view_module_version": "1.5.0",
            "box_style": "",
            "layout": "IPY_MODEL_566b6bea1dbf4431b1f16b9ee5ada81d",
            "_model_module": "@jupyter-widgets/controls",
            "children": [
              "IPY_MODEL_c647d1a9b4514d6693fcd503ae1f7857",
              "IPY_MODEL_aa8d5001596b4113a8fca2e07e184aa7",
              "IPY_MODEL_43f9f053b1c64128a29ed1c0032edfb2"
            ]
          }
        },
        "566b6bea1dbf4431b1f16b9ee5ada81d": {
          "model_module": "@jupyter-widgets/base",
          "model_name": "LayoutModel",
          "model_module_version": "1.2.0",
          "state": {
            "_view_name": "LayoutView",
            "grid_template_rows": null,
            "right": null,
            "justify_content": null,
            "_view_module": "@jupyter-widgets/base",
            "overflow": null,
            "_model_module_version": "1.2.0",
            "_view_count": null,
            "flex_flow": null,
            "width": null,
            "min_width": null,
            "border": null,
            "align_items": null,
            "bottom": null,
            "_model_module": "@jupyter-widgets/base",
            "top": null,
            "grid_column": null,
            "overflow_y": null,
            "overflow_x": null,
            "grid_auto_flow": null,
            "grid_area": null,
            "grid_template_columns": null,
            "flex": null,
            "_model_name": "LayoutModel",
            "justify_items": null,
            "grid_row": null,
            "max_height": null,
            "align_content": null,
            "visibility": null,
            "align_self": null,
            "height": null,
            "min_height": null,
            "padding": null,
            "grid_auto_rows": null,
            "grid_gap": null,
            "max_width": null,
            "order": null,
            "_view_module_version": "1.2.0",
            "grid_template_areas": null,
            "object_position": null,
            "object_fit": null,
            "grid_auto_columns": null,
            "margin": null,
            "display": null,
            "left": null
          }
        },
        "c647d1a9b4514d6693fcd503ae1f7857": {
          "model_module": "@jupyter-widgets/controls",
          "model_name": "HTMLModel",
          "model_module_version": "1.5.0",
          "state": {
            "_view_name": "HTMLView",
            "style": "IPY_MODEL_0ea8fe7ca62c41d4a4adb6741fe5bc2f",
            "_dom_classes": [],
            "description": "",
            "_model_name": "HTMLModel",
            "placeholder": "​",
            "_view_module": "@jupyter-widgets/controls",
            "_model_module_version": "1.5.0",
            "value": "100%",
            "_view_count": null,
            "_view_module_version": "1.5.0",
            "description_tooltip": null,
            "_model_module": "@jupyter-widgets/controls",
            "layout": "IPY_MODEL_5691fa65da7846f2ac1f86046001bd64"
          }
        },
        "aa8d5001596b4113a8fca2e07e184aa7": {
          "model_module": "@jupyter-widgets/controls",
          "model_name": "FloatProgressModel",
          "model_module_version": "1.5.0",
          "state": {
            "_view_name": "ProgressView",
            "style": "IPY_MODEL_6d2d220850074b40bfdf630c6a9acd34",
            "_dom_classes": [],
            "description": "",
            "_model_name": "FloatProgressModel",
            "bar_style": "success",
            "max": 401,
            "_view_module": "@jupyter-widgets/controls",
            "_model_module_version": "1.5.0",
            "value": 401,
            "_view_count": null,
            "_view_module_version": "1.5.0",
            "orientation": "horizontal",
            "min": 0,
            "description_tooltip": null,
            "_model_module": "@jupyter-widgets/controls",
            "layout": "IPY_MODEL_816dbcae8ea44af98c09de2f131b1af2"
          }
        },
        "43f9f053b1c64128a29ed1c0032edfb2": {
          "model_module": "@jupyter-widgets/controls",
          "model_name": "HTMLModel",
          "model_module_version": "1.5.0",
          "state": {
            "_view_name": "HTMLView",
            "style": "IPY_MODEL_348ee70b39fe4d9f89a8e8131e0deaf7",
            "_dom_classes": [],
            "description": "",
            "_model_name": "HTMLModel",
            "placeholder": "​",
            "_view_module": "@jupyter-widgets/controls",
            "_model_module_version": "1.5.0",
            "value": " 401/401 [00:23&lt;00:00, 11.96it/s]",
            "_view_count": null,
            "_view_module_version": "1.5.0",
            "description_tooltip": null,
            "_model_module": "@jupyter-widgets/controls",
            "layout": "IPY_MODEL_a34b66ad22444a0298ab89e360e5c7bd"
          }
        },
        "0ea8fe7ca62c41d4a4adb6741fe5bc2f": {
          "model_module": "@jupyter-widgets/controls",
          "model_name": "DescriptionStyleModel",
          "model_module_version": "1.5.0",
          "state": {
            "_view_name": "StyleView",
            "_model_name": "DescriptionStyleModel",
            "description_width": "",
            "_view_module": "@jupyter-widgets/base",
            "_model_module_version": "1.5.0",
            "_view_count": null,
            "_view_module_version": "1.2.0",
            "_model_module": "@jupyter-widgets/controls"
          }
        },
        "5691fa65da7846f2ac1f86046001bd64": {
          "model_module": "@jupyter-widgets/base",
          "model_name": "LayoutModel",
          "model_module_version": "1.2.0",
          "state": {
            "_view_name": "LayoutView",
            "grid_template_rows": null,
            "right": null,
            "justify_content": null,
            "_view_module": "@jupyter-widgets/base",
            "overflow": null,
            "_model_module_version": "1.2.0",
            "_view_count": null,
            "flex_flow": null,
            "width": null,
            "min_width": null,
            "border": null,
            "align_items": null,
            "bottom": null,
            "_model_module": "@jupyter-widgets/base",
            "top": null,
            "grid_column": null,
            "overflow_y": null,
            "overflow_x": null,
            "grid_auto_flow": null,
            "grid_area": null,
            "grid_template_columns": null,
            "flex": null,
            "_model_name": "LayoutModel",
            "justify_items": null,
            "grid_row": null,
            "max_height": null,
            "align_content": null,
            "visibility": null,
            "align_self": null,
            "height": null,
            "min_height": null,
            "padding": null,
            "grid_auto_rows": null,
            "grid_gap": null,
            "max_width": null,
            "order": null,
            "_view_module_version": "1.2.0",
            "grid_template_areas": null,
            "object_position": null,
            "object_fit": null,
            "grid_auto_columns": null,
            "margin": null,
            "display": null,
            "left": null
          }
        },
        "6d2d220850074b40bfdf630c6a9acd34": {
          "model_module": "@jupyter-widgets/controls",
          "model_name": "ProgressStyleModel",
          "model_module_version": "1.5.0",
          "state": {
            "_view_name": "StyleView",
            "_model_name": "ProgressStyleModel",
            "description_width": "",
            "_view_module": "@jupyter-widgets/base",
            "_model_module_version": "1.5.0",
            "_view_count": null,
            "_view_module_version": "1.2.0",
            "bar_color": null,
            "_model_module": "@jupyter-widgets/controls"
          }
        },
        "816dbcae8ea44af98c09de2f131b1af2": {
          "model_module": "@jupyter-widgets/base",
          "model_name": "LayoutModel",
          "model_module_version": "1.2.0",
          "state": {
            "_view_name": "LayoutView",
            "grid_template_rows": null,
            "right": null,
            "justify_content": null,
            "_view_module": "@jupyter-widgets/base",
            "overflow": null,
            "_model_module_version": "1.2.0",
            "_view_count": null,
            "flex_flow": null,
            "width": null,
            "min_width": null,
            "border": null,
            "align_items": null,
            "bottom": null,
            "_model_module": "@jupyter-widgets/base",
            "top": null,
            "grid_column": null,
            "overflow_y": null,
            "overflow_x": null,
            "grid_auto_flow": null,
            "grid_area": null,
            "grid_template_columns": null,
            "flex": null,
            "_model_name": "LayoutModel",
            "justify_items": null,
            "grid_row": null,
            "max_height": null,
            "align_content": null,
            "visibility": null,
            "align_self": null,
            "height": null,
            "min_height": null,
            "padding": null,
            "grid_auto_rows": null,
            "grid_gap": null,
            "max_width": null,
            "order": null,
            "_view_module_version": "1.2.0",
            "grid_template_areas": null,
            "object_position": null,
            "object_fit": null,
            "grid_auto_columns": null,
            "margin": null,
            "display": null,
            "left": null
          }
        },
        "348ee70b39fe4d9f89a8e8131e0deaf7": {
          "model_module": "@jupyter-widgets/controls",
          "model_name": "DescriptionStyleModel",
          "model_module_version": "1.5.0",
          "state": {
            "_view_name": "StyleView",
            "_model_name": "DescriptionStyleModel",
            "description_width": "",
            "_view_module": "@jupyter-widgets/base",
            "_model_module_version": "1.5.0",
            "_view_count": null,
            "_view_module_version": "1.2.0",
            "_model_module": "@jupyter-widgets/controls"
          }
        },
        "a34b66ad22444a0298ab89e360e5c7bd": {
          "model_module": "@jupyter-widgets/base",
          "model_name": "LayoutModel",
          "model_module_version": "1.2.0",
          "state": {
            "_view_name": "LayoutView",
            "grid_template_rows": null,
            "right": null,
            "justify_content": null,
            "_view_module": "@jupyter-widgets/base",
            "overflow": null,
            "_model_module_version": "1.2.0",
            "_view_count": null,
            "flex_flow": null,
            "width": null,
            "min_width": null,
            "border": null,
            "align_items": null,
            "bottom": null,
            "_model_module": "@jupyter-widgets/base",
            "top": null,
            "grid_column": null,
            "overflow_y": null,
            "overflow_x": null,
            "grid_auto_flow": null,
            "grid_area": null,
            "grid_template_columns": null,
            "flex": null,
            "_model_name": "LayoutModel",
            "justify_items": null,
            "grid_row": null,
            "max_height": null,
            "align_content": null,
            "visibility": null,
            "align_self": null,
            "height": null,
            "min_height": null,
            "padding": null,
            "grid_auto_rows": null,
            "grid_gap": null,
            "max_width": null,
            "order": null,
            "_view_module_version": "1.2.0",
            "grid_template_areas": null,
            "object_position": null,
            "object_fit": null,
            "grid_auto_columns": null,
            "margin": null,
            "display": null,
            "left": null
          }
        },
        "25b83b58e60143b1b580b38a01e9b11b": {
          "model_module": "@jupyter-widgets/controls",
          "model_name": "HBoxModel",
          "model_module_version": "1.5.0",
          "state": {
            "_dom_classes": [],
            "_model_module": "@jupyter-widgets/controls",
            "_model_module_version": "1.5.0",
            "_model_name": "HBoxModel",
            "_view_count": null,
            "_view_module": "@jupyter-widgets/controls",
            "_view_module_version": "1.5.0",
            "_view_name": "HBoxView",
            "box_style": "",
            "children": [
              "IPY_MODEL_2978cd1143194f30bcce284927c0c6c2",
              "IPY_MODEL_507e76f6647248f8b9f387fa492e88a2",
              "IPY_MODEL_10194e8a8d234459b755f30968fab1ad"
            ],
            "layout": "IPY_MODEL_bf3e2696ddd44b94a3e965b3c4e72101"
          }
        },
        "2978cd1143194f30bcce284927c0c6c2": {
          "model_module": "@jupyter-widgets/controls",
          "model_name": "HTMLModel",
          "model_module_version": "1.5.0",
          "state": {
            "_dom_classes": [],
            "_model_module": "@jupyter-widgets/controls",
            "_model_module_version": "1.5.0",
            "_model_name": "HTMLModel",
            "_view_count": null,
            "_view_module": "@jupyter-widgets/controls",
            "_view_module_version": "1.5.0",
            "_view_name": "HTMLView",
            "description": "",
            "description_tooltip": null,
            "layout": "IPY_MODEL_13581d7a71cd485797dea75a78d2b859",
            "placeholder": "​",
            "style": "IPY_MODEL_f6663c775d3646008049b917b24eab6e",
            "value": "100%"
          }
        },
        "507e76f6647248f8b9f387fa492e88a2": {
          "model_module": "@jupyter-widgets/controls",
          "model_name": "FloatProgressModel",
          "model_module_version": "1.5.0",
          "state": {
            "_dom_classes": [],
            "_model_module": "@jupyter-widgets/controls",
            "_model_module_version": "1.5.0",
            "_model_name": "FloatProgressModel",
            "_view_count": null,
            "_view_module": "@jupyter-widgets/controls",
            "_view_module_version": "1.5.0",
            "_view_name": "ProgressView",
            "bar_style": "success",
            "description": "",
            "description_tooltip": null,
            "layout": "IPY_MODEL_e96bffec84a249158febd02b8d604fe0",
            "max": 150,
            "min": 0,
            "orientation": "horizontal",
            "style": "IPY_MODEL_27c112915f4245c5aa59ee72c8c3ed8d",
            "value": 150
          }
        },
        "10194e8a8d234459b755f30968fab1ad": {
          "model_module": "@jupyter-widgets/controls",
          "model_name": "HTMLModel",
          "model_module_version": "1.5.0",
          "state": {
            "_dom_classes": [],
            "_model_module": "@jupyter-widgets/controls",
            "_model_module_version": "1.5.0",
            "_model_name": "HTMLModel",
            "_view_count": null,
            "_view_module": "@jupyter-widgets/controls",
            "_view_module_version": "1.5.0",
            "_view_name": "HTMLView",
            "description": "",
            "description_tooltip": null,
            "layout": "IPY_MODEL_bfe0af10e6db4a2bbb5ab4a19c465f65",
            "placeholder": "​",
            "style": "IPY_MODEL_9ca77b12720c4746b3190d6f64e28d37",
            "value": " 150/150 [00:05&lt;00:00, 30.47it/s]"
          }
        },
        "bf3e2696ddd44b94a3e965b3c4e72101": {
          "model_module": "@jupyter-widgets/base",
          "model_name": "LayoutModel",
          "model_module_version": "1.2.0",
          "state": {
            "_model_module": "@jupyter-widgets/base",
            "_model_module_version": "1.2.0",
            "_model_name": "LayoutModel",
            "_view_count": null,
            "_view_module": "@jupyter-widgets/base",
            "_view_module_version": "1.2.0",
            "_view_name": "LayoutView",
            "align_content": null,
            "align_items": null,
            "align_self": null,
            "border": null,
            "bottom": null,
            "display": null,
            "flex": null,
            "flex_flow": null,
            "grid_area": null,
            "grid_auto_columns": null,
            "grid_auto_flow": null,
            "grid_auto_rows": null,
            "grid_column": null,
            "grid_gap": null,
            "grid_row": null,
            "grid_template_areas": null,
            "grid_template_columns": null,
            "grid_template_rows": null,
            "height": null,
            "justify_content": null,
            "justify_items": null,
            "left": null,
            "margin": null,
            "max_height": null,
            "max_width": null,
            "min_height": null,
            "min_width": null,
            "object_fit": null,
            "object_position": null,
            "order": null,
            "overflow": null,
            "overflow_x": null,
            "overflow_y": null,
            "padding": null,
            "right": null,
            "top": null,
            "visibility": null,
            "width": null
          }
        },
        "13581d7a71cd485797dea75a78d2b859": {
          "model_module": "@jupyter-widgets/base",
          "model_name": "LayoutModel",
          "model_module_version": "1.2.0",
          "state": {
            "_model_module": "@jupyter-widgets/base",
            "_model_module_version": "1.2.0",
            "_model_name": "LayoutModel",
            "_view_count": null,
            "_view_module": "@jupyter-widgets/base",
            "_view_module_version": "1.2.0",
            "_view_name": "LayoutView",
            "align_content": null,
            "align_items": null,
            "align_self": null,
            "border": null,
            "bottom": null,
            "display": null,
            "flex": null,
            "flex_flow": null,
            "grid_area": null,
            "grid_auto_columns": null,
            "grid_auto_flow": null,
            "grid_auto_rows": null,
            "grid_column": null,
            "grid_gap": null,
            "grid_row": null,
            "grid_template_areas": null,
            "grid_template_columns": null,
            "grid_template_rows": null,
            "height": null,
            "justify_content": null,
            "justify_items": null,
            "left": null,
            "margin": null,
            "max_height": null,
            "max_width": null,
            "min_height": null,
            "min_width": null,
            "object_fit": null,
            "object_position": null,
            "order": null,
            "overflow": null,
            "overflow_x": null,
            "overflow_y": null,
            "padding": null,
            "right": null,
            "top": null,
            "visibility": null,
            "width": null
          }
        },
        "f6663c775d3646008049b917b24eab6e": {
          "model_module": "@jupyter-widgets/controls",
          "model_name": "DescriptionStyleModel",
          "model_module_version": "1.5.0",
          "state": {
            "_model_module": "@jupyter-widgets/controls",
            "_model_module_version": "1.5.0",
            "_model_name": "DescriptionStyleModel",
            "_view_count": null,
            "_view_module": "@jupyter-widgets/base",
            "_view_module_version": "1.2.0",
            "_view_name": "StyleView",
            "description_width": ""
          }
        },
        "e96bffec84a249158febd02b8d604fe0": {
          "model_module": "@jupyter-widgets/base",
          "model_name": "LayoutModel",
          "model_module_version": "1.2.0",
          "state": {
            "_model_module": "@jupyter-widgets/base",
            "_model_module_version": "1.2.0",
            "_model_name": "LayoutModel",
            "_view_count": null,
            "_view_module": "@jupyter-widgets/base",
            "_view_module_version": "1.2.0",
            "_view_name": "LayoutView",
            "align_content": null,
            "align_items": null,
            "align_self": null,
            "border": null,
            "bottom": null,
            "display": null,
            "flex": null,
            "flex_flow": null,
            "grid_area": null,
            "grid_auto_columns": null,
            "grid_auto_flow": null,
            "grid_auto_rows": null,
            "grid_column": null,
            "grid_gap": null,
            "grid_row": null,
            "grid_template_areas": null,
            "grid_template_columns": null,
            "grid_template_rows": null,
            "height": null,
            "justify_content": null,
            "justify_items": null,
            "left": null,
            "margin": null,
            "max_height": null,
            "max_width": null,
            "min_height": null,
            "min_width": null,
            "object_fit": null,
            "object_position": null,
            "order": null,
            "overflow": null,
            "overflow_x": null,
            "overflow_y": null,
            "padding": null,
            "right": null,
            "top": null,
            "visibility": null,
            "width": null
          }
        },
        "27c112915f4245c5aa59ee72c8c3ed8d": {
          "model_module": "@jupyter-widgets/controls",
          "model_name": "ProgressStyleModel",
          "model_module_version": "1.5.0",
          "state": {
            "_model_module": "@jupyter-widgets/controls",
            "_model_module_version": "1.5.0",
            "_model_name": "ProgressStyleModel",
            "_view_count": null,
            "_view_module": "@jupyter-widgets/base",
            "_view_module_version": "1.2.0",
            "_view_name": "StyleView",
            "bar_color": null,
            "description_width": ""
          }
        },
        "bfe0af10e6db4a2bbb5ab4a19c465f65": {
          "model_module": "@jupyter-widgets/base",
          "model_name": "LayoutModel",
          "model_module_version": "1.2.0",
          "state": {
            "_model_module": "@jupyter-widgets/base",
            "_model_module_version": "1.2.0",
            "_model_name": "LayoutModel",
            "_view_count": null,
            "_view_module": "@jupyter-widgets/base",
            "_view_module_version": "1.2.0",
            "_view_name": "LayoutView",
            "align_content": null,
            "align_items": null,
            "align_self": null,
            "border": null,
            "bottom": null,
            "display": null,
            "flex": null,
            "flex_flow": null,
            "grid_area": null,
            "grid_auto_columns": null,
            "grid_auto_flow": null,
            "grid_auto_rows": null,
            "grid_column": null,
            "grid_gap": null,
            "grid_row": null,
            "grid_template_areas": null,
            "grid_template_columns": null,
            "grid_template_rows": null,
            "height": null,
            "justify_content": null,
            "justify_items": null,
            "left": null,
            "margin": null,
            "max_height": null,
            "max_width": null,
            "min_height": null,
            "min_width": null,
            "object_fit": null,
            "object_position": null,
            "order": null,
            "overflow": null,
            "overflow_x": null,
            "overflow_y": null,
            "padding": null,
            "right": null,
            "top": null,
            "visibility": null,
            "width": null
          }
        },
        "9ca77b12720c4746b3190d6f64e28d37": {
          "model_module": "@jupyter-widgets/controls",
          "model_name": "DescriptionStyleModel",
          "model_module_version": "1.5.0",
          "state": {
            "_model_module": "@jupyter-widgets/controls",
            "_model_module_version": "1.5.0",
            "_model_name": "DescriptionStyleModel",
            "_view_count": null,
            "_view_module": "@jupyter-widgets/base",
            "_view_module_version": "1.2.0",
            "_view_name": "StyleView",
            "description_width": ""
          }
        }
      }
    }
  },
  "cells": [
    {
      "cell_type": "code",
      "source": [
        "!pip install celluloid"
      ],
      "metadata": {
        "id": "b9EDVSpKAM4N",
        "colab": {
          "base_uri": "https://localhost:8080/"
        },
        "outputId": "006e2cd9-35a4-4b46-9e39-a7138323821e"
      },
      "execution_count": 1,
      "outputs": [
        {
          "output_type": "stream",
          "name": "stdout",
          "text": [
            "Collecting celluloid\n",
            "  Downloading celluloid-0.2.0-py3-none-any.whl (5.4 kB)\n",
            "Requirement already satisfied: matplotlib in /usr/local/lib/python3.7/dist-packages (from celluloid) (3.2.2)\n",
            "Requirement already satisfied: kiwisolver>=1.0.1 in /usr/local/lib/python3.7/dist-packages (from matplotlib->celluloid) (1.3.2)\n",
            "Requirement already satisfied: cycler>=0.10 in /usr/local/lib/python3.7/dist-packages (from matplotlib->celluloid) (0.11.0)\n",
            "Requirement already satisfied: python-dateutil>=2.1 in /usr/local/lib/python3.7/dist-packages (from matplotlib->celluloid) (2.8.2)\n",
            "Requirement already satisfied: pyparsing!=2.0.4,!=2.1.2,!=2.1.6,>=2.0.1 in /usr/local/lib/python3.7/dist-packages (from matplotlib->celluloid) (3.0.7)\n",
            "Requirement already satisfied: numpy>=1.11 in /usr/local/lib/python3.7/dist-packages (from matplotlib->celluloid) (1.21.5)\n",
            "Requirement already satisfied: six>=1.5 in /usr/local/lib/python3.7/dist-packages (from python-dateutil>=2.1->matplotlib->celluloid) (1.15.0)\n",
            "Installing collected packages: celluloid\n",
            "Successfully installed celluloid-0.2.0\n"
          ]
        }
      ]
    },
    {
      "cell_type": "code",
      "execution_count": 2,
      "metadata": {
        "id": "0_BWo3S4wrj6"
      },
      "outputs": [],
      "source": [
        "import numpy as np\n",
        "import matplotlib.pyplot as plt\n",
        "from tqdm.auto import tqdm\n",
        "\n",
        "from scipy.special import gamma, psi as digamma\n",
        "Pi = lambda z: gamma(z+1)\n",
        "diPi = lambda z: digamma(z+1)"
      ]
    },
    {
      "cell_type": "markdown",
      "source": [
        "### Harmonic Series"
      ],
      "metadata": {
        "id": "rkVjuyroMo6V"
      }
    },
    {
      "cell_type": "markdown",
      "source": [
        "wikipedia: https://en.wikipedia.org/wiki/Harmonic_series_(mathematics)"
      ],
      "metadata": {
        "id": "5JramLJdFidI"
      }
    },
    {
      "cell_type": "markdown",
      "source": [
        "The n-th harmonic number is the sum of the reciprocals of the first n natural numbers  \n",
        "$$H_{n} = 1+\\frac{1}{2}+\\frac{1}{3}+\\cdots+\\frac{1}{n} = \\sum_{k=1}^{n}\\frac{1}{k}$$\n",
        "the harmonic series does not have a finite limit: it is a divergent series\n",
        "<br>\n",
        "<br>\n",
        "<br>\n",
        "The values of the sequence $H_{n} − \\ln n$ decrease monotonically towards the limit  \n",
        "$$\\lim_{n \\to \\infty}(H_{n} - \\ln n) = \\gamma$$\n",
        "where $\\gamma \\approx 0.5772156649$ is the Euler–Mascheroni constant.\n",
        "<br>\n",
        "<br>\n",
        "<br>\n",
        "Relation to diPi function\n",
        "$$H_{n} = \\psi(n) + \\gamma $$\n",
        "where $\\psi(n)$ is the logarithmic derivative of Gauss's Pi function"
      ],
      "metadata": {
        "id": "5Sbe0dAmep8C"
      }
    },
    {
      "cell_type": "markdown",
      "source": [
        "#### approximating $H_{x}$ for a complex number x"
      ],
      "metadata": {
        "id": "qY7qqfCuSmG5"
      }
    },
    {
      "cell_type": "markdown",
      "source": [
        "[Asymptotic formulation](https://en.wikipedia.org/wiki/Harmonic_number#Alternative,_asymptotic_formulation)\n",
        "$$H_{x} = x\\sum_{k=1}^{\\infty}\\frac{1}{k(x+k)}$$"
      ],
      "metadata": {
        "id": "z9EfKtSUGg_6"
      }
    },
    {
      "cell_type": "code",
      "source": [
        "n_terms = 12\n",
        "\n",
        "# only works for ints\n",
        "H = lambda n: sum([1/i for i in range(1,n+1)])\n",
        "\n",
        "# works for real and complex values\n",
        "def H_asymp(x, n=999):\n",
        "  sum_ = 0\n",
        "  for i in range(1,n+1): sum_ += 1/(i*(x+i))\n",
        "  return x*sum_\n",
        "\n",
        "# H_asymp = lambda x,n=999: x * sum([1/(i*(x+i)) for i in range(1,n+1)])\n",
        "\n",
        "inp = np.linspace(0,n_terms,100)\n",
        "H_num = [H(int(np.floor(x))) for x in inp]\n",
        "H_smooth = [H_asymp(x) for x in inp]\n",
        "H_log = np.log(inp) + np.euler_gamma\n",
        "\n",
        "\n",
        "plt.scatter(np.linspace(0,100,n_terms+1), [H(i) for i in range(0,n_terms+1)], s=25, label='Harmonic number')\n",
        "plt.plot(H_num)\n",
        "plt.plot(H_smooth, label='smooth Harmonic number')\n",
        "plt.plot(H_log, label='Natural log + γ')\n",
        "plt.xticks(ticks=np.linspace(0,100,n_terms+1), labels=np.round(np.linspace(0,n_terms+1,n_terms+2),1))\n",
        "plt.ylim(bottom=0)\n",
        "plt.legend()\n",
        "plt.show()"
      ],
      "metadata": {
        "colab": {
          "base_uri": "https://localhost:8080/",
          "height": 282
        },
        "id": "8rKUBSWfwwM5",
        "outputId": "89ae3361-363a-44b7-f60f-bc89822cc023"
      },
      "execution_count": 3,
      "outputs": [
        {
          "output_type": "stream",
          "name": "stderr",
          "text": [
            "/usr/local/lib/python3.7/dist-packages/ipykernel_launcher.py:17: RuntimeWarning: divide by zero encountered in log\n"
          ]
        },
        {
          "output_type": "display_data",
          "data": {
            "text/plain": [
              "<Figure size 432x288 with 1 Axes>"
            ],
            "image/png": "[encoded data removed]"
          },
          "metadata": {
            "needs_background": "light"
          }
        }
      ]
    },
    {
      "cell_type": "markdown",
      "source": [
        "#### approximating the [Euler–Mascheroni constant](https://en.wikipedia.org/wiki/Euler%27s_constant)"
      ],
      "metadata": {
        "id": "e_DsDMpf33sK"
      }
    },
    {
      "cell_type": "markdown",
      "source": [
        "$$\\lim_{n \\to \\infty}(H_{n} - \\ln n) = \\gamma = \\int_{1}^{\\infty}\\frac{1}{\\lfloor x \\rfloor} - \\frac{1}{x}$$"
      ],
      "metadata": {
        "id": "Qa7iuXrxATxF"
      }
    },
    {
      "cell_type": "code",
      "source": [
        "n_terms = 12\n",
        "\n",
        "H = lambda n: sum([1/i for i in range(1,n+1)])\n",
        "\n",
        "fig, axs = plt.subplots(1,2, figsize=(15,5))\n",
        "\n",
        "inp = np.linspace(1,n_terms,100)\n",
        "Hns = [1/np.floor(i) for i in inp]\n",
        "lns = [1/i for i in inp]\n",
        "\n",
        "plt.axes(axs[0])\n",
        "plt.title('1/floor(x) - 1/x')\n",
        "#plt.bar(x=np.linspace(1,100,n_terms),height=Hns, width=99/(n_terms-1), align='edge', zorder=0)\n",
        "plt.fill_between(range(len(inp)), Hns, label='1/floor(x)')\n",
        "plt.xticks(ticks=np.linspace(0,100,n_terms), labels=np.round(np.linspace(1,n_terms,n_terms),1))\n",
        "#plt.plot(lns, c='yellow')\n",
        "plt.fill_between(range(len(inp)), lns, color='gray', label='1/x)')\n",
        "plt.legend()\n",
        "\n",
        "\n",
        "inp = range(1,n_terms+1)\n",
        "Hns = [H(i) for i in range(1,n_terms+1)]\n",
        "lns = [np.log(i) for i in inp]\n",
        "diffs = [Hn-ln for Hn,ln in zip(Hns,lns)]\n",
        "\n",
        "plt.axes(axs[1])\n",
        "plt.title('H(n) - ln(n)')\n",
        "plt.plot(diffs)\n",
        "plt.scatter(range(len(diffs)),diffs, label='H(n) - ln(n)')\n",
        "for i, diff in enumerate(diffs): plt.annotate(np.round(diff,3), (i,diffs[i]), fontsize=8)\n",
        "plt.xticks(ticks=range(n_terms), labels=range(1,n_terms+1))\n",
        "plt.axhline(y=np.euler_gamma, color='y', linestyle='--', label=f'γ = {np.round(np.euler_gamma,6)}')\n",
        "plt.legend()\n",
        "\n",
        "plt.show()"
      ],
      "metadata": {
        "colab": {
          "base_uri": "https://localhost:8080/",
          "height": 336
        },
        "id": "8ni39y1TXvKQ",
        "outputId": "180484ac-5d30-43ea-f477-83aa2c13b429"
      },
      "execution_count": 4,
      "outputs": [
        {
          "output_type": "display_data",
          "data": {
            "text/plain": [
              "<Figure size 1080x360 with 2 Axes>"
            ],
            "image/png": "[encoded data removed]"
          },
          "metadata": {
            "needs_background": "light"
          }
        }
      ]
    },
    {
      "cell_type": "markdown",
      "source": [
        "### DiPi function"
      ],
      "metadata": {
        "id": "RFgEOfAoHp78"
      }
    },
    {
      "cell_type": "markdown",
      "source": [
        "plotting the logarithmic derivative of Gauss's Pi(z) which is basically [Digamma](https://en.wikipedia.org/wiki/Digamma_function)(z+1)"
      ],
      "metadata": {
        "id": "oJzX6PhnIE0L"
      }
    },
    {
      "cell_type": "code",
      "source": [
        "x = np.linspace(-6,6,1000)\n",
        "y = diPi(x)\n",
        "\n",
        "signchange = lambda x: np.where(x[:-1] * x[1:] < 0 )[0] +1\n",
        "\n",
        "pos = signchange(y)\n",
        "x[pos], y[pos] = np.nan, np.nan\n",
        "\n",
        "for i in range(-6,0): plt.axvline(x=i, color='b', ls='--')\n",
        "plt.axhline(y=0, color='k', lw=1)\n",
        "plt.ylim(-5,5)\n",
        "\n",
        "plt.plot(x,y, label='diPi(x)')\n",
        "plt.title(\"logarithmic derivative of Gauss's Pi(x)\")\n",
        "plt.legend()\n",
        "plt.show()"
      ],
      "metadata": {
        "colab": {
          "base_uri": "https://localhost:8080/",
          "height": 281
        },
        "id": "5tb9r1o2cfLo",
        "outputId": "2a2d8902-8b86-4e88-aba6-2a17ee86cf06"
      },
      "execution_count": 5,
      "outputs": [
        {
          "output_type": "display_data",
          "data": {
            "text/plain": [
              "<Figure size 432x288 with 1 Axes>"
            ],
            "image/png": "[encoded data removed]"
          },
          "metadata": {
            "needs_background": "light"
          }
        }
      ]
    },
    {
      "cell_type": "code",
      "source": [
        "# from PIL import Image\n",
        "from matplotlib.colors import hsv_to_rgb, rgb_to_hsv"
      ],
      "metadata": {
        "id": "aAQi9PeCmkSY"
      },
      "execution_count": 6,
      "outputs": []
    },
    {
      "cell_type": "code",
      "source": [
        "# define size\n",
        "# using top left and bottom right coordinates\n",
        "img_size = ((0,0),(512,512))\n",
        "plot_size = ((-6,-6),(6,6))\n",
        "(plot_x0,plot_y0), (plot_x1,plot_y1) = plot_size\n",
        "(img_x0,img_y0), (img_x1,img_y1) = img_size\n",
        "\n",
        "# define parameters\n",
        "plot_xStep = (plot_x1-plot_x0)/(img_x1-img_x0)\n",
        "plot_yStep = (plot_y1-plot_y0)/(img_y1-img_y0)\n",
        "params = {\"plot_xStep\":plot_xStep, \"plot_yStep\":plot_yStep} "
      ],
      "metadata": {
        "id": "dcjLd8ZMtjv5"
      },
      "execution_count": 7,
      "outputs": []
    },
    {
      "cell_type": "markdown",
      "source": [
        "#### using loops"
      ],
      "metadata": {
        "id": "02HwPHew_Ljq"
      }
    },
    {
      "cell_type": "markdown",
      "source": [
        "iterating over rows and columns of the image\n",
        "\n",
        "slow approach"
      ],
      "metadata": {
        "id": "7XU_FKyf_Ph9"
      }
    },
    {
      "cell_type": "code",
      "source": [
        "def plotToImg(plot_size,img_size,point):\n",
        "  (plot_x0,plot_y0), (plot_x1,plot_y1) = plot_size\n",
        "  (img_x0,img_y0), (img_x1,img_y1) = img_size\n",
        "  img_x1 -= 1;  img_y1 -= 1\n",
        "\n",
        "  x0, y0 = point\n",
        "  x1 = round((x0-plot_x0)*(img_x1-img_x0)/(plot_x1-plot_x0) + img_x0)\n",
        "  y1 = round((y0-plot_y0)*(img_y0-img_y1)/(plot_y1-plot_y0) + img_y1)\n",
        "  return x1,y1\n",
        "\n",
        "def plot_func(plot_size,img_size,params):\n",
        "\n",
        "  (plot_x0,plot_y0), (plot_x1,plot_y1) = plot_size\n",
        "  (img_x0,img_y0), (img_x1,img_y1) = img_size\n",
        "  img_w = img_x1 - img_x0\n",
        "  img_h = img_y1 - img_y0\n",
        "\n",
        "  #img = Image.new('HSV', (img_w, img_h), (0,0,0))\n",
        "  img = np.zeros((img_w, img_h, 3))\n",
        "  for x in tqdm(np.arange(plot_x0, plot_x1+params[\"plot_xStep\"], params[\"plot_xStep\"])):    # have added step size to endpoints to include them\n",
        "    for y in np.arange(plot_y0, plot_y1+params[\"plot_xStep\"], params[\"plot_yStep\"]):\n",
        "\n",
        "      z = x+y*1j\n",
        "\n",
        "      z = diPi(z)\n",
        "      if np.isnan(z): z=0\n",
        "      \n",
        "      # color depends on the angle of the roots\n",
        "      angle = ( (0 + np.angle(z, deg=True)) %360)/360   # [0,1]\n",
        "      h = angle\n",
        "      s = 1\n",
        "\n",
        "      z_max = abs(diPi(5+5j))\n",
        "      z_bound = z_max/6\n",
        "\n",
        "      # some approaches to domain coloring\n",
        "      # v = abs(z)\n",
        "      # v = (abs(z)**.5)*(z_max**0.5)\n",
        "      v = np.log(1+abs(z))*(z_max/np.log(1+z_max))\n",
        "\n",
        "      v = ((v % z_bound)/z_bound)\n",
        "      v = 0.5 + 0.5*v\n",
        "      # Plot the point\n",
        "      #img.putpixel( plotToImg(plot_size,img_size,(x, y)), (h,s,v) )\n",
        "      img[ plotToImg(plot_size,img_size,(x, y)) ] = h,s,v\n",
        "\n",
        "  # use transpose not swapaxes because strides are also reversed\n",
        "  return hsv_to_rgb(img).transpose(1,0,2)"
      ],
      "metadata": {
        "id": "Zn07Za5nth27"
      },
      "execution_count": 8,
      "outputs": []
    },
    {
      "cell_type": "markdown",
      "source": [
        "#### using np arrays"
      ],
      "metadata": {
        "id": "hDuOeG07_UfN"
      }
    },
    {
      "cell_type": "markdown",
      "source": [
        "working with all grid indices simultaneously\n",
        "\n",
        "fast approach"
      ],
      "metadata": {
        "id": "l1SsAWiN_Xyw"
      }
    },
    {
      "cell_type": "code",
      "source": [
        "def plot_func(plot_size,img_size,params, returnVals=False):\n",
        "\n",
        "  (plot_x0,plot_y0), (plot_x1,plot_y1) = plot_size\n",
        "  (img_x0,img_y0), (img_x1,img_y1) = img_size\n",
        "  img_w = img_x1 - img_x0\n",
        "  img_h = img_y1 - img_y0\n",
        "\n",
        "  #img = Image.new('HSV', (img_w, img_h), (0,0,0))\n",
        "  img = np.zeros((img_w, img_h, 3))\n",
        "\n",
        "  x = np.arange(plot_x0, plot_x1+params[\"plot_xStep\"], params[\"plot_xStep\"])\n",
        "  y = np.arange(plot_y0, plot_y1+params[\"plot_xStep\"], params[\"plot_yStep\"])\n",
        "  xx, yy = np.meshgrid(x,y)\n",
        "  zz = xx + yy*1j\n",
        "  zz = diPi(zz)\n",
        "  zz[np.isnan(zz)] = 0\n",
        "\n",
        "  # color depends on the angle of the roots\n",
        "  angle = ( (0 + np.angle(zz, deg=True)) %360)/360   # [0,1]\n",
        "  h = angle\n",
        "  s = np.ones_like(zz, dtype=float)\n",
        "\n",
        "  # v = 0.5 * abs(zz)\n",
        "  v = np.log(1 + abs(zz))\n",
        "  v = v / (5 + v)  # [0,1]\n",
        "\n",
        "  # parameter to control the number of waves\n",
        "  z_bound = 0.03\n",
        "  v = ((v % z_bound)/z_bound)\n",
        "  v = 0.5 + 0.5*v # [0,1] -> [0.5,1]\n",
        "  \n",
        "  img = np.dstack((h,s,v))  \n",
        "  return hsv_to_rgb(img) if not returnVals else (zz, hsv_to_rgb(img))"
      ],
      "metadata": {
        "id": "VAQ10NRr6a24"
      },
      "execution_count": 9,
      "outputs": []
    },
    {
      "cell_type": "code",
      "source": [
        "img = plot_func(plot_size,img_size,params)\n",
        "# plt.imshow(img)   # uncomment to see raw img"
      ],
      "metadata": {
        "id": "_wB29Flcuhb3"
      },
      "execution_count": 10,
      "outputs": []
    },
    {
      "cell_type": "code",
      "source": [
        "dpi = plt.rcParams['figure.dpi'] # get the default dpi value\n",
        "dpi=50\n",
        "fig_size = np.array(img.shape[:2])//dpi # figure size\n",
        "\n",
        "fig, ax = plt.subplots(figsize=fig_size)\n",
        "ax.imshow(img)\n",
        "\n",
        "# xlen = 2*len(ax.get_xticks())\n",
        "# ylen = 2*len(ax.get_yticks())\n",
        "xlen, ylen = 12, 12\n",
        "\n",
        "xlen += (xlen+1)%2; ylen += (ylen+1)%2\n",
        "xticks = np.linspace(img_x0,img_x1-1,xlen)\n",
        "yticks = np.linspace(img_y0,img_y1-1,ylen)\n",
        "xlabels = np.round(np.linspace(plot_x0,plot_x1,xlen),2)\n",
        "ylabels = np.round(np.linspace(plot_y1,plot_y0,ylen),2)\n",
        "ylabels = [str(l)+'i' for l in ylabels]\n",
        "\n",
        "ax.set_xticks(xticks)\n",
        "ax.set_xticklabels(xlabels)\n",
        "ax.set_yticks(yticks)\n",
        "ax.set_yticklabels(ylabels)\n",
        "ax.set_xlabel(\"Re\")\n",
        "ax.set_ylabel(\"Im\")\n",
        "ax.set_title(\"logarithmic derivative of Gauss's Pi(z) visualized in discontinuous domain coloring\")\n",
        "\n",
        "ax.set_frame_on(False)"
      ],
      "metadata": {
        "colab": {
          "base_uri": "https://localhost:8080/",
          "height": 621
        },
        "id": "YGWJ75l3vw-z",
        "outputId": "cdbca00f-beb6-45d5-d32b-e343198cbbc0"
      },
      "execution_count": 11,
      "outputs": [
        {
          "output_type": "display_data",
          "data": {
            "text/plain": [
              "<Figure size 720x720 with 1 Axes>"
            ],
            "image/png": "[encoded data removed]"
          },
          "metadata": {
            "needs_background": "light"
          }
        }
      ]
    },
    {
      "cell_type": "markdown",
      "source": [
        "#### animate the waves"
      ],
      "metadata": {
        "id": "6r4hKyS9ABlf"
      }
    },
    {
      "cell_type": "code",
      "source": [
        "from celluloid import Camera\n",
        "from matplotlib import animation"
      ],
      "metadata": {
        "id": "0xwfUIisALbw"
      },
      "execution_count": 12,
      "outputs": []
    },
    {
      "cell_type": "markdown",
      "source": [
        "##### constant waves"
      ],
      "metadata": {
        "id": "OvrUfcynbKLC"
      }
    },
    {
      "cell_type": "code",
      "source": [
        "camera = Camera(fig)\n",
        "hsv_img = rgb_to_hsv(img)\n",
        "\n",
        "for i in tqdm(range(150)):\n",
        "\n",
        "  x = hsv_img.copy()\n",
        "  x[:,:,2] = 0.5 + (x[:,:,2]-(i/149)) % 0.5\n",
        "\n",
        "  # x[:,:,2] = 0.5 + (x[:,:,2]-(2*(i//2)/149)) % 0.5  # 2x laggier\n",
        "  # x[:,:,2] = 0.5 + (x[:,:,2]-(2*i/149)) % 0.5  # 2x faster\n",
        "\n",
        "  # other options to change speed speed:\n",
        "  # - increase/decrease the fps when saving the animation\n",
        "  # - increase/decrease the number frames by increasing the range\n",
        "\n",
        "  x = hsv_to_rgb(x)\n",
        "\n",
        "  ax.imshow(x)\n",
        "  camera.snap()\n",
        "\n",
        "my_animation = camera.animate(interval=30, repeat=False)  # interval affects dislpay animation speed"
      ],
      "metadata": {
        "colab": {
          "base_uri": "https://localhost:8080/",
          "height": 49,
          "referenced_widgets": [
            "25b83b58e60143b1b580b38a01e9b11b",
            "2978cd1143194f30bcce284927c0c6c2",
            "507e76f6647248f8b9f387fa492e88a2",
            "10194e8a8d234459b755f30968fab1ad",
            "bf3e2696ddd44b94a3e965b3c4e72101",
            "13581d7a71cd485797dea75a78d2b859",
            "f6663c775d3646008049b917b24eab6e",
            "e96bffec84a249158febd02b8d604fe0",
            "27c112915f4245c5aa59ee72c8c3ed8d",
            "bfe0af10e6db4a2bbb5ab4a19c465f65",
            "9ca77b12720c4746b3190d6f64e28d37"
          ]
        },
        "id": "NLgjbkP1ASEQ",
        "outputId": "27b90a0e-11c2-41f0-8b28-abcc74b25fb1"
      },
      "execution_count": 26,
      "outputs": [
        {
          "output_type": "display_data",
          "data": {
            "text/plain": [
              "  0%|          | 0/150 [00:00<?, ?it/s]"
            ],
            "application/vnd.jupyter.widget-view+json": {
              "version_major": 2,
              "version_minor": 0,
              "model_id": "25b83b58e60143b1b580b38a01e9b11b"
            }
          },
          "metadata": {}
        }
      ]
    },
    {
      "cell_type": "code",
      "source": [
        "my_animation.save('waves_constant.gif', writer=animation.PillowWriter(fps=30))  # fps affects saved animation speed\n",
        "#my_animation.save('waves_constant.mp4', writer=animation.FFMpegWriter(fps=30))"
      ],
      "metadata": {
        "id": "4zBLzXaNA6hM"
      },
      "execution_count": 27,
      "outputs": []
    },
    {
      "cell_type": "markdown",
      "source": [
        "##### gradual waves"
      ],
      "metadata": {
        "id": "ro10E8WlbYYJ"
      }
    },
    {
      "cell_type": "code",
      "source": [
        "zz, img = plot_func(plot_size,img_size,params, returnVals=True)\n",
        "z_max = np.max(abs(zz))\n",
        "\n",
        "camera = Camera(fig)\n",
        "hsv_img = rgb_to_hsv(img)\n",
        "ln_scale = lambda x, x_max: np.log(1+x)*(x_max/np.log(1+x_max))\n",
        "\n",
        "for i in tqdm(range(401)):\n",
        "  \n",
        "  if i<200:\n",
        "    j = i\n",
        "  elif i<400:\n",
        "    j = i%200\n",
        "    j = 200 - j*0.55\n",
        "  else:\n",
        "    j = 200\n",
        "    j = 200 - j*0.55  \n",
        "\n",
        "  x = ln_scale(j,200)\n",
        "  x = ln_scale(x,200)\n",
        "  z_bound = 1 - 0.99*(x/200)\n",
        "\n",
        "  v = abs(zz)\n",
        "  v = v / (10 + v)  # [0,1]\n",
        "\n",
        "  v = (v % z_bound) / z_bound\n",
        "  v = 0.5 + 0.5*v\n",
        "\n",
        "  x = hsv_img.copy()\n",
        "  x[:,:,2] = v\n",
        "  x = hsv_to_rgb(x)\n",
        "\n",
        "  ax.imshow(x)\n",
        "  camera.snap()\n",
        "\n",
        "my_animation = camera.animate(interval=30, repeat=False)"
      ],
      "metadata": {
        "colab": {
          "base_uri": "https://localhost:8080/",
          "height": 49,
          "referenced_widgets": [
            "8723c10e22fb46c3a7b437fdde69a6f1",
            "566b6bea1dbf4431b1f16b9ee5ada81d",
            "c647d1a9b4514d6693fcd503ae1f7857",
            "aa8d5001596b4113a8fca2e07e184aa7",
            "43f9f053b1c64128a29ed1c0032edfb2",
            "0ea8fe7ca62c41d4a4adb6741fe5bc2f",
            "5691fa65da7846f2ac1f86046001bd64",
            "6d2d220850074b40bfdf630c6a9acd34",
            "816dbcae8ea44af98c09de2f131b1af2",
            "348ee70b39fe4d9f89a8e8131e0deaf7",
            "a34b66ad22444a0298ab89e360e5c7bd"
          ]
        },
        "outputId": "a7027599-747f-4fae-ea62-c57028a3e911",
        "id": "7hnHwY5FbYYK"
      },
      "execution_count": null,
      "outputs": [
        {
          "output_type": "display_data",
          "data": {
            "application/vnd.jupyter.widget-view+json": {
              "model_id": "8723c10e22fb46c3a7b437fdde69a6f1",
              "version_minor": 0,
              "version_major": 2
            },
            "text/plain": [
              "  0%|          | 0/401 [00:00<?, ?it/s]"
            ]
          },
          "metadata": {}
        }
      ]
    },
    {
      "cell_type": "code",
      "source": [
        "my_animation.save('waves_gradual.gif', writer=animation.PillowWriter(fps=30))\n",
        "#my_animation.save('waves_gradual.mp4', writer=animation.FFMpegWriter(fps=30))"
      ],
      "metadata": {
        "id": "5xwkSn1rbYYM"
      },
      "execution_count": null,
      "outputs": []
    },
    {
      "cell_type": "markdown",
      "source": [
        "### Random harmonic series"
      ],
      "metadata": {
        "id": "c0-f829lMmSv"
      }
    },
    {
      "cell_type": "code",
      "source": [
        "from sklearn.neighbors import KernelDensity"
      ],
      "metadata": {
        "id": "KIaBQuxkmnRG"
      },
      "execution_count": null,
      "outputs": []
    },
    {
      "cell_type": "code",
      "source": [
        "N = 1000000\n",
        "sums = []\n",
        "\n",
        "for _ in tqdm(range(N)):\n",
        "  n = 1000\n",
        "  x = 2*np.random.randint(0,2,n)-1\n",
        "  y = np.arange(1,n+1)\n",
        "  x = x / y\n",
        "  sums.append(x.sum())"
      ],
      "metadata": {
        "id": "YeuaTYzXMV6I",
        "outputId": "2ce172fd-d6c0-4488-b2f1-47cddb949fac",
        "colab": {
          "base_uri": "https://localhost:8080/",
          "height": 49,
          "referenced_widgets": [
            "19e00d2d35e84fc2a83b12b7fd83bcf0",
            "0dc0ef5d56cf4eac90a79cf7bc00ebe5",
            "062152d7d341483d80a185959f36da66",
            "fef52fe7f3a04010b6dc52564f44002b",
            "5af69c55d35c48398964627288a14884",
            "e1c701a0c6c5485a9fec4d8f991da706",
            "b9aca4b279aa4fcd827ea807513a5790",
            "2353f13767b74fe5bcc4444c7682abec",
            "49942556e3064e74b7348ca9341a0e7e",
            "3e253b2452834a62960e887ccd0f7db8",
            "9d4b7ca3fef94a9bb170e467a82e6d58"
          ]
        }
      },
      "execution_count": null,
      "outputs": [
        {
          "output_type": "display_data",
          "data": {
            "application/vnd.jupyter.widget-view+json": {
              "model_id": "19e00d2d35e84fc2a83b12b7fd83bcf0",
              "version_minor": 0,
              "version_major": 2
            },
            "text/plain": [
              "  0%|          | 0/1000000 [00:00<?, ?it/s]"
            ]
          },
          "metadata": {}
        }
      ]
    },
    {
      "cell_type": "code",
      "source": [
        "sums = np.array(sums).reshape(-1,1)\n",
        "kde = KernelDensity(bandwidth=0.2, kernel='gaussian')\n",
        "kde.fit(sums)"
      ],
      "metadata": {
        "colab": {
          "base_uri": "https://localhost:8080/"
        },
        "id": "ybRfjjHvv57s",
        "outputId": "467fd4b6-e893-4eb5-9059-7a1194bdad50"
      },
      "execution_count": null,
      "outputs": [
        {
          "output_type": "execute_result",
          "data": {
            "text/plain": [
              "KernelDensity(bandwidth=0.2)"
            ]
          },
          "metadata": {},
          "execution_count": 18
        }
      ]
    },
    {
      "cell_type": "code",
      "source": [
        "x = np.linspace(-4,4,100)[:, None]\n",
        "scores = np.exp(kde.score_samples(x))"
      ],
      "metadata": {
        "id": "fuAZ_RsN1Bbw"
      },
      "execution_count": null,
      "outputs": []
    },
    {
      "cell_type": "code",
      "source": [
        "bins = 1000\n",
        "weights = np.ones_like(sums)/(len(sums)/bins)\n",
        "hist_vals, hist_bins, hist_patches = plt.hist(sums, bins=bins, density=True, label='histogram')\n",
        "\n",
        "first = lambda list_, cond: next((indx, item) for indx, item in enumerate(list_) if cond(item))\n",
        "\n",
        "def print_density_bins(at, hist_bins, hist_vals):\n",
        "  indx, val = first(hist_bins, lambda x: x>-at)\n",
        "  dens1 = hist_vals[indx]\n",
        "  print(f'density at {val:.3}: {dens1:.3}')\n",
        "\n",
        "  indx, val = first(hist_bins, lambda x: x>=at)\n",
        "  dens2 = hist_vals[indx]\n",
        "  print(f'density at {val:.3}: {dens2:.3}')\n",
        "\n",
        "  print(f'avg density: {(dens1+dens2)/2:.3}', end='\\n\\n')\n",
        "\n",
        "\n",
        "def print_density_kde(at, kde):\n",
        "  dens1 = np.exp(kde.score_samples([[-at]]))[0]\n",
        "  dens2 = np.exp(kde.score_samples([[at]]))[0]\n",
        "  print(f'density at {-at}: {dens1:.3}')\n",
        "  print(f'density at {at}: {dens2:.3}')\n",
        "\n",
        "  print(f'avg density: {(dens1+dens2)/2:.3}', end='\\n\\n')\n",
        "\n",
        "print('1) using binning')\n",
        "print('i) probability at +/- 1')\n",
        "print_density_bins(1, hist_bins, hist_vals)\n",
        "print('ii) probability at +/- 2')\n",
        "print_density_bins(2, hist_bins, hist_vals)\n",
        "\n",
        "print('2) using kernel density estimation')\n",
        "print('i) probability at +/- 1')\n",
        "print_density_kde(1, kde)\n",
        "print('ii) probability at +/- 2')\n",
        "print_density_kde(2, kde)\n",
        "\n",
        "plt.plot(x[:,0],scores, c='y', label='KDE')\n",
        "plt.legend()\n",
        "plt.show()"
      ],
      "metadata": {
        "id": "IHGZyq0YMLiV",
        "outputId": "bc0084cb-cbdd-4340-f95f-673d7b1ab3db",
        "colab": {
          "base_uri": "https://localhost:8080/",
          "height": 646
        }
      },
      "execution_count": null,
      "outputs": [
        {
          "output_type": "stream",
          "name": "stdout",
          "text": [
            "1) using binning\n",
            "i) probability at +/- 1\n",
            "density at -0.996: 0.241\n",
            "density at 1.01: 0.241\n",
            "avg density: 0.241\n",
            "\n",
            "ii) probability at +/- 2\n",
            "density at -1.99: 0.129\n",
            "density at 2.0: 0.124\n",
            "avg density: 0.126\n",
            "\n",
            "2) using kernel density estimation\n",
            "i) probability at +/- 1\n",
            "density at -1: 0.239\n",
            "density at 1: 0.24\n",
            "avg density: 0.24\n",
            "\n",
            "ii) probability at +/- 2\n",
            "density at -2: 0.125\n",
            "density at 2: 0.125\n",
            "avg density: 0.125\n",
            "\n"
          ]
        },
        {
          "output_type": "display_data",
          "data": {
            "image/png": "[encoded data removed]",
            "text/plain": [
              "<Figure size 432x288 with 1 Axes>"
            ]
          },
          "metadata": {
            "needs_background": "light"
          }
        }
      ]
    }
  ]
}