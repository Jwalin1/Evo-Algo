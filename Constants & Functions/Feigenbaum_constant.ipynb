{
  "nbformat": 4,
  "nbformat_minor": 0,
  "metadata": {
    "colab": {
      "name": "Feig.ipynb",
      "provenance": [],
      "collapsed_sections": []
    },
    "kernelspec": {
      "name": "python3",
      "display_name": "Python 3"
    }
  },
  "cells": [
    {
      "cell_type": "markdown",
      "metadata": {
        "id": "svN_HtE0gFoz"
      },
      "source": [
        "## Naive approach for calculating Feigenbaum constant"
      ]
    },
    {
      "cell_type": "code",
      "metadata": {
        "id": "8NVoXDDYpTnY"
      },
      "source": [
        "def logistic(r,x,n,values=False):\r\n",
        "  if values:\r\n",
        "    values = []\r\n",
        "    for _ in range(n):\r\n",
        "      x = r*x*(1-x)\r\n",
        "      values.append(x)\r\n",
        "    return x, values\r\n",
        "  else:\r\n",
        "    for _ in range(n):\r\n",
        "      x = r*x*(1-x)\r\n",
        "    return x\r\n",
        "\r\n",
        "\r\n",
        "steps = 2000000\r\n",
        "dx = 0.000001\r\n",
        "max_cycles = 300\r\n",
        "max_incre = 0.1\r\n",
        "min_incre = 0.0000000001"
      ],
      "execution_count": 1,
      "outputs": []
    },
    {
      "cell_type": "code",
      "metadata": {
        "colab": {
          "base_uri": "https://localhost:8080/"
        },
        "id": "el7cPsCbpIqI",
        "outputId": "23337238-a231-4f39-ecba-57096cffd26e"
      },
      "source": [
        "r = 0.0\r\n",
        "incre = max_incre\r\n",
        "values = []\r\n",
        "cycle_check = 1\r\n",
        "\r\n",
        "while (r < 4.0) and (cycle_check < max_cycles):\r\n",
        "    \r\n",
        "    x = logistic(r,0.05,steps)    \r\n",
        "    \r\n",
        "    x1 = logistic(r,x,cycle_check)\r\n",
        "    cycles = cycle_check\r\n",
        "\r\n",
        "    while (not(abs(x1 - x) < dx) and (cycles < max_cycles)):\r\n",
        "        x1 = logistic(r,x1,1)\r\n",
        "        cycles += 1\r\n",
        "\r\n",
        "    if cycles > cycle_check:\r\n",
        "      if incre < min_incre:\r\n",
        "        if cycles == max_cycles:\r\n",
        "          break\r\n",
        "        cycle_check = cycles\r\n",
        "        values.append(r)\r\n",
        "        if len(values) > 3:\r\n",
        "          print (r, cycle_check,(values[-2]-values[-3])/(values[-1]-values[-2]))\r\n",
        "        else:  \r\n",
        "          print (r, cycle_check)\r\n",
        "        incre = max_incre\r\n",
        "      else:\r\n",
        "        r -= incre\r\n",
        "        incre /= 10\r\n",
        "    \r\n",
        "    r += incre"
      ],
      "execution_count": 2,
      "outputs": [
        {
          "output_type": "stream",
          "text": [
            "2.999996430900001 2\n",
            "3.4494884348900015 4\n",
            "3.5440899292899997 8\n",
            "3.564407104800001 16 4.656232572949458\n",
            "3.5687593617500015 32 4.668193018796293\n",
            "3.569691589630004 64 4.6686620764750195\n",
            "3.5698912560500053 128 4.668926702831523\n",
            "3.569934021510005 256 4.668871093720412\n"
          ],
          "name": "stdout"
        }
      ]
    },
    {
      "cell_type": "markdown",
      "metadata": {
        "id": "fOwcNb9MgOKH"
      },
      "source": [
        "## Better approach"
      ]
    },
    {
      "cell_type": "markdown",
      "metadata": {
        "id": "BlgYBG6Yg2gf"
      },
      "source": [
        "code : https://rosettacode.org/wiki/Feigenbaum_constant_calculation <br>\r\n",
        "paper : http://keithbriggs.info/documents/how-to-calc.pdf"
      ]
    },
    {
      "cell_type": "code",
      "metadata": {
        "id": "k46P_RaFgNgK"
      },
      "source": [
        "max_it = 13\r\n",
        "max_it_j = 10"
      ],
      "execution_count": 4,
      "outputs": []
    },
    {
      "cell_type": "code",
      "metadata": {
        "colab": {
          "base_uri": "https://localhost:8080/"
        },
        "id": "8GWuwr_vgYd9",
        "outputId": "ff18be5f-53af-4149-eabe-2d23ac735401"
      },
      "source": [
        "a1 = 1.0\r\n",
        "a2 = 0.0\r\n",
        "d1 = 3.2\r\n",
        "a = 0.0\r\n",
        " \r\n",
        "print(\" i       d\")\r\n",
        "for i in range(2, max_it + 1):\r\n",
        "    a = a1 + (a1 - a2) / d1\r\n",
        "    for j in range(1, max_it_j + 1):\r\n",
        "        x = 0.0\r\n",
        "        y = 0.0\r\n",
        "        for k in range(1, (1 << i) + 1):\r\n",
        "            y = 1.0 - 2.0 * y * x\r\n",
        "            x = a - x * x\r\n",
        "        a = a - x / y\r\n",
        "    d = (a1 - a2) / (a - a1)\r\n",
        "    print(\"{0:2d}    {1:.8f}\".format(i, d))\r\n",
        "    d1 = d\r\n",
        "    a2 = a1\r\n",
        "    a1 = a"
      ],
      "execution_count": 5,
      "outputs": [
        {
          "output_type": "stream",
          "text": [
            " i       d\n",
            " 2    3.21851142\n",
            " 3    4.38567760\n",
            " 4    4.60094928\n",
            " 5    4.65513050\n",
            " 6    4.66611195\n",
            " 7    4.66854858\n",
            " 8    4.66906066\n",
            " 9    4.66917155\n",
            "10    4.66919515\n",
            "11    4.66920026\n",
            "12    4.66920098\n",
            "13    4.66920537\n"
          ],
          "name": "stdout"
        }
      ]
    }
  ]
}